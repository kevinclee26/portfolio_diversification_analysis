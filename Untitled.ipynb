{
 "cells": [
  {
   "cell_type": "code",
   "execution_count": 1,
   "id": "e1158eaa",
   "metadata": {},
   "outputs": [],
   "source": [
    "# import flask\n",
    "from flask import Flask, render_template, redirect, request, make_response, jsonify\n",
    "\n",
    "# import stock_data\n",
    "import pandas_datareader.data as web\n",
    "import matplotlib.pyplot as plt\n",
    "\n",
    "import pandas as pd\n",
    "import numpy as np\n",
    "import datetime\n",
    "\n",
    "from sklearn.decomposition import PCA \n",
    "# import Normalizer\n",
    "from sklearn.preprocessing import Normalizer\n",
    "# import machine learning libraries\n",
    "from sklearn.pipeline import make_pipeline\n",
    "from sklearn.cluster import KMeans\n",
    "\n",
    "import trading_calendars as tc\n",
    "import pytz\n",
    "\n",
    "import time\n"
   ]
  },
  {
   "cell_type": "code",
   "execution_count": 237,
   "id": "c4d04614",
   "metadata": {},
   "outputs": [
    {
     "data": {
      "text/plain": [
       "'2021-01-01'"
      ]
     },
     "execution_count": 237,
     "metadata": {},
     "output_type": "execute_result"
    }
   ],
   "source": [
    "from datetime import date, timedelta\n",
    "(date.today()-timedelta(days=180)).strftime('%Y-%m-%d')"
   ]
  },
  {
   "cell_type": "code",
   "execution_count": 2,
   "id": "77309cb6",
   "metadata": {},
   "outputs": [],
   "source": [
    "def get_data(sym_list, start_date, end_date):\n",
    "\tdata_source='yahoo'\n",
    "\tstart_time=time.time()\n",
    "\tpanel_data=web.DataReader(sym_list, data_source, start_date, end_date)\n",
    "\tpanel_data.to_csv('output/original.csv')\n",
    "\tstock_open=np.array(panel_data['Open']).T\n",
    "\tstock_close=np.array(panel_data['Close']).T\n",
    "\trow, col=stock_close.shape\n",
    "\tmovements=np.zeros([row, col])\n",
    "\tfor i in range(0, row):\n",
    "\t\tmovements[i,:]=np.subtract(stock_close[i,:], stock_open[i,:])\n",
    "\n",
    "\txnys=tc.get_calendar(\"XNYS\")\n",
    "\tdate=xnys.sessions_in_range(\n",
    "\t\t# pd.Timestamp(\"2011-05-20\", tz=pytz.UTC),\n",
    "\t\t# pd.Timestamp(\"2021-05-20\", tz=pytz.UTC)\n",
    "\t\tpd.Timestamp(start_date, tz=pytz.UTC), \n",
    "\t\tpd.Timestamp(end_date, tz=pytz.UTC)\n",
    "\t)\n",
    "\tmovements_df=pd.DataFrame(movements, index=sym_list, columns=date)\n",
    "\tcolumns=list(movements_df.columns)\n",
    "\tnew_columns=[]\n",
    "\tfor each_column in columns: \n",
    "\t    new_columns.append(each_column.tz_convert(None))#.replace('00:00:00+00:00', ''))\n",
    "\tmovements_df.columns=new_columns\n",
    "\tmovements_df.to_csv('output/movements_df.csv')\n",
    "\t# return sym_list, movements\n",
    "\treturn movements_df\n"
   ]
  },
  {
   "cell_type": "code",
   "execution_count": 17,
   "id": "45efb947",
   "metadata": {},
   "outputs": [],
   "source": [
    "\n",
    "# def cluster(movements_df): \n",
    "# \t# create the Normalizer\n",
    "# \tnormalizer=Normalizer()\n",
    "# \t# new=normalizer.fit_transform(movements)\n",
    "# \t# define normalizer\n",
    "# \t# normalizer=Normalizer()\n",
    "# \t# create a K-means model with 10 clusters\n",
    "# \tkmeans=KMeans(n_clusters=10, max_iter=1000)\n",
    "# \t# make a pipeline chaining normalizer and kmeans\n",
    "# \tpipeline=make_pipeline(normalizer,kmeans)\n",
    "# \t# fit pipeline to daily stock movements\n",
    "# \tpipeline.fit(movements_df)\n",
    "\n",
    "# \t# To check how well the algorithm did use print(kmeans.inertia_)\n",
    "# \t#Intertia is a score of how close each cluster is, so a lower inertia score is better. \n",
    "# \t# print(kmeans.inertia_)\n",
    "# \t# predict cluster labels\n",
    "# \tlabels=pipeline.predict(movements_df)\n",
    "# \t# create a DataFrame aligning labels & companies\n",
    "# # \tdf=pd.DataFrame({'labels': labels, 'companies': companies})\n",
    "\n",
    "# \t# display df sorted by cluster labels\n",
    "# \t# print(df.sort_values('labels'))\n",
    "# \t# PCA\n",
    "# \t# visualize the results\n",
    "# # \treduced_data = PCA(n_components = 2).fit_transform(new)\n",
    "# \t# run kmeans on reduced data\n",
    "# # \tkmeans = KMeans(n_clusters=10)\n",
    "# # \tkmeans.fit(reduced_data)\n",
    "# # \tlabels = kmeans.predict(reduced_data)\n",
    "# \t# create DataFrame aligning labels & companies\n",
    "# # \tdf = pd.DataFrame({'labels': labels, 'companies': companies})\n",
    "# # \t# Display df sorted by cluster labels\n",
    "# # \tsorted_df=df.sort_values('labels')\n",
    "# # \tsorted_df[['company_name', 'company_symbol']]=sorted_df['companies'].astype('str').str.replace('(', '').str.replace(')', '').str.replace(\"'\", '').str.split(', ', expand=True)#[1]\n",
    "# # \tsorted_df=sorted_df.replace({'Alphabet Inc. Class A': 'Alphabet Inc. (Class A)', \n",
    "# #                    'Lilly Eli & Co.': 'Lilly (Eli) & Co.'})\n",
    "# \t# combined_df=pd.merge(movements_df, sorted_df, left_index=True, right_on='company_name', how='outer')\n",
    "# \t# combined_df=combined_df.drop(columns=['companies', 'company_name', 'company_symbol'])\n",
    "# \t# for each_cluster in range(0, 10): \n",
    "# \t#     graph_df=combined_df[combined_df['labels']==each_cluster].drop(columns=['labels'])\n",
    "# \t#     graph_df=graph_df.transpose()#.plot()\n",
    "# \t#     # columns=graph_df.iloc[0]\n",
    "# \t#     # graph_df.columns=columns\n",
    "# \t#     columns=graph_df.iloc[0]\n",
    "# \t#     graph_df.columns=columns\n",
    "# \t#     graph_df.iloc[1:].plot(rot=90, legend=False)\n",
    "# \t#     graph_df.plot(rot=90)\n",
    "# \t#     plt.legend(loc='upper left')\n",
    "# \t#     image_links= plt.savefig(f'static/charts/cluster_{each_cluster}.png')\n",
    "# \t# combined_df=pd.merge(movements_df, sorted_df, left_on='Unnamed: 0', right_on='company_name', how='outer')\n",
    "# \t# combined_df=combined_df.drop(columns=['companies', 'company_name', 'company_symbol'])\n",
    "# \t# combined_df\n",
    "# \t# for each_cluster in range(0, 10):\n",
    "# \t#     graph_df=combined_df[combined_df['labels']==each_cluster].drop(columns=['labels'])\n",
    "# \t#     graph_df=graph_df.transpose()#.plot()\n",
    "# \t#     columns=graph_df.iloc[0]\n",
    "# \t#     graph_df.columns=columns\n",
    "# \t#     graph_df.iloc[1:].plot(rot=90, legend=False)\n",
    "# \t# #     plt.subplots(figsize=(6, 2))\n",
    "# \t# #     plt.figure(figsize=(10,10))\n",
    "# \t# #     plt.legend(bbox_to_anchor=(1, 1))\n",
    "# \t#     plt.legend(loc = 'upper left')\n",
    "# \t#     plt.savefig(f'static/charts/cluster_{each_cluster}')\n",
    "# \t# pd.merge(sorted_df, sector_df)\n",
    "# \t# sorted_json =sorted_df.to_json()\n",
    "# \t# sorted\n",
    "# \t# return sorted_json\n",
    "# \t# print('gothere')\n",
    "# \t\t# print(request.form.dict())\n",
    "# \t\t# response=make_response()\n",
    "# \t\t# return response\n",
    "# \tprint('done training')\n",
    "# \t# return sorted_json\n",
    "# \t# table in html string\n",
    "# # \ttable_html=sorted_df.to_html(index=False)\n",
    "\n",
    "# \t# fig, ax=plt.subplots()\n",
    "# \t# plt.plot([1, 2, 3, 4, 5], [1, 2, 3, 4, 5])\n",
    "\n",
    "# \t########KEVIN WE NEED YOUR HELP HERE\n",
    "# \t# plt.plot(date, movements_df[\"Amazon\"])\n",
    "# \t# plt.xlabel(\"Date\")\n",
    "# \t# plt.ylabel(\"Movements\")\n",
    "# \t# plt.title(\"Amazon Stock Movement\")\n",
    "# \t# plt.plot(date, movements_df) #We want to do it on the whole movements_df\n",
    "# \t# fig.savefig('static/charts/cluster_move_one.png')\n",
    "\n",
    "\n",
    "# \t# sorted_df.companies.str.split(expand = True)\n",
    "# \t# sorted_df[[\"labels\",\"companies\", \"symbol\"]]=sorted_df.companies.str.split(\",\", expand =True,)\n",
    "# # \tsorted_df.to_csv('output/sorted_df.csv')\n",
    "# \t# print(sorted_df['companies'].str.split(',', expand=True))\n",
    "# \t#sorted_df[\"companies\"]= sorted_df['companies'].str.split(\",\").str[:3]\n",
    "# \t# merged_df = pd.merge(movements_df, sorted_df, on = companies)\n",
    "# # \treturn table_html\n",
    "# \treturn labels\n"
   ]
  },
  {
   "cell_type": "code",
   "execution_count": 96,
   "id": "0bdbbccb",
   "metadata": {},
   "outputs": [],
   "source": [
    "\n",
    "sym_list=['AMZN', 'AAPL', 'WBA', 'NOC', 'BA', 'LMT', 'MCD', 'INTC', 'NEE', 'IBM', \n",
    "\t\t  'TXN', 'MA', 'MSFT', 'GE', 'GOOGL', 'AXP', 'PEP', 'KO', 'JNJ', 'GM', \n",
    "\t\t  'HCA', 'AMGN', 'JPM', 'NFLX', 'UNH', 'V', 'VMC', 'VZ', 'LNC', 'WM', \n",
    "\t\t  'TGT', 'PLD', 'CVX', 'PXD', 'PGR', 'NUE', 'TJX', 'MMM', 'MDT', 'LLY', \n",
    "\t\t  'MAS', 'KR', 'ABC', 'AMAT', 'DE', 'UPS', 'LEN', 'WHR', 'ADBE', 'CE']\n",
    "end_date = '2012-05-20'\n",
    "start_date = '2011-05-20'"
   ]
  },
  {
   "cell_type": "code",
   "execution_count": 97,
   "id": "8636e1ce",
   "metadata": {},
   "outputs": [],
   "source": [
    "movement_df=get_data(sym_list, start_date, end_date)"
   ]
  },
  {
   "cell_type": "code",
   "execution_count": 204,
   "id": "c2405029",
   "metadata": {},
   "outputs": [],
   "source": [
    "def cluster(movement_df):\n",
    "    normalizer=Normalizer()\n",
    "    inertia=[]\n",
    "    current_inertia=0\n",
    "    movement=normalizer.fit_transform(movement_df)\n",
    "    reduced_data=PCA(n_components=3).fit_transform(movement)\n",
    "    for i in range(2, 15): \n",
    "        kmeans=KMeans(n_clusters=i)\n",
    "        kmeans.fit(reduced_data)\n",
    "        inertia.append(kmeans.inertia_)\n",
    "    plt.plot(list(range(2, 15)), inertia)\n",
    "    diff=[inertia[i]-inertia[i-1] for i in range(1, len(inertia))]\n",
    "    min_diff=diff[0]\n",
    "    best_k=0\n",
    "    for i in range(len(diff)): \n",
    "        each_diff=diff[i]\n",
    "        if each_diff<min_diff: \n",
    "            print(f'Found lowest diff :{each_diff}')\n",
    "            print(f'Best K: {i+2}')\n",
    "            break\n",
    "        else: \n",
    "            min_diff=each_diff\n",
    "    plt.plot(range(3, 15), diff)\n",
    "    kmeans=KMeans(n_clusters=i+2)\n",
    "    kmeans.fit(reduced_data)\n",
    "    labels=kmeans.predict(reduced_data)\n",
    "    result=pd.DataFrame(zip(movement_df.index, labels), columns=['Symbol', 'Cluster'])\n",
    "    result=pd.concat([result, pd.DataFrame(reduced_data)], axis=1)\n",
    "    result.sort_values('Cluster')\n",
    "    print(diff)\n",
    "    return result"
   ]
  },
  {
   "cell_type": "code",
   "execution_count": 228,
   "id": "809e6572",
   "metadata": {},
   "outputs": [
    {
     "name": "stdout",
     "output_type": "stream",
     "text": [
      "Found lowest diff :-0.23666051928360132\n",
      "Best K: 7\n",
      "[-1.1289936285650977, -0.6153507928788058, -0.3254447959281719, -0.19996039666733423, -0.07828243898040288, -0.23666051928360132, -0.119199235945327, -0.10627442053835712, -0.06832269508670652, -0.06447460368792324, -0.03379301361106157, -0.10057974821765792]\n"
     ]
    },
    {
     "data": {
      "application/vnd.plotly.v1+json": {
       "config": {
        "plotlyServerURL": "https://plot.ly"
       },
       "data": [
        {
         "hovertemplate": "0=%{x}<br>1=%{y}<br>2=%{z}<br>Symbol=%{text}<br>Cluster=%{marker.color}<extra></extra>",
         "legendgroup": "",
         "marker": {
          "color": [
           2,
           2,
           4,
           1,
           0,
           5,
           5,
           0,
           1,
           0,
           0,
           2,
           0,
           0,
           2,
           0,
           1,
           1,
           1,
           3,
           4,
           1,
           3,
           6,
           5,
           2,
           3,
           1,
           3,
           1,
           5,
           3,
           0,
           0,
           3,
           0,
           5,
           0,
           1,
           1,
           3,
           4,
           5,
           0,
           0,
           0,
           3,
           3,
           0,
           3
          ],
          "coloraxis": "coloraxis",
          "opacity": 1,
          "symbol": "circle"
         },
         "mode": "markers+text",
         "name": "",
         "scene": "scene",
         "showlegend": false,
         "text": [
          "AMZN",
          "AAPL",
          "WBA",
          "NOC",
          "BA",
          "LMT",
          "MCD",
          "INTC",
          "NEE",
          "IBM",
          "TXN",
          "MA",
          "MSFT",
          "GE",
          "GOOGL",
          "AXP",
          "PEP",
          "KO",
          "JNJ",
          "GM",
          "HCA",
          "AMGN",
          "JPM",
          "NFLX",
          "UNH",
          "V",
          "VMC",
          "VZ",
          "LNC",
          "WM",
          "TGT",
          "PLD",
          "CVX",
          "PXD",
          "PGR",
          "NUE",
          "TJX",
          "MMM",
          "MDT",
          "LLY",
          "MAS",
          "KR",
          "ABC",
          "AMAT",
          "DE",
          "UPS",
          "LEN",
          "WHR",
          "ADBE",
          "CE"
         ],
         "type": "scatter3d",
         "x": [
          -0.24618776187596214,
          -0.2869425719755358,
          0.11179336872470064,
          0.15980322087629642,
          -0.0022170984240485712,
          0.24163024300489266,
          0.18451375841778914,
          -0.16569388375547459,
          0.393093096005033,
          -0.04483369195561434,
          -0.3659029591833411,
          -0.08837646234454191,
          -0.09697679073129857,
          0.0008823684294075242,
          -0.19436346645222283,
          -0.030269945715560492,
          0.4724548143390426,
          0.3834066297388675,
          0.27594695422922305,
          -0.18460007061587677,
          0.16246661262922188,
          0.23047379882180163,
          -0.07565407806014648,
          -0.3164324992120377,
          0.1603427216151013,
          -0.1445211976041079,
          -0.04268331367909,
          0.3356402051351875,
          -0.09769023484849354,
          0.1986835648852507,
          0.03278476079585832,
          0.0018094024289383196,
          -0.01209171836089545,
          -0.18866755442848607,
          0.11517161509083552,
          -0.24429134600663102,
          0.07313588923053126,
          -0.06544540473743,
          0.22798054789474345,
          0.34556189648426033,
          -0.24929456749267262,
          0.13695082002888104,
          0.11577658130024344,
          -0.3119740071697441,
          -0.16034789832441496,
          -0.0073835800817074635,
          -0.18603090320592952,
          -0.108637607794153,
          -0.21017414789575922,
          -0.2326181081749317
         ],
         "y": [
          0.38268593037733567,
          0.4401983243248956,
          0.2822746721259163,
          -0.05411140020007091,
          -0.05507523742881725,
          0.13699443611571774,
          0.2737286520001512,
          -0.047550098606482474,
          -0.0606692421567749,
          0.06276518739056547,
          -0.03587876385864689,
          0.2860409672314616,
          0.028562009220488998,
          -0.24383864727074078,
          0.21578475704378133,
          -0.05093710802159897,
          0.0520641370820494,
          0.12891285087583165,
          -0.0680424724513833,
          -0.18893142786815248,
          0.010648050977431251,
          -0.042918210847912,
          -0.2821728549260017,
          0.4277855020226049,
          0.08121206086681601,
          0.3194940796390069,
          -0.00662592351285132,
          0.023059081706665725,
          -0.3275108271397932,
          -0.13308369979829976,
          0.09601489210640062,
          -0.13102982450146985,
          -0.12394852037130465,
          -0.11091771477167346,
          -0.20483727701820928,
          -0.24530112578220345,
          0.35655011311389995,
          -0.2230710422955549,
          -0.04285291627729677,
          -0.06214875104866289,
          -0.1921270145457157,
          -0.06357160893972132,
          0.12168743380911795,
          -0.08773842992192767,
          -0.08009627563282165,
          -0.14521909602555982,
          -0.09979604975544493,
          -0.14989923578467404,
          0.02554722702040009,
          -0.19210956829077025
         ],
         "z": [
          -0.07586461294318644,
          -0.08167295425512122,
          0.4181418756388186,
          -0.07823881821249914,
          -0.0974915145362206,
          -0.03383830514625886,
          -0.14421635039728578,
          -0.23466673813583924,
          -0.05534830494918216,
          -0.25718293442980866,
          -0.10953904587316912,
          -0.06920435145792278,
          -0.18699465335093443,
          -0.1455205183185012,
          -0.23602631967972365,
          -0.06373705945454182,
          0.000498981410552018,
          -0.16333900844311988,
          -0.09891109195398738,
          0.14858751526672864,
          0.47558914489033705,
          0.03847352764375305,
          0.03402444192248999,
          0.3051544973067714,
          -0.12312371276047782,
          -0.03176540576319293,
          0.1475355006891444,
          -0.12500973716477082,
          0.011112397526993263,
          0.026001097807917213,
          0.09323513619052852,
          0.11903200632242397,
          -0.13022981386766444,
          0.001703930559327621,
          0.11019896597469235,
          -0.06872890039986018,
          0.09414989650774684,
          -0.16454041784100915,
          -0.062041778790669966,
          0.03411273123869515,
          0.2139760291756647,
          0.2866178567885125,
          -8.798168040114707e-05,
          -0.1152284440924703,
          -0.10736002779546767,
          -0.05669601234069725,
          0.21414008855897618,
          0.30920330258734435,
          -0.0088095765726361,
          0.04392546659920375
         ]
        }
       ],
       "layout": {
        "coloraxis": {
         "colorbar": {
          "title": {
           "text": "Cluster"
          }
         },
         "colorscale": [
          [
           0,
           "#0d0887"
          ],
          [
           0.1111111111111111,
           "#46039f"
          ],
          [
           0.2222222222222222,
           "#7201a8"
          ],
          [
           0.3333333333333333,
           "#9c179e"
          ],
          [
           0.4444444444444444,
           "#bd3786"
          ],
          [
           0.5555555555555556,
           "#d8576b"
          ],
          [
           0.6666666666666666,
           "#ed7953"
          ],
          [
           0.7777777777777778,
           "#fb9f3a"
          ],
          [
           0.8888888888888888,
           "#fdca26"
          ],
          [
           1,
           "#f0f921"
          ]
         ],
         "showscale": false
        },
        "height": 1000,
        "legend": {
         "tracegroupgap": 0
        },
        "margin": {
         "t": 60
        },
        "scene": {
         "domain": {
          "x": [
           0,
           1
          ],
          "y": [
           0,
           1
          ]
         },
         "xaxis": {
          "showticklabels": false,
          "title": {
           "text": "PCA 1"
          }
         },
         "yaxis": {
          "showticklabels": false,
          "title": {
           "text": "PCA 2"
          }
         },
         "zaxis": {
          "showticklabels": false,
          "title": {
           "text": "PCA 3"
          }
         }
        },
        "template": {
         "data": {
          "bar": [
           {
            "error_x": {
             "color": "#2a3f5f"
            },
            "error_y": {
             "color": "#2a3f5f"
            },
            "marker": {
             "line": {
              "color": "#E5ECF6",
              "width": 0.5
             }
            },
            "type": "bar"
           }
          ],
          "barpolar": [
           {
            "marker": {
             "line": {
              "color": "#E5ECF6",
              "width": 0.5
             }
            },
            "type": "barpolar"
           }
          ],
          "carpet": [
           {
            "aaxis": {
             "endlinecolor": "#2a3f5f",
             "gridcolor": "white",
             "linecolor": "white",
             "minorgridcolor": "white",
             "startlinecolor": "#2a3f5f"
            },
            "baxis": {
             "endlinecolor": "#2a3f5f",
             "gridcolor": "white",
             "linecolor": "white",
             "minorgridcolor": "white",
             "startlinecolor": "#2a3f5f"
            },
            "type": "carpet"
           }
          ],
          "choropleth": [
           {
            "colorbar": {
             "outlinewidth": 0,
             "ticks": ""
            },
            "type": "choropleth"
           }
          ],
          "contour": [
           {
            "colorbar": {
             "outlinewidth": 0,
             "ticks": ""
            },
            "colorscale": [
             [
              0,
              "#0d0887"
             ],
             [
              0.1111111111111111,
              "#46039f"
             ],
             [
              0.2222222222222222,
              "#7201a8"
             ],
             [
              0.3333333333333333,
              "#9c179e"
             ],
             [
              0.4444444444444444,
              "#bd3786"
             ],
             [
              0.5555555555555556,
              "#d8576b"
             ],
             [
              0.6666666666666666,
              "#ed7953"
             ],
             [
              0.7777777777777778,
              "#fb9f3a"
             ],
             [
              0.8888888888888888,
              "#fdca26"
             ],
             [
              1,
              "#f0f921"
             ]
            ],
            "type": "contour"
           }
          ],
          "contourcarpet": [
           {
            "colorbar": {
             "outlinewidth": 0,
             "ticks": ""
            },
            "type": "contourcarpet"
           }
          ],
          "heatmap": [
           {
            "colorbar": {
             "outlinewidth": 0,
             "ticks": ""
            },
            "colorscale": [
             [
              0,
              "#0d0887"
             ],
             [
              0.1111111111111111,
              "#46039f"
             ],
             [
              0.2222222222222222,
              "#7201a8"
             ],
             [
              0.3333333333333333,
              "#9c179e"
             ],
             [
              0.4444444444444444,
              "#bd3786"
             ],
             [
              0.5555555555555556,
              "#d8576b"
             ],
             [
              0.6666666666666666,
              "#ed7953"
             ],
             [
              0.7777777777777778,
              "#fb9f3a"
             ],
             [
              0.8888888888888888,
              "#fdca26"
             ],
             [
              1,
              "#f0f921"
             ]
            ],
            "type": "heatmap"
           }
          ],
          "heatmapgl": [
           {
            "colorbar": {
             "outlinewidth": 0,
             "ticks": ""
            },
            "colorscale": [
             [
              0,
              "#0d0887"
             ],
             [
              0.1111111111111111,
              "#46039f"
             ],
             [
              0.2222222222222222,
              "#7201a8"
             ],
             [
              0.3333333333333333,
              "#9c179e"
             ],
             [
              0.4444444444444444,
              "#bd3786"
             ],
             [
              0.5555555555555556,
              "#d8576b"
             ],
             [
              0.6666666666666666,
              "#ed7953"
             ],
             [
              0.7777777777777778,
              "#fb9f3a"
             ],
             [
              0.8888888888888888,
              "#fdca26"
             ],
             [
              1,
              "#f0f921"
             ]
            ],
            "type": "heatmapgl"
           }
          ],
          "histogram": [
           {
            "marker": {
             "colorbar": {
              "outlinewidth": 0,
              "ticks": ""
             }
            },
            "type": "histogram"
           }
          ],
          "histogram2d": [
           {
            "colorbar": {
             "outlinewidth": 0,
             "ticks": ""
            },
            "colorscale": [
             [
              0,
              "#0d0887"
             ],
             [
              0.1111111111111111,
              "#46039f"
             ],
             [
              0.2222222222222222,
              "#7201a8"
             ],
             [
              0.3333333333333333,
              "#9c179e"
             ],
             [
              0.4444444444444444,
              "#bd3786"
             ],
             [
              0.5555555555555556,
              "#d8576b"
             ],
             [
              0.6666666666666666,
              "#ed7953"
             ],
             [
              0.7777777777777778,
              "#fb9f3a"
             ],
             [
              0.8888888888888888,
              "#fdca26"
             ],
             [
              1,
              "#f0f921"
             ]
            ],
            "type": "histogram2d"
           }
          ],
          "histogram2dcontour": [
           {
            "colorbar": {
             "outlinewidth": 0,
             "ticks": ""
            },
            "colorscale": [
             [
              0,
              "#0d0887"
             ],
             [
              0.1111111111111111,
              "#46039f"
             ],
             [
              0.2222222222222222,
              "#7201a8"
             ],
             [
              0.3333333333333333,
              "#9c179e"
             ],
             [
              0.4444444444444444,
              "#bd3786"
             ],
             [
              0.5555555555555556,
              "#d8576b"
             ],
             [
              0.6666666666666666,
              "#ed7953"
             ],
             [
              0.7777777777777778,
              "#fb9f3a"
             ],
             [
              0.8888888888888888,
              "#fdca26"
             ],
             [
              1,
              "#f0f921"
             ]
            ],
            "type": "histogram2dcontour"
           }
          ],
          "mesh3d": [
           {
            "colorbar": {
             "outlinewidth": 0,
             "ticks": ""
            },
            "type": "mesh3d"
           }
          ],
          "parcoords": [
           {
            "line": {
             "colorbar": {
              "outlinewidth": 0,
              "ticks": ""
             }
            },
            "type": "parcoords"
           }
          ],
          "pie": [
           {
            "automargin": true,
            "type": "pie"
           }
          ],
          "scatter": [
           {
            "marker": {
             "colorbar": {
              "outlinewidth": 0,
              "ticks": ""
             }
            },
            "type": "scatter"
           }
          ],
          "scatter3d": [
           {
            "line": {
             "colorbar": {
              "outlinewidth": 0,
              "ticks": ""
             }
            },
            "marker": {
             "colorbar": {
              "outlinewidth": 0,
              "ticks": ""
             }
            },
            "type": "scatter3d"
           }
          ],
          "scattercarpet": [
           {
            "marker": {
             "colorbar": {
              "outlinewidth": 0,
              "ticks": ""
             }
            },
            "type": "scattercarpet"
           }
          ],
          "scattergeo": [
           {
            "marker": {
             "colorbar": {
              "outlinewidth": 0,
              "ticks": ""
             }
            },
            "type": "scattergeo"
           }
          ],
          "scattergl": [
           {
            "marker": {
             "colorbar": {
              "outlinewidth": 0,
              "ticks": ""
             }
            },
            "type": "scattergl"
           }
          ],
          "scattermapbox": [
           {
            "marker": {
             "colorbar": {
              "outlinewidth": 0,
              "ticks": ""
             }
            },
            "type": "scattermapbox"
           }
          ],
          "scatterpolar": [
           {
            "marker": {
             "colorbar": {
              "outlinewidth": 0,
              "ticks": ""
             }
            },
            "type": "scatterpolar"
           }
          ],
          "scatterpolargl": [
           {
            "marker": {
             "colorbar": {
              "outlinewidth": 0,
              "ticks": ""
             }
            },
            "type": "scatterpolargl"
           }
          ],
          "scatterternary": [
           {
            "marker": {
             "colorbar": {
              "outlinewidth": 0,
              "ticks": ""
             }
            },
            "type": "scatterternary"
           }
          ],
          "surface": [
           {
            "colorbar": {
             "outlinewidth": 0,
             "ticks": ""
            },
            "colorscale": [
             [
              0,
              "#0d0887"
             ],
             [
              0.1111111111111111,
              "#46039f"
             ],
             [
              0.2222222222222222,
              "#7201a8"
             ],
             [
              0.3333333333333333,
              "#9c179e"
             ],
             [
              0.4444444444444444,
              "#bd3786"
             ],
             [
              0.5555555555555556,
              "#d8576b"
             ],
             [
              0.6666666666666666,
              "#ed7953"
             ],
             [
              0.7777777777777778,
              "#fb9f3a"
             ],
             [
              0.8888888888888888,
              "#fdca26"
             ],
             [
              1,
              "#f0f921"
             ]
            ],
            "type": "surface"
           }
          ],
          "table": [
           {
            "cells": {
             "fill": {
              "color": "#EBF0F8"
             },
             "line": {
              "color": "white"
             }
            },
            "header": {
             "fill": {
              "color": "#C8D4E3"
             },
             "line": {
              "color": "white"
             }
            },
            "type": "table"
           }
          ]
         },
         "layout": {
          "annotationdefaults": {
           "arrowcolor": "#2a3f5f",
           "arrowhead": 0,
           "arrowwidth": 1
          },
          "coloraxis": {
           "colorbar": {
            "outlinewidth": 0,
            "ticks": ""
           }
          },
          "colorscale": {
           "diverging": [
            [
             0,
             "#8e0152"
            ],
            [
             0.1,
             "#c51b7d"
            ],
            [
             0.2,
             "#de77ae"
            ],
            [
             0.3,
             "#f1b6da"
            ],
            [
             0.4,
             "#fde0ef"
            ],
            [
             0.5,
             "#f7f7f7"
            ],
            [
             0.6,
             "#e6f5d0"
            ],
            [
             0.7,
             "#b8e186"
            ],
            [
             0.8,
             "#7fbc41"
            ],
            [
             0.9,
             "#4d9221"
            ],
            [
             1,
             "#276419"
            ]
           ],
           "sequential": [
            [
             0,
             "#0d0887"
            ],
            [
             0.1111111111111111,
             "#46039f"
            ],
            [
             0.2222222222222222,
             "#7201a8"
            ],
            [
             0.3333333333333333,
             "#9c179e"
            ],
            [
             0.4444444444444444,
             "#bd3786"
            ],
            [
             0.5555555555555556,
             "#d8576b"
            ],
            [
             0.6666666666666666,
             "#ed7953"
            ],
            [
             0.7777777777777778,
             "#fb9f3a"
            ],
            [
             0.8888888888888888,
             "#fdca26"
            ],
            [
             1,
             "#f0f921"
            ]
           ],
           "sequentialminus": [
            [
             0,
             "#0d0887"
            ],
            [
             0.1111111111111111,
             "#46039f"
            ],
            [
             0.2222222222222222,
             "#7201a8"
            ],
            [
             0.3333333333333333,
             "#9c179e"
            ],
            [
             0.4444444444444444,
             "#bd3786"
            ],
            [
             0.5555555555555556,
             "#d8576b"
            ],
            [
             0.6666666666666666,
             "#ed7953"
            ],
            [
             0.7777777777777778,
             "#fb9f3a"
            ],
            [
             0.8888888888888888,
             "#fdca26"
            ],
            [
             1,
             "#f0f921"
            ]
           ]
          },
          "colorway": [
           "#636efa",
           "#EF553B",
           "#00cc96",
           "#ab63fa",
           "#FFA15A",
           "#19d3f3",
           "#FF6692",
           "#B6E880",
           "#FF97FF",
           "#FECB52"
          ],
          "font": {
           "color": "#2a3f5f"
          },
          "geo": {
           "bgcolor": "white",
           "lakecolor": "white",
           "landcolor": "#E5ECF6",
           "showlakes": true,
           "showland": true,
           "subunitcolor": "white"
          },
          "hoverlabel": {
           "align": "left"
          },
          "hovermode": "closest",
          "mapbox": {
           "style": "light"
          },
          "paper_bgcolor": "white",
          "plot_bgcolor": "#E5ECF6",
          "polar": {
           "angularaxis": {
            "gridcolor": "white",
            "linecolor": "white",
            "ticks": ""
           },
           "bgcolor": "#E5ECF6",
           "radialaxis": {
            "gridcolor": "white",
            "linecolor": "white",
            "ticks": ""
           }
          },
          "scene": {
           "xaxis": {
            "backgroundcolor": "#E5ECF6",
            "gridcolor": "white",
            "gridwidth": 2,
            "linecolor": "white",
            "showbackground": true,
            "ticks": "",
            "zerolinecolor": "white"
           },
           "yaxis": {
            "backgroundcolor": "#E5ECF6",
            "gridcolor": "white",
            "gridwidth": 2,
            "linecolor": "white",
            "showbackground": true,
            "ticks": "",
            "zerolinecolor": "white"
           },
           "zaxis": {
            "backgroundcolor": "#E5ECF6",
            "gridcolor": "white",
            "gridwidth": 2,
            "linecolor": "white",
            "showbackground": true,
            "ticks": "",
            "zerolinecolor": "white"
           }
          },
          "shapedefaults": {
           "line": {
            "color": "#2a3f5f"
           }
          },
          "ternary": {
           "aaxis": {
            "gridcolor": "white",
            "linecolor": "white",
            "ticks": ""
           },
           "baxis": {
            "gridcolor": "white",
            "linecolor": "white",
            "ticks": ""
           },
           "bgcolor": "#E5ECF6",
           "caxis": {
            "gridcolor": "white",
            "linecolor": "white",
            "ticks": ""
           }
          },
          "title": {
           "x": 0.05
          },
          "xaxis": {
           "automargin": true,
           "gridcolor": "white",
           "linecolor": "white",
           "ticks": "",
           "title": {
            "standoff": 15
           },
           "zerolinecolor": "white",
           "zerolinewidth": 2
          },
          "yaxis": {
           "automargin": true,
           "gridcolor": "white",
           "linecolor": "white",
           "ticks": "",
           "title": {
            "standoff": 15
           },
           "zerolinecolor": "white",
           "zerolinewidth": 2
          }
         }
        },
        "title": {
         "text": "Overview"
        },
        "width": 1000
       }
      },
      "text/html": [
       "<div>                            <div id=\"51382269-66ab-4613-929f-99d18110466c\" class=\"plotly-graph-div\" style=\"height:1000px; width:1000px;\"></div>            <script type=\"text/javascript\">                require([\"plotly\"], function(Plotly) {                    window.PLOTLYENV=window.PLOTLYENV || {};                                    if (document.getElementById(\"51382269-66ab-4613-929f-99d18110466c\")) {                    Plotly.newPlot(                        \"51382269-66ab-4613-929f-99d18110466c\",                        [{\"hovertemplate\": \"0=%{x}<br>1=%{y}<br>2=%{z}<br>Symbol=%{text}<br>Cluster=%{marker.color}<extra></extra>\", \"legendgroup\": \"\", \"marker\": {\"color\": [2, 2, 4, 1, 0, 5, 5, 0, 1, 0, 0, 2, 0, 0, 2, 0, 1, 1, 1, 3, 4, 1, 3, 6, 5, 2, 3, 1, 3, 1, 5, 3, 0, 0, 3, 0, 5, 0, 1, 1, 3, 4, 5, 0, 0, 0, 3, 3, 0, 3], \"coloraxis\": \"coloraxis\", \"opacity\": 1, \"symbol\": \"circle\"}, \"mode\": \"markers+text\", \"name\": \"\", \"scene\": \"scene\", \"showlegend\": false, \"text\": [\"AMZN\", \"AAPL\", \"WBA\", \"NOC\", \"BA\", \"LMT\", \"MCD\", \"INTC\", \"NEE\", \"IBM\", \"TXN\", \"MA\", \"MSFT\", \"GE\", \"GOOGL\", \"AXP\", \"PEP\", \"KO\", \"JNJ\", \"GM\", \"HCA\", \"AMGN\", \"JPM\", \"NFLX\", \"UNH\", \"V\", \"VMC\", \"VZ\", \"LNC\", \"WM\", \"TGT\", \"PLD\", \"CVX\", \"PXD\", \"PGR\", \"NUE\", \"TJX\", \"MMM\", \"MDT\", \"LLY\", \"MAS\", \"KR\", \"ABC\", \"AMAT\", \"DE\", \"UPS\", \"LEN\", \"WHR\", \"ADBE\", \"CE\"], \"type\": \"scatter3d\", \"x\": [-0.24618776187596214, -0.2869425719755358, 0.11179336872470064, 0.15980322087629642, -0.0022170984240485712, 0.24163024300489266, 0.18451375841778914, -0.16569388375547459, 0.393093096005033, -0.04483369195561434, -0.3659029591833411, -0.08837646234454191, -0.09697679073129857, 0.0008823684294075242, -0.19436346645222283, -0.030269945715560492, 0.4724548143390426, 0.3834066297388675, 0.27594695422922305, -0.18460007061587677, 0.16246661262922188, 0.23047379882180163, -0.07565407806014648, -0.3164324992120377, 0.1603427216151013, -0.1445211976041079, -0.04268331367909, 0.3356402051351875, -0.09769023484849354, 0.1986835648852507, 0.03278476079585832, 0.0018094024289383196, -0.01209171836089545, -0.18866755442848607, 0.11517161509083552, -0.24429134600663102, 0.07313588923053126, -0.06544540473743, 0.22798054789474345, 0.34556189648426033, -0.24929456749267262, 0.13695082002888104, 0.11577658130024344, -0.3119740071697441, -0.16034789832441496, -0.0073835800817074635, -0.18603090320592952, -0.108637607794153, -0.21017414789575922, -0.2326181081749317], \"y\": [0.38268593037733567, 0.4401983243248956, 0.2822746721259163, -0.05411140020007091, -0.05507523742881725, 0.13699443611571774, 0.2737286520001512, -0.047550098606482474, -0.0606692421567749, 0.06276518739056547, -0.03587876385864689, 0.2860409672314616, 0.028562009220488998, -0.24383864727074078, 0.21578475704378133, -0.05093710802159897, 0.0520641370820494, 0.12891285087583165, -0.0680424724513833, -0.18893142786815248, 0.010648050977431251, -0.042918210847912, -0.2821728549260017, 0.4277855020226049, 0.08121206086681601, 0.3194940796390069, -0.00662592351285132, 0.023059081706665725, -0.3275108271397932, -0.13308369979829976, 0.09601489210640062, -0.13102982450146985, -0.12394852037130465, -0.11091771477167346, -0.20483727701820928, -0.24530112578220345, 0.35655011311389995, -0.2230710422955549, -0.04285291627729677, -0.06214875104866289, -0.1921270145457157, -0.06357160893972132, 0.12168743380911795, -0.08773842992192767, -0.08009627563282165, -0.14521909602555982, -0.09979604975544493, -0.14989923578467404, 0.02554722702040009, -0.19210956829077025], \"z\": [-0.07586461294318644, -0.08167295425512122, 0.4181418756388186, -0.07823881821249914, -0.0974915145362206, -0.03383830514625886, -0.14421635039728578, -0.23466673813583924, -0.05534830494918216, -0.25718293442980866, -0.10953904587316912, -0.06920435145792278, -0.18699465335093443, -0.1455205183185012, -0.23602631967972365, -0.06373705945454182, 0.000498981410552018, -0.16333900844311988, -0.09891109195398738, 0.14858751526672864, 0.47558914489033705, 0.03847352764375305, 0.03402444192248999, 0.3051544973067714, -0.12312371276047782, -0.03176540576319293, 0.1475355006891444, -0.12500973716477082, 0.011112397526993263, 0.026001097807917213, 0.09323513619052852, 0.11903200632242397, -0.13022981386766444, 0.001703930559327621, 0.11019896597469235, -0.06872890039986018, 0.09414989650774684, -0.16454041784100915, -0.062041778790669966, 0.03411273123869515, 0.2139760291756647, 0.2866178567885125, -8.798168040114707e-05, -0.1152284440924703, -0.10736002779546767, -0.05669601234069725, 0.21414008855897618, 0.30920330258734435, -0.0088095765726361, 0.04392546659920375]}],                        {\"coloraxis\": {\"colorbar\": {\"title\": {\"text\": \"Cluster\"}}, \"colorscale\": [[0.0, \"#0d0887\"], [0.1111111111111111, \"#46039f\"], [0.2222222222222222, \"#7201a8\"], [0.3333333333333333, \"#9c179e\"], [0.4444444444444444, \"#bd3786\"], [0.5555555555555556, \"#d8576b\"], [0.6666666666666666, \"#ed7953\"], [0.7777777777777778, \"#fb9f3a\"], [0.8888888888888888, \"#fdca26\"], [1.0, \"#f0f921\"]], \"showscale\": false}, \"height\": 1000, \"legend\": {\"tracegroupgap\": 0}, \"margin\": {\"t\": 60}, \"scene\": {\"domain\": {\"x\": [0.0, 1.0], \"y\": [0.0, 1.0]}, \"xaxis\": {\"showticklabels\": false, \"title\": {\"text\": \"PCA 1\"}}, \"yaxis\": {\"showticklabels\": false, \"title\": {\"text\": \"PCA 2\"}}, \"zaxis\": {\"showticklabels\": false, \"title\": {\"text\": \"PCA 3\"}}}, \"template\": {\"data\": {\"bar\": [{\"error_x\": {\"color\": \"#2a3f5f\"}, \"error_y\": {\"color\": \"#2a3f5f\"}, \"marker\": {\"line\": {\"color\": \"#E5ECF6\", \"width\": 0.5}}, \"type\": \"bar\"}], \"barpolar\": [{\"marker\": {\"line\": {\"color\": \"#E5ECF6\", \"width\": 0.5}}, \"type\": \"barpolar\"}], \"carpet\": [{\"aaxis\": {\"endlinecolor\": \"#2a3f5f\", \"gridcolor\": \"white\", \"linecolor\": \"white\", \"minorgridcolor\": \"white\", \"startlinecolor\": \"#2a3f5f\"}, \"baxis\": {\"endlinecolor\": \"#2a3f5f\", \"gridcolor\": \"white\", \"linecolor\": \"white\", \"minorgridcolor\": \"white\", \"startlinecolor\": \"#2a3f5f\"}, \"type\": \"carpet\"}], \"choropleth\": [{\"colorbar\": {\"outlinewidth\": 0, \"ticks\": \"\"}, \"type\": \"choropleth\"}], \"contour\": [{\"colorbar\": {\"outlinewidth\": 0, \"ticks\": \"\"}, \"colorscale\": [[0.0, \"#0d0887\"], [0.1111111111111111, \"#46039f\"], [0.2222222222222222, \"#7201a8\"], [0.3333333333333333, \"#9c179e\"], [0.4444444444444444, \"#bd3786\"], [0.5555555555555556, \"#d8576b\"], [0.6666666666666666, \"#ed7953\"], [0.7777777777777778, \"#fb9f3a\"], [0.8888888888888888, \"#fdca26\"], [1.0, \"#f0f921\"]], \"type\": \"contour\"}], \"contourcarpet\": [{\"colorbar\": {\"outlinewidth\": 0, \"ticks\": \"\"}, \"type\": \"contourcarpet\"}], \"heatmap\": [{\"colorbar\": {\"outlinewidth\": 0, \"ticks\": \"\"}, \"colorscale\": [[0.0, \"#0d0887\"], [0.1111111111111111, \"#46039f\"], [0.2222222222222222, \"#7201a8\"], [0.3333333333333333, \"#9c179e\"], [0.4444444444444444, \"#bd3786\"], [0.5555555555555556, \"#d8576b\"], [0.6666666666666666, \"#ed7953\"], [0.7777777777777778, \"#fb9f3a\"], [0.8888888888888888, \"#fdca26\"], [1.0, \"#f0f921\"]], \"type\": \"heatmap\"}], \"heatmapgl\": [{\"colorbar\": {\"outlinewidth\": 0, \"ticks\": \"\"}, \"colorscale\": [[0.0, \"#0d0887\"], [0.1111111111111111, \"#46039f\"], [0.2222222222222222, \"#7201a8\"], [0.3333333333333333, \"#9c179e\"], [0.4444444444444444, \"#bd3786\"], [0.5555555555555556, \"#d8576b\"], [0.6666666666666666, \"#ed7953\"], [0.7777777777777778, \"#fb9f3a\"], [0.8888888888888888, \"#fdca26\"], [1.0, \"#f0f921\"]], \"type\": \"heatmapgl\"}], \"histogram\": [{\"marker\": {\"colorbar\": {\"outlinewidth\": 0, \"ticks\": \"\"}}, \"type\": \"histogram\"}], \"histogram2d\": [{\"colorbar\": {\"outlinewidth\": 0, \"ticks\": \"\"}, \"colorscale\": [[0.0, \"#0d0887\"], [0.1111111111111111, \"#46039f\"], [0.2222222222222222, \"#7201a8\"], [0.3333333333333333, \"#9c179e\"], [0.4444444444444444, \"#bd3786\"], [0.5555555555555556, \"#d8576b\"], [0.6666666666666666, \"#ed7953\"], [0.7777777777777778, \"#fb9f3a\"], [0.8888888888888888, \"#fdca26\"], [1.0, \"#f0f921\"]], \"type\": \"histogram2d\"}], \"histogram2dcontour\": [{\"colorbar\": {\"outlinewidth\": 0, \"ticks\": \"\"}, \"colorscale\": [[0.0, \"#0d0887\"], [0.1111111111111111, \"#46039f\"], [0.2222222222222222, \"#7201a8\"], [0.3333333333333333, \"#9c179e\"], [0.4444444444444444, \"#bd3786\"], [0.5555555555555556, \"#d8576b\"], [0.6666666666666666, \"#ed7953\"], [0.7777777777777778, \"#fb9f3a\"], [0.8888888888888888, \"#fdca26\"], [1.0, \"#f0f921\"]], \"type\": \"histogram2dcontour\"}], \"mesh3d\": [{\"colorbar\": {\"outlinewidth\": 0, \"ticks\": \"\"}, \"type\": \"mesh3d\"}], \"parcoords\": [{\"line\": {\"colorbar\": {\"outlinewidth\": 0, \"ticks\": \"\"}}, \"type\": \"parcoords\"}], \"pie\": [{\"automargin\": true, \"type\": \"pie\"}], \"scatter\": [{\"marker\": {\"colorbar\": {\"outlinewidth\": 0, \"ticks\": \"\"}}, \"type\": \"scatter\"}], \"scatter3d\": [{\"line\": {\"colorbar\": {\"outlinewidth\": 0, \"ticks\": \"\"}}, \"marker\": {\"colorbar\": {\"outlinewidth\": 0, \"ticks\": \"\"}}, \"type\": \"scatter3d\"}], \"scattercarpet\": [{\"marker\": {\"colorbar\": {\"outlinewidth\": 0, \"ticks\": \"\"}}, \"type\": \"scattercarpet\"}], \"scattergeo\": [{\"marker\": {\"colorbar\": {\"outlinewidth\": 0, \"ticks\": \"\"}}, \"type\": \"scattergeo\"}], \"scattergl\": [{\"marker\": {\"colorbar\": {\"outlinewidth\": 0, \"ticks\": \"\"}}, \"type\": \"scattergl\"}], \"scattermapbox\": [{\"marker\": {\"colorbar\": {\"outlinewidth\": 0, \"ticks\": \"\"}}, \"type\": \"scattermapbox\"}], \"scatterpolar\": [{\"marker\": {\"colorbar\": {\"outlinewidth\": 0, \"ticks\": \"\"}}, \"type\": \"scatterpolar\"}], \"scatterpolargl\": [{\"marker\": {\"colorbar\": {\"outlinewidth\": 0, \"ticks\": \"\"}}, \"type\": \"scatterpolargl\"}], \"scatterternary\": [{\"marker\": {\"colorbar\": {\"outlinewidth\": 0, \"ticks\": \"\"}}, \"type\": \"scatterternary\"}], \"surface\": [{\"colorbar\": {\"outlinewidth\": 0, \"ticks\": \"\"}, \"colorscale\": [[0.0, \"#0d0887\"], [0.1111111111111111, \"#46039f\"], [0.2222222222222222, \"#7201a8\"], [0.3333333333333333, \"#9c179e\"], [0.4444444444444444, \"#bd3786\"], [0.5555555555555556, \"#d8576b\"], [0.6666666666666666, \"#ed7953\"], [0.7777777777777778, \"#fb9f3a\"], [0.8888888888888888, \"#fdca26\"], [1.0, \"#f0f921\"]], \"type\": \"surface\"}], \"table\": [{\"cells\": {\"fill\": {\"color\": \"#EBF0F8\"}, \"line\": {\"color\": \"white\"}}, \"header\": {\"fill\": {\"color\": \"#C8D4E3\"}, \"line\": {\"color\": \"white\"}}, \"type\": \"table\"}]}, \"layout\": {\"annotationdefaults\": {\"arrowcolor\": \"#2a3f5f\", \"arrowhead\": 0, \"arrowwidth\": 1}, \"coloraxis\": {\"colorbar\": {\"outlinewidth\": 0, \"ticks\": \"\"}}, \"colorscale\": {\"diverging\": [[0, \"#8e0152\"], [0.1, \"#c51b7d\"], [0.2, \"#de77ae\"], [0.3, \"#f1b6da\"], [0.4, \"#fde0ef\"], [0.5, \"#f7f7f7\"], [0.6, \"#e6f5d0\"], [0.7, \"#b8e186\"], [0.8, \"#7fbc41\"], [0.9, \"#4d9221\"], [1, \"#276419\"]], \"sequential\": [[0.0, \"#0d0887\"], [0.1111111111111111, \"#46039f\"], [0.2222222222222222, \"#7201a8\"], [0.3333333333333333, \"#9c179e\"], [0.4444444444444444, \"#bd3786\"], [0.5555555555555556, \"#d8576b\"], [0.6666666666666666, \"#ed7953\"], [0.7777777777777778, \"#fb9f3a\"], [0.8888888888888888, \"#fdca26\"], [1.0, \"#f0f921\"]], \"sequentialminus\": [[0.0, \"#0d0887\"], [0.1111111111111111, \"#46039f\"], [0.2222222222222222, \"#7201a8\"], [0.3333333333333333, \"#9c179e\"], [0.4444444444444444, \"#bd3786\"], [0.5555555555555556, \"#d8576b\"], [0.6666666666666666, \"#ed7953\"], [0.7777777777777778, \"#fb9f3a\"], [0.8888888888888888, \"#fdca26\"], [1.0, \"#f0f921\"]]}, \"colorway\": [\"#636efa\", \"#EF553B\", \"#00cc96\", \"#ab63fa\", \"#FFA15A\", \"#19d3f3\", \"#FF6692\", \"#B6E880\", \"#FF97FF\", \"#FECB52\"], \"font\": {\"color\": \"#2a3f5f\"}, \"geo\": {\"bgcolor\": \"white\", \"lakecolor\": \"white\", \"landcolor\": \"#E5ECF6\", \"showlakes\": true, \"showland\": true, \"subunitcolor\": \"white\"}, \"hoverlabel\": {\"align\": \"left\"}, \"hovermode\": \"closest\", \"mapbox\": {\"style\": \"light\"}, \"paper_bgcolor\": \"white\", \"plot_bgcolor\": \"#E5ECF6\", \"polar\": {\"angularaxis\": {\"gridcolor\": \"white\", \"linecolor\": \"white\", \"ticks\": \"\"}, \"bgcolor\": \"#E5ECF6\", \"radialaxis\": {\"gridcolor\": \"white\", \"linecolor\": \"white\", \"ticks\": \"\"}}, \"scene\": {\"xaxis\": {\"backgroundcolor\": \"#E5ECF6\", \"gridcolor\": \"white\", \"gridwidth\": 2, \"linecolor\": \"white\", \"showbackground\": true, \"ticks\": \"\", \"zerolinecolor\": \"white\"}, \"yaxis\": {\"backgroundcolor\": \"#E5ECF6\", \"gridcolor\": \"white\", \"gridwidth\": 2, \"linecolor\": \"white\", \"showbackground\": true, \"ticks\": \"\", \"zerolinecolor\": \"white\"}, \"zaxis\": {\"backgroundcolor\": \"#E5ECF6\", \"gridcolor\": \"white\", \"gridwidth\": 2, \"linecolor\": \"white\", \"showbackground\": true, \"ticks\": \"\", \"zerolinecolor\": \"white\"}}, \"shapedefaults\": {\"line\": {\"color\": \"#2a3f5f\"}}, \"ternary\": {\"aaxis\": {\"gridcolor\": \"white\", \"linecolor\": \"white\", \"ticks\": \"\"}, \"baxis\": {\"gridcolor\": \"white\", \"linecolor\": \"white\", \"ticks\": \"\"}, \"bgcolor\": \"#E5ECF6\", \"caxis\": {\"gridcolor\": \"white\", \"linecolor\": \"white\", \"ticks\": \"\"}}, \"title\": {\"x\": 0.05}, \"xaxis\": {\"automargin\": true, \"gridcolor\": \"white\", \"linecolor\": \"white\", \"ticks\": \"\", \"title\": {\"standoff\": 15}, \"zerolinecolor\": \"white\", \"zerolinewidth\": 2}, \"yaxis\": {\"automargin\": true, \"gridcolor\": \"white\", \"linecolor\": \"white\", \"ticks\": \"\", \"title\": {\"standoff\": 15}, \"zerolinecolor\": \"white\", \"zerolinewidth\": 2}}}, \"title\": {\"text\": \"Overview\"}, \"width\": 1000},                        {\"responsive\": true}                    ).then(function(){\n",
       "                            \n",
       "var gd = document.getElementById('51382269-66ab-4613-929f-99d18110466c');\n",
       "var x = new MutationObserver(function (mutations, observer) {{\n",
       "        var display = window.getComputedStyle(gd).display;\n",
       "        if (!display || display === 'none') {{\n",
       "            console.log([gd, 'removed!']);\n",
       "            Plotly.purge(gd);\n",
       "            observer.disconnect();\n",
       "        }}\n",
       "}});\n",
       "\n",
       "// Listen for the removal of the full notebook cells\n",
       "var notebookContainer = gd.closest('#notebook-container');\n",
       "if (notebookContainer) {{\n",
       "    x.observe(notebookContainer, {childList: true});\n",
       "}}\n",
       "\n",
       "// Listen for the clearing of the current output cell\n",
       "var outputEl = gd.closest('.output');\n",
       "if (outputEl) {{\n",
       "    x.observe(outputEl, {childList: true});\n",
       "}}\n",
       "\n",
       "                        })                };                });            </script>        </div>"
      ]
     },
     "metadata": {},
     "output_type": "display_data"
    },
    {
     "data": {
      "image/png": "[encoded data removed]",
      "text/plain": [
       "<Figure size 432x288 with 1 Axes>"
      ]
     },
     "metadata": {
      "needs_background": "light"
     },
     "output_type": "display_data"
    }
   ],
   "source": [
    "import plotly.express as px\n",
    "import json\n",
    "\n",
    "result=cluster(movement_df)\n",
    "fig=px.scatter_3d(result, x=0, y=1, z=2, color='Cluster', text='Symbol', width=1000, height=1000, opacity=1)\n",
    "fig.update(layout_coloraxis_showscale=False)\n",
    "fig.update_layout(\n",
    "    title='Overview',\n",
    "    scene=dict(\n",
    "        xaxis=dict(\n",
    "            title_text='PCA 1', \n",
    "            showticklabels=False),\n",
    "        yaxis=dict(\n",
    "            title_text='PCA 2', \n",
    "            showticklabels=False),\n",
    "        zaxis=dict(\n",
    "            title_text='PCA 3', \n",
    "            showticklabels=False),\n",
    "        )\n",
    "    )\n",
    "\n",
    "graphJS=json.dumps(fig, cls=plotly.utils.PlotlyJSONEncoder)\n",
    "fig.show()"
   ]
  },
  {
   "cell_type": "code",
   "execution_count": 192,
   "id": "b3bd4fea",
   "metadata": {
    "scrolled": true
   },
   "outputs": [
    {
     "name": "stdout",
     "output_type": "stream",
     "text": [
      "Found lowest diff :-0.06857244882666874\n",
      "Best K: 8\n"
     ]
    },
    {
     "ename": "TypeError",
     "evalue": "cannot concatenate object of type '<class 'numpy.ndarray'>'; only Series and DataFrame objs are valid",
     "output_type": "error",
     "traceback": [
      "\u001b[0;31m---------------------------------------------------------------------------\u001b[0m",
      "\u001b[0;31mTypeError\u001b[0m                                 Traceback (most recent call last)",
      "\u001b[0;32m<ipython-input-192-1955a3b75572>\u001b[0m in \u001b[0;36m<module>\u001b[0;34m\u001b[0m\n\u001b[0;32m----> 1\u001b[0;31m \u001b[0mcluster\u001b[0m\u001b[0;34m(\u001b[0m\u001b[0mmovement_df\u001b[0m\u001b[0;34m)\u001b[0m\u001b[0;34m\u001b[0m\u001b[0;34m\u001b[0m\u001b[0m\n\u001b[0m",
      "\u001b[0;32m<ipython-input-191-8f0937daf9b9>\u001b[0m in \u001b[0;36mcluster\u001b[0;34m(movement_df)\u001b[0m\n\u001b[1;32m     26\u001b[0m     \u001b[0mlabels\u001b[0m\u001b[0;34m=\u001b[0m\u001b[0mkmeans\u001b[0m\u001b[0;34m.\u001b[0m\u001b[0mpredict\u001b[0m\u001b[0;34m(\u001b[0m\u001b[0mreduced_data\u001b[0m\u001b[0;34m)\u001b[0m\u001b[0;34m\u001b[0m\u001b[0;34m\u001b[0m\u001b[0m\n\u001b[1;32m     27\u001b[0m     \u001b[0mresult\u001b[0m\u001b[0;34m=\u001b[0m\u001b[0mpd\u001b[0m\u001b[0;34m.\u001b[0m\u001b[0mDataFrame\u001b[0m\u001b[0;34m(\u001b[0m\u001b[0mzip\u001b[0m\u001b[0;34m(\u001b[0m\u001b[0mmovement_df\u001b[0m\u001b[0;34m.\u001b[0m\u001b[0mindex\u001b[0m\u001b[0;34m,\u001b[0m \u001b[0mlabels\u001b[0m\u001b[0;34m)\u001b[0m\u001b[0;34m,\u001b[0m \u001b[0mcolumns\u001b[0m\u001b[0;34m=\u001b[0m\u001b[0;34m[\u001b[0m\u001b[0;34m'Symbol'\u001b[0m\u001b[0;34m,\u001b[0m \u001b[0;34m'Cluster'\u001b[0m\u001b[0;34m]\u001b[0m\u001b[0;34m)\u001b[0m\u001b[0;34m\u001b[0m\u001b[0;34m\u001b[0m\u001b[0m\n\u001b[0;32m---> 28\u001b[0;31m     \u001b[0mresult\u001b[0m\u001b[0;34m=\u001b[0m\u001b[0mpd\u001b[0m\u001b[0;34m.\u001b[0m\u001b[0mconcat\u001b[0m\u001b[0;34m(\u001b[0m\u001b[0;34m[\u001b[0m\u001b[0mresult\u001b[0m\u001b[0;34m,\u001b[0m \u001b[0mreduced_data\u001b[0m\u001b[0;34m]\u001b[0m\u001b[0;34m)\u001b[0m\u001b[0;34m\u001b[0m\u001b[0;34m\u001b[0m\u001b[0m\n\u001b[0m\u001b[1;32m     29\u001b[0m     \u001b[0mresult\u001b[0m\u001b[0;34m.\u001b[0m\u001b[0msort_values\u001b[0m\u001b[0;34m(\u001b[0m\u001b[0;34m'Cluster'\u001b[0m\u001b[0;34m)\u001b[0m\u001b[0;34m\u001b[0m\u001b[0;34m\u001b[0m\u001b[0m\n\u001b[1;32m     30\u001b[0m     \u001b[0mprint\u001b[0m\u001b[0;34m(\u001b[0m\u001b[0mdiff\u001b[0m\u001b[0;34m)\u001b[0m\u001b[0;34m\u001b[0m\u001b[0;34m\u001b[0m\u001b[0m\n",
      "\u001b[0;32m~/anaconda3/lib/python3.7/site-packages/pandas/core/reshape/concat.py\u001b[0m in \u001b[0;36mconcat\u001b[0;34m(objs, axis, join, ignore_index, keys, levels, names, verify_integrity, sort, copy)\u001b[0m\n\u001b[1;32m    293\u001b[0m         \u001b[0mverify_integrity\u001b[0m\u001b[0;34m=\u001b[0m\u001b[0mverify_integrity\u001b[0m\u001b[0;34m,\u001b[0m\u001b[0;34m\u001b[0m\u001b[0;34m\u001b[0m\u001b[0m\n\u001b[1;32m    294\u001b[0m         \u001b[0mcopy\u001b[0m\u001b[0;34m=\u001b[0m\u001b[0mcopy\u001b[0m\u001b[0;34m,\u001b[0m\u001b[0;34m\u001b[0m\u001b[0;34m\u001b[0m\u001b[0m\n\u001b[0;32m--> 295\u001b[0;31m         \u001b[0msort\u001b[0m\u001b[0;34m=\u001b[0m\u001b[0msort\u001b[0m\u001b[0;34m,\u001b[0m\u001b[0;34m\u001b[0m\u001b[0;34m\u001b[0m\u001b[0m\n\u001b[0m\u001b[1;32m    296\u001b[0m     )\n\u001b[1;32m    297\u001b[0m \u001b[0;34m\u001b[0m\u001b[0m\n",
      "\u001b[0;32m~/anaconda3/lib/python3.7/site-packages/pandas/core/reshape/concat.py\u001b[0m in \u001b[0;36m__init__\u001b[0;34m(self, objs, axis, join, keys, levels, names, ignore_index, verify_integrity, copy, sort)\u001b[0m\n\u001b[1;32m    368\u001b[0m                     \u001b[0;34m\"only Series and DataFrame objs are valid\"\u001b[0m\u001b[0;34m\u001b[0m\u001b[0;34m\u001b[0m\u001b[0m\n\u001b[1;32m    369\u001b[0m                 )\n\u001b[0;32m--> 370\u001b[0;31m                 \u001b[0;32mraise\u001b[0m \u001b[0mTypeError\u001b[0m\u001b[0;34m(\u001b[0m\u001b[0mmsg\u001b[0m\u001b[0;34m)\u001b[0m\u001b[0;34m\u001b[0m\u001b[0;34m\u001b[0m\u001b[0m\n\u001b[0m\u001b[1;32m    371\u001b[0m \u001b[0;34m\u001b[0m\u001b[0m\n\u001b[1;32m    372\u001b[0m             \u001b[0;31m# consolidate\u001b[0m\u001b[0;34m\u001b[0m\u001b[0;34m\u001b[0m\u001b[0;34m\u001b[0m\u001b[0m\n",
      "\u001b[0;31mTypeError\u001b[0m: cannot concatenate object of type '<class 'numpy.ndarray'>'; only Series and DataFrame objs are valid"
     ]
    },
    {
     "data": {
      "image/png": "[encoded data removed]",
      "text/plain": [
       "<Figure size 432x288 with 1 Axes>"
      ]
     },
     "metadata": {
      "needs_background": "light"
     },
     "output_type": "display_data"
    }
   ],
   "source": [
    "cluster(movement_df)"
   ]
  },
  {
   "cell_type": "code",
   "execution_count": 170,
   "id": "3f6f49cf",
   "metadata": {
    "scrolled": true
   },
   "outputs": [
    {
     "data": {
      "text/plain": [
       "[<matplotlib.lines.Line2D at 0x7fcce272f748>]"
      ]
     },
     "execution_count": 170,
     "metadata": {},
     "output_type": "execute_result"
    },
    {
     "data": {
      "image/png": "[encoded data removed]",
      "text/plain": [
       "<Figure size 432x288 with 1 Axes>"
      ]
     },
     "metadata": {
      "needs_background": "light"
     },
     "output_type": "display_data"
    }
   ],
   "source": [
    "plt.plot(list(range(2, 15)), inertia)"
   ]
  },
  {
   "cell_type": "code",
   "execution_count": 133,
   "id": "92d8aae3",
   "metadata": {
    "scrolled": false
   },
   "outputs": [
    {
     "data": {
      "text/plain": [
       "[<matplotlib.lines.Line2D at 0x7fcce267c2b0>]"
      ]
     },
     "execution_count": 133,
     "metadata": {},
     "output_type": "execute_result"
    },
    {
     "data": {
      "image/png": "[encoded data removed]",
      "text/plain": [
       "<Figure size 432x288 with 1 Axes>"
      ]
     },
     "metadata": {
      "needs_background": "light"
     },
     "output_type": "display_data"
    }
   ],
   "source": [
    "diff=[inertia[i]-inertia[i-1] for i in range(1, len(inertia))]\n",
    "plt.plot(range(1, len(inertia)), diff)"
   ]
  },
  {
   "cell_type": "code",
   "execution_count": 134,
   "id": "16677ec7",
   "metadata": {},
   "outputs": [
    {
     "data": {
      "text/plain": [
       "[-1.1289936285650977,\n",
       " -0.6153507928788058,\n",
       " -0.3254447959281719,\n",
       " -0.1681722911216923,\n",
       " -0.1888876847424248,\n",
       " -0.13365328189866665,\n",
       " -0.10511904822555529,\n",
       " -0.1480267879484266,\n",
       " -0.07316416896015865,\n",
       " -0.02547492131516893,\n",
       " -0.12064137375987194,\n",
       " -0.028321829604897708]"
      ]
     },
     "execution_count": 134,
     "metadata": {},
     "output_type": "execute_result"
    }
   ],
   "source": [
    "diff"
   ]
  },
  {
   "cell_type": "code",
   "execution_count": 135,
   "id": "bcdb832e",
   "metadata": {
    "scrolled": true
   },
   "outputs": [
    {
     "data": {
      "text/html": [
       "<div>\n",
       "<style scoped>\n",
       "    .dataframe tbody tr th:only-of-type {\n",
       "        vertical-align: middle;\n",
       "    }\n",
       "\n",
       "    .dataframe tbody tr th {\n",
       "        vertical-align: top;\n",
       "    }\n",
       "\n",
       "    .dataframe thead th {\n",
       "        text-align: right;\n",
       "    }\n",
       "</style>\n",
       "<table border=\"1\" class=\"dataframe\">\n",
       "  <thead>\n",
       "    <tr style=\"text-align: right;\">\n",
       "      <th></th>\n",
       "      <th>Symbol</th>\n",
       "      <th>Cluster</th>\n",
       "    </tr>\n",
       "  </thead>\n",
       "  <tbody>\n",
       "    <tr>\n",
       "      <th>27</th>\n",
       "      <td>VZ</td>\n",
       "      <td>0</td>\n",
       "    </tr>\n",
       "    <tr>\n",
       "      <th>8</th>\n",
       "      <td>NEE</td>\n",
       "      <td>0</td>\n",
       "    </tr>\n",
       "    <tr>\n",
       "      <th>16</th>\n",
       "      <td>PEP</td>\n",
       "      <td>0</td>\n",
       "    </tr>\n",
       "    <tr>\n",
       "      <th>39</th>\n",
       "      <td>LLY</td>\n",
       "      <td>0</td>\n",
       "    </tr>\n",
       "    <tr>\n",
       "      <th>43</th>\n",
       "      <td>AMAT</td>\n",
       "      <td>1</td>\n",
       "    </tr>\n",
       "    <tr>\n",
       "      <th>10</th>\n",
       "      <td>TXN</td>\n",
       "      <td>1</td>\n",
       "    </tr>\n",
       "    <tr>\n",
       "      <th>12</th>\n",
       "      <td>MSFT</td>\n",
       "      <td>2</td>\n",
       "    </tr>\n",
       "    <tr>\n",
       "      <th>44</th>\n",
       "      <td>DE</td>\n",
       "      <td>2</td>\n",
       "    </tr>\n",
       "    <tr>\n",
       "      <th>7</th>\n",
       "      <td>INTC</td>\n",
       "      <td>2</td>\n",
       "    </tr>\n",
       "    <tr>\n",
       "      <th>9</th>\n",
       "      <td>IBM</td>\n",
       "      <td>2</td>\n",
       "    </tr>\n",
       "    <tr>\n",
       "      <th>48</th>\n",
       "      <td>ADBE</td>\n",
       "      <td>2</td>\n",
       "    </tr>\n",
       "    <tr>\n",
       "      <th>36</th>\n",
       "      <td>TJX</td>\n",
       "      <td>3</td>\n",
       "    </tr>\n",
       "    <tr>\n",
       "      <th>47</th>\n",
       "      <td>WHR</td>\n",
       "      <td>4</td>\n",
       "    </tr>\n",
       "    <tr>\n",
       "      <th>46</th>\n",
       "      <td>LEN</td>\n",
       "      <td>4</td>\n",
       "    </tr>\n",
       "    <tr>\n",
       "      <th>19</th>\n",
       "      <td>GM</td>\n",
       "      <td>4</td>\n",
       "    </tr>\n",
       "    <tr>\n",
       "      <th>40</th>\n",
       "      <td>MAS</td>\n",
       "      <td>4</td>\n",
       "    </tr>\n",
       "    <tr>\n",
       "      <th>0</th>\n",
       "      <td>AMZN</td>\n",
       "      <td>5</td>\n",
       "    </tr>\n",
       "    <tr>\n",
       "      <th>11</th>\n",
       "      <td>MA</td>\n",
       "      <td>5</td>\n",
       "    </tr>\n",
       "    <tr>\n",
       "      <th>1</th>\n",
       "      <td>AAPL</td>\n",
       "      <td>5</td>\n",
       "    </tr>\n",
       "    <tr>\n",
       "      <th>14</th>\n",
       "      <td>GOOGL</td>\n",
       "      <td>5</td>\n",
       "    </tr>\n",
       "    <tr>\n",
       "      <th>25</th>\n",
       "      <td>V</td>\n",
       "      <td>5</td>\n",
       "    </tr>\n",
       "    <tr>\n",
       "      <th>34</th>\n",
       "      <td>PGR</td>\n",
       "      <td>6</td>\n",
       "    </tr>\n",
       "    <tr>\n",
       "      <th>31</th>\n",
       "      <td>PLD</td>\n",
       "      <td>6</td>\n",
       "    </tr>\n",
       "    <tr>\n",
       "      <th>30</th>\n",
       "      <td>TGT</td>\n",
       "      <td>6</td>\n",
       "    </tr>\n",
       "    <tr>\n",
       "      <th>26</th>\n",
       "      <td>VMC</td>\n",
       "      <td>6</td>\n",
       "    </tr>\n",
       "    <tr>\n",
       "      <th>42</th>\n",
       "      <td>ABC</td>\n",
       "      <td>7</td>\n",
       "    </tr>\n",
       "    <tr>\n",
       "      <th>24</th>\n",
       "      <td>UNH</td>\n",
       "      <td>7</td>\n",
       "    </tr>\n",
       "    <tr>\n",
       "      <th>5</th>\n",
       "      <td>LMT</td>\n",
       "      <td>7</td>\n",
       "    </tr>\n",
       "    <tr>\n",
       "      <th>6</th>\n",
       "      <td>MCD</td>\n",
       "      <td>7</td>\n",
       "    </tr>\n",
       "    <tr>\n",
       "      <th>17</th>\n",
       "      <td>KO</td>\n",
       "      <td>7</td>\n",
       "    </tr>\n",
       "    <tr>\n",
       "      <th>20</th>\n",
       "      <td>HCA</td>\n",
       "      <td>8</td>\n",
       "    </tr>\n",
       "    <tr>\n",
       "      <th>41</th>\n",
       "      <td>KR</td>\n",
       "      <td>8</td>\n",
       "    </tr>\n",
       "    <tr>\n",
       "      <th>23</th>\n",
       "      <td>NFLX</td>\n",
       "      <td>9</td>\n",
       "    </tr>\n",
       "    <tr>\n",
       "      <th>45</th>\n",
       "      <td>UPS</td>\n",
       "      <td>10</td>\n",
       "    </tr>\n",
       "    <tr>\n",
       "      <th>4</th>\n",
       "      <td>BA</td>\n",
       "      <td>10</td>\n",
       "    </tr>\n",
       "    <tr>\n",
       "      <th>32</th>\n",
       "      <td>CVX</td>\n",
       "      <td>10</td>\n",
       "    </tr>\n",
       "    <tr>\n",
       "      <th>13</th>\n",
       "      <td>GE</td>\n",
       "      <td>10</td>\n",
       "    </tr>\n",
       "    <tr>\n",
       "      <th>37</th>\n",
       "      <td>MMM</td>\n",
       "      <td>10</td>\n",
       "    </tr>\n",
       "    <tr>\n",
       "      <th>15</th>\n",
       "      <td>AXP</td>\n",
       "      <td>10</td>\n",
       "    </tr>\n",
       "    <tr>\n",
       "      <th>22</th>\n",
       "      <td>JPM</td>\n",
       "      <td>11</td>\n",
       "    </tr>\n",
       "    <tr>\n",
       "      <th>49</th>\n",
       "      <td>CE</td>\n",
       "      <td>11</td>\n",
       "    </tr>\n",
       "    <tr>\n",
       "      <th>33</th>\n",
       "      <td>PXD</td>\n",
       "      <td>11</td>\n",
       "    </tr>\n",
       "    <tr>\n",
       "      <th>28</th>\n",
       "      <td>LNC</td>\n",
       "      <td>11</td>\n",
       "    </tr>\n",
       "    <tr>\n",
       "      <th>35</th>\n",
       "      <td>NUE</td>\n",
       "      <td>11</td>\n",
       "    </tr>\n",
       "    <tr>\n",
       "      <th>18</th>\n",
       "      <td>JNJ</td>\n",
       "      <td>12</td>\n",
       "    </tr>\n",
       "    <tr>\n",
       "      <th>21</th>\n",
       "      <td>AMGN</td>\n",
       "      <td>12</td>\n",
       "    </tr>\n",
       "    <tr>\n",
       "      <th>29</th>\n",
       "      <td>WM</td>\n",
       "      <td>12</td>\n",
       "    </tr>\n",
       "    <tr>\n",
       "      <th>3</th>\n",
       "      <td>NOC</td>\n",
       "      <td>12</td>\n",
       "    </tr>\n",
       "    <tr>\n",
       "      <th>38</th>\n",
       "      <td>MDT</td>\n",
       "      <td>12</td>\n",
       "    </tr>\n",
       "    <tr>\n",
       "      <th>2</th>\n",
       "      <td>WBA</td>\n",
       "      <td>13</td>\n",
       "    </tr>\n",
       "  </tbody>\n",
       "</table>\n",
       "</div>"
      ],
      "text/plain": [
       "   Symbol  Cluster\n",
       "27     VZ        0\n",
       "8     NEE        0\n",
       "16    PEP        0\n",
       "39    LLY        0\n",
       "43   AMAT        1\n",
       "10    TXN        1\n",
       "12   MSFT        2\n",
       "44     DE        2\n",
       "7    INTC        2\n",
       "9     IBM        2\n",
       "48   ADBE        2\n",
       "36    TJX        3\n",
       "47    WHR        4\n",
       "46    LEN        4\n",
       "19     GM        4\n",
       "40    MAS        4\n",
       "0    AMZN        5\n",
       "11     MA        5\n",
       "1    AAPL        5\n",
       "14  GOOGL        5\n",
       "25      V        5\n",
       "34    PGR        6\n",
       "31    PLD        6\n",
       "30    TGT        6\n",
       "26    VMC        6\n",
       "42    ABC        7\n",
       "24    UNH        7\n",
       "5     LMT        7\n",
       "6     MCD        7\n",
       "17     KO        7\n",
       "20    HCA        8\n",
       "41     KR        8\n",
       "23   NFLX        9\n",
       "45    UPS       10\n",
       "4      BA       10\n",
       "32    CVX       10\n",
       "13     GE       10\n",
       "37    MMM       10\n",
       "15    AXP       10\n",
       "22    JPM       11\n",
       "49     CE       11\n",
       "33    PXD       11\n",
       "28    LNC       11\n",
       "35    NUE       11\n",
       "18    JNJ       12\n",
       "21   AMGN       12\n",
       "29     WM       12\n",
       "3     NOC       12\n",
       "38    MDT       12\n",
       "2     WBA       13"
      ]
     },
     "execution_count": 135,
     "metadata": {},
     "output_type": "execute_result"
    }
   ],
   "source": [
    "labels=kmeans.predict(reduced_data)\n",
    "result=pd.DataFrame(zip(movement_df.index, labels), columns=['Symbol', 'Cluster'])\n",
    "result.sort_values('Cluster')"
   ]
  },
  {
   "cell_type": "code",
   "execution_count": 18,
   "id": "68dbbf47",
   "metadata": {
    "scrolled": true
   },
   "outputs": [
    {
     "name": "stdout",
     "output_type": "stream",
     "text": [
      "done training\n"
     ]
    },
    {
     "data": {
      "text/plain": [
       "array([5, 5, 3, 4, 1, 4, 4, 1, 4, 1, 1, 2, 1, 1, 5, 1, 4, 0, 1, 1, 0, 0,\n",
       "       1, 7, 1, 2, 8, 4, 1, 4, 1, 1, 1, 1, 4, 1, 3, 1, 0, 9, 6, 1, 1, 1,\n",
       "       1, 1, 6, 6, 1, 1], dtype=int32)"
      ]
     },
     "execution_count": 18,
     "metadata": {},
     "output_type": "execute_result"
    }
   ],
   "source": [
    "cluster(movement_df)"
   ]
  },
  {
   "cell_type": "code",
   "execution_count": 229,
   "id": "4bcce988",
   "metadata": {},
   "outputs": [],
   "source": [
    "import random"
   ]
  },
  {
   "cell_type": "code",
   "execution_count": 255,
   "id": "8fb8b063",
   "metadata": {},
   "outputs": [
    {
     "name": "stdout",
     "output_type": "stream",
     "text": [
      "CPU times: user 4 µs, sys: 0 ns, total: 4 µs\n",
      "Wall time: 8.11 µs\n"
     ]
    },
    {
     "data": {
      "image/png": "[encoded data removed]",
      "text/plain": [
       "<Figure size 432x288 with 1 Axes>"
      ]
     },
     "metadata": {
      "needs_background": "light"
     },
     "output_type": "display_data"
    },
    {
     "data": {
      "image/png": "[encoded data removed]",
      "text/plain": [
       "<Figure size 432x288 with 1 Axes>"
      ]
     },
     "metadata": {
      "needs_background": "light"
     },
     "output_type": "display_data"
    },
    {
     "data": {
      "image/png": "[encoded data removed]",
      "text/plain": [
       "<Figure size 432x288 with 1 Axes>"
      ]
     },
     "metadata": {
      "needs_background": "light"
     },
     "output_type": "display_data"
    },
    {
     "data": {
      "image/png": "[encoded data removed]",
      "text/plain": [
       "<Figure size 432x288 with 1 Axes>"
      ]
     },
     "metadata": {
      "needs_background": "light"
     },
     "output_type": "display_data"
    },
    {
     "data": {
      "image/png": "[encoded data removed]",
      "text/plain": [
       "<Figure size 432x288 with 1 Axes>"
      ]
     },
     "metadata": {
      "needs_background": "light"
     },
     "output_type": "display_data"
    },
    {
     "data": {
      "image/png": "[encoded data removed]",
      "text/plain": [
       "<Figure size 432x288 with 1 Axes>"
      ]
     },
     "metadata": {
      "needs_background": "light"
     },
     "output_type": "display_data"
    },
    {
     "data": {
      "image/png": "[encoded data removed]",
      "text/plain": [
       "<Figure size 432x288 with 1 Axes>"
      ]
     },
     "metadata": {
      "needs_background": "light"
     },
     "output_type": "display_data"
    }
   ],
   "source": [
    "%time\n",
    "for each_cluster in range(len(result['Cluster'].unique())): \n",
    "    symbols=result[result['Cluster']==each_cluster]['Symbol']\n",
    "#     print(symbols.values)\n",
    "#     print(movement_df[movement_df.isin(symbols)])\n",
    "    movement_df.loc[symbols].T.plot().figure.savefig(f'static/images/fig_{each_cluster}.png')\n",
    "#     break"
   ]
  },
  {
   "cell_type": "code",
   "execution_count": 247,
   "id": "093e8efb",
   "metadata": {},
   "outputs": [
    {
     "data": {
      "text/html": [
       "<div>\n",
       "<style scoped>\n",
       "    .dataframe tbody tr th:only-of-type {\n",
       "        vertical-align: middle;\n",
       "    }\n",
       "\n",
       "    .dataframe tbody tr th {\n",
       "        vertical-align: top;\n",
       "    }\n",
       "\n",
       "    .dataframe thead th {\n",
       "        text-align: right;\n",
       "    }\n",
       "</style>\n",
       "<table border=\"1\" class=\"dataframe\">\n",
       "  <thead>\n",
       "    <tr style=\"text-align: right;\">\n",
       "      <th></th>\n",
       "      <th>2011-05-20</th>\n",
       "      <th>2011-05-23</th>\n",
       "      <th>2011-05-24</th>\n",
       "      <th>2011-05-25</th>\n",
       "      <th>2011-05-26</th>\n",
       "      <th>2011-05-27</th>\n",
       "      <th>2011-05-31</th>\n",
       "      <th>2011-06-01</th>\n",
       "      <th>2011-06-02</th>\n",
       "      <th>2011-06-03</th>\n",
       "      <th>...</th>\n",
       "      <th>2012-05-07</th>\n",
       "      <th>2012-05-08</th>\n",
       "      <th>2012-05-09</th>\n",
       "      <th>2012-05-10</th>\n",
       "      <th>2012-05-11</th>\n",
       "      <th>2012-05-14</th>\n",
       "      <th>2012-05-15</th>\n",
       "      <th>2012-05-16</th>\n",
       "      <th>2012-05-17</th>\n",
       "      <th>2012-05-18</th>\n",
       "    </tr>\n",
       "  </thead>\n",
       "  <tbody>\n",
       "    <tr>\n",
       "      <th>AMZN</th>\n",
       "      <td>0.699997</td>\n",
       "      <td>0.660004</td>\n",
       "      <td>-3.729996</td>\n",
       "      <td>-1.310013</td>\n",
       "      <td>3.759995</td>\n",
       "      <td>-0.629990</td>\n",
       "      <td>0.750000</td>\n",
       "      <td>-3.660004</td>\n",
       "      <td>1.369995</td>\n",
       "      <td>-2.909988</td>\n",
       "      <td>...</td>\n",
       "      <td>2.800003</td>\n",
       "      <td>0.750000</td>\n",
       "      <td>2.389999</td>\n",
       "      <td>2.779999</td>\n",
       "      <td>1.729996</td>\n",
       "      <td>-2.670013</td>\n",
       "      <td>-2.110001</td>\n",
       "      <td>-0.940002</td>\n",
       "      <td>-6.690002</td>\n",
       "      <td>-5.559998</td>\n",
       "    </tr>\n",
       "    <tr>\n",
       "      <th>AAPL</th>\n",
       "      <td>-0.155000</td>\n",
       "      <td>0.158214</td>\n",
       "      <td>-0.118215</td>\n",
       "      <td>0.119643</td>\n",
       "      <td>-0.034643</td>\n",
       "      <td>0.093214</td>\n",
       "      <td>0.240356</td>\n",
       "      <td>-0.120001</td>\n",
       "      <td>-0.014286</td>\n",
       "      <td>0.009285</td>\n",
       "      <td>...</td>\n",
       "      <td>0.285000</td>\n",
       "      <td>-0.049999</td>\n",
       "      <td>0.195713</td>\n",
       "      <td>-0.145000</td>\n",
       "      <td>0.061071</td>\n",
       "      <td>-0.155357</td>\n",
       "      <td>-0.295715</td>\n",
       "      <td>-0.284643</td>\n",
       "      <td>-0.542500</td>\n",
       "      <td>-0.127857</td>\n",
       "    </tr>\n",
       "    <tr>\n",
       "      <th>WBA</th>\n",
       "      <td>0.279999</td>\n",
       "      <td>0.500000</td>\n",
       "      <td>-0.160000</td>\n",
       "      <td>0.020000</td>\n",
       "      <td>0.010002</td>\n",
       "      <td>-0.160000</td>\n",
       "      <td>-0.360001</td>\n",
       "      <td>-0.340000</td>\n",
       "      <td>-0.169998</td>\n",
       "      <td>0.380001</td>\n",
       "      <td>...</td>\n",
       "      <td>-0.090000</td>\n",
       "      <td>0.560001</td>\n",
       "      <td>0.150002</td>\n",
       "      <td>-0.030003</td>\n",
       "      <td>-0.660000</td>\n",
       "      <td>-0.160000</td>\n",
       "      <td>0.120003</td>\n",
       "      <td>-0.130001</td>\n",
       "      <td>-0.789999</td>\n",
       "      <td>-0.690001</td>\n",
       "    </tr>\n",
       "    <tr>\n",
       "      <th>NOC</th>\n",
       "      <td>-0.430000</td>\n",
       "      <td>1.099998</td>\n",
       "      <td>0.400002</td>\n",
       "      <td>-0.279999</td>\n",
       "      <td>0.290001</td>\n",
       "      <td>0.449997</td>\n",
       "      <td>0.099998</td>\n",
       "      <td>-1.250000</td>\n",
       "      <td>0.110001</td>\n",
       "      <td>0.340000</td>\n",
       "      <td>...</td>\n",
       "      <td>0.079998</td>\n",
       "      <td>-0.020000</td>\n",
       "      <td>-0.220001</td>\n",
       "      <td>-0.320000</td>\n",
       "      <td>-0.490002</td>\n",
       "      <td>0.570000</td>\n",
       "      <td>-0.180000</td>\n",
       "      <td>-0.599998</td>\n",
       "      <td>-1.049999</td>\n",
       "      <td>-0.669998</td>\n",
       "    </tr>\n",
       "    <tr>\n",
       "      <th>BA</th>\n",
       "      <td>-0.370003</td>\n",
       "      <td>-0.270004</td>\n",
       "      <td>-0.889999</td>\n",
       "      <td>1.059998</td>\n",
       "      <td>0.120003</td>\n",
       "      <td>-0.040001</td>\n",
       "      <td>0.229996</td>\n",
       "      <td>-2.599998</td>\n",
       "      <td>0.250000</td>\n",
       "      <td>0.129997</td>\n",
       "      <td>...</td>\n",
       "      <td>0.169998</td>\n",
       "      <td>0.020004</td>\n",
       "      <td>-0.199997</td>\n",
       "      <td>-0.659996</td>\n",
       "      <td>-0.029999</td>\n",
       "      <td>0.230003</td>\n",
       "      <td>-0.419998</td>\n",
       "      <td>-0.470001</td>\n",
       "      <td>-2.579994</td>\n",
       "      <td>-0.799995</td>\n",
       "    </tr>\n",
       "    <tr>\n",
       "      <th>LMT</th>\n",
       "      <td>-0.620003</td>\n",
       "      <td>0.210007</td>\n",
       "      <td>-0.560005</td>\n",
       "      <td>-0.059998</td>\n",
       "      <td>-0.610001</td>\n",
       "      <td>0.180000</td>\n",
       "      <td>0.630005</td>\n",
       "      <td>-2.000000</td>\n",
       "      <td>-0.049995</td>\n",
       "      <td>1.059998</td>\n",
       "      <td>...</td>\n",
       "      <td>-0.470001</td>\n",
       "      <td>0.139999</td>\n",
       "      <td>-0.580002</td>\n",
       "      <td>-0.469994</td>\n",
       "      <td>-0.970001</td>\n",
       "      <td>0.539993</td>\n",
       "      <td>-0.440002</td>\n",
       "      <td>-0.599998</td>\n",
       "      <td>-1.389999</td>\n",
       "      <td>-0.380005</td>\n",
       "    </tr>\n",
       "    <tr>\n",
       "      <th>MCD</th>\n",
       "      <td>-0.459999</td>\n",
       "      <td>0.970001</td>\n",
       "      <td>-0.010002</td>\n",
       "      <td>0.150002</td>\n",
       "      <td>-0.440002</td>\n",
       "      <td>-0.509995</td>\n",
       "      <td>-0.589996</td>\n",
       "      <td>-0.489998</td>\n",
       "      <td>-0.199997</td>\n",
       "      <td>0.440002</td>\n",
       "      <td>...</td>\n",
       "      <td>-0.220001</td>\n",
       "      <td>-0.349998</td>\n",
       "      <td>-1.059998</td>\n",
       "      <td>-0.829994</td>\n",
       "      <td>0.209999</td>\n",
       "      <td>-0.660004</td>\n",
       "      <td>0.020004</td>\n",
       "      <td>0.309998</td>\n",
       "      <td>-1.659996</td>\n",
       "      <td>-0.360001</td>\n",
       "    </tr>\n",
       "    <tr>\n",
       "      <th>INTC</th>\n",
       "      <td>-0.240000</td>\n",
       "      <td>-0.059999</td>\n",
       "      <td>-0.279999</td>\n",
       "      <td>0.160000</td>\n",
       "      <td>-0.120001</td>\n",
       "      <td>-0.250000</td>\n",
       "      <td>0.059999</td>\n",
       "      <td>-0.450001</td>\n",
       "      <td>0.080000</td>\n",
       "      <td>-0.060001</td>\n",
       "      <td>...</td>\n",
       "      <td>-0.070000</td>\n",
       "      <td>-0.109999</td>\n",
       "      <td>0.110001</td>\n",
       "      <td>-0.100000</td>\n",
       "      <td>0.369999</td>\n",
       "      <td>-0.330000</td>\n",
       "      <td>-0.170000</td>\n",
       "      <td>-0.410000</td>\n",
       "      <td>-0.279999</td>\n",
       "      <td>-0.170000</td>\n",
       "    </tr>\n",
       "    <tr>\n",
       "      <th>NEE</th>\n",
       "      <td>-0.177501</td>\n",
       "      <td>0.045000</td>\n",
       "      <td>-0.052500</td>\n",
       "      <td>-0.045000</td>\n",
       "      <td>0.072499</td>\n",
       "      <td>0.012500</td>\n",
       "      <td>0.080000</td>\n",
       "      <td>-0.175000</td>\n",
       "      <td>-0.137500</td>\n",
       "      <td>0.325000</td>\n",
       "      <td>...</td>\n",
       "      <td>0.147500</td>\n",
       "      <td>0.045000</td>\n",
       "      <td>0.080000</td>\n",
       "      <td>0.125000</td>\n",
       "      <td>0.042500</td>\n",
       "      <td>0.150000</td>\n",
       "      <td>-0.022501</td>\n",
       "      <td>-0.045000</td>\n",
       "      <td>-0.119999</td>\n",
       "      <td>-0.030001</td>\n",
       "    </tr>\n",
       "    <tr>\n",
       "      <th>IBM</th>\n",
       "      <td>-0.239990</td>\n",
       "      <td>-0.320007</td>\n",
       "      <td>-0.509995</td>\n",
       "      <td>0.119995</td>\n",
       "      <td>-0.280014</td>\n",
       "      <td>-0.410004</td>\n",
       "      <td>0.489990</td>\n",
       "      <td>-2.339996</td>\n",
       "      <td>-0.350006</td>\n",
       "      <td>0.750000</td>\n",
       "      <td>...</td>\n",
       "      <td>-0.210007</td>\n",
       "      <td>-0.960007</td>\n",
       "      <td>1.239990</td>\n",
       "      <td>-0.399994</td>\n",
       "      <td>1.209991</td>\n",
       "      <td>-0.479996</td>\n",
       "      <td>-0.400009</td>\n",
       "      <td>0.309998</td>\n",
       "      <td>-1.779999</td>\n",
       "      <td>-2.899994</td>\n",
       "    </tr>\n",
       "    <tr>\n",
       "      <th>TXN</th>\n",
       "      <td>0.110001</td>\n",
       "      <td>-0.349998</td>\n",
       "      <td>-0.250000</td>\n",
       "      <td>0.299999</td>\n",
       "      <td>0.130001</td>\n",
       "      <td>0.280003</td>\n",
       "      <td>0.489998</td>\n",
       "      <td>-1.169998</td>\n",
       "      <td>0.230003</td>\n",
       "      <td>-0.290001</td>\n",
       "      <td>...</td>\n",
       "      <td>0.130001</td>\n",
       "      <td>0.269999</td>\n",
       "      <td>0.290001</td>\n",
       "      <td>0.090000</td>\n",
       "      <td>-0.010000</td>\n",
       "      <td>0.160000</td>\n",
       "      <td>-0.349998</td>\n",
       "      <td>-0.390001</td>\n",
       "      <td>-0.660000</td>\n",
       "      <td>-0.770000</td>\n",
       "    </tr>\n",
       "    <tr>\n",
       "      <th>MA</th>\n",
       "      <td>-0.719999</td>\n",
       "      <td>-0.254002</td>\n",
       "      <td>-0.306999</td>\n",
       "      <td>0.643000</td>\n",
       "      <td>0.809999</td>\n",
       "      <td>0.305000</td>\n",
       "      <td>0.027000</td>\n",
       "      <td>-0.594000</td>\n",
       "      <td>0.205999</td>\n",
       "      <td>-0.195000</td>\n",
       "      <td>...</td>\n",
       "      <td>0.146999</td>\n",
       "      <td>-0.237000</td>\n",
       "      <td>-0.299000</td>\n",
       "      <td>-0.282001</td>\n",
       "      <td>0.240002</td>\n",
       "      <td>-0.373001</td>\n",
       "      <td>-0.025002</td>\n",
       "      <td>-0.951000</td>\n",
       "      <td>-1.521999</td>\n",
       "      <td>-0.745998</td>\n",
       "    </tr>\n",
       "    <tr>\n",
       "      <th>MSFT</th>\n",
       "      <td>-0.230000</td>\n",
       "      <td>-0.039999</td>\n",
       "      <td>-0.050001</td>\n",
       "      <td>0.020000</td>\n",
       "      <td>0.320000</td>\n",
       "      <td>0.080000</td>\n",
       "      <td>0.050001</td>\n",
       "      <td>-0.559999</td>\n",
       "      <td>-0.270000</td>\n",
       "      <td>-0.139999</td>\n",
       "      <td>...</td>\n",
       "      <td>-0.050001</td>\n",
       "      <td>0.020000</td>\n",
       "      <td>0.570000</td>\n",
       "      <td>-0.120001</td>\n",
       "      <td>0.469999</td>\n",
       "      <td>-0.139999</td>\n",
       "      <td>-0.430000</td>\n",
       "      <td>-0.410000</td>\n",
       "      <td>-0.270000</td>\n",
       "      <td>-0.520000</td>\n",
       "    </tr>\n",
       "    <tr>\n",
       "      <th>GE</th>\n",
       "      <td>-0.298077</td>\n",
       "      <td>0.067308</td>\n",
       "      <td>-0.317307</td>\n",
       "      <td>0.211536</td>\n",
       "      <td>0.278845</td>\n",
       "      <td>-0.048077</td>\n",
       "      <td>-0.038462</td>\n",
       "      <td>-0.326921</td>\n",
       "      <td>-0.067308</td>\n",
       "      <td>-0.009615</td>\n",
       "      <td>...</td>\n",
       "      <td>0.163462</td>\n",
       "      <td>0.019230</td>\n",
       "      <td>-0.086540</td>\n",
       "      <td>-0.028847</td>\n",
       "      <td>0.086538</td>\n",
       "      <td>-0.211538</td>\n",
       "      <td>-0.144230</td>\n",
       "      <td>0.105770</td>\n",
       "      <td>-0.067307</td>\n",
       "      <td>0.000000</td>\n",
       "    </tr>\n",
       "    <tr>\n",
       "      <th>GOOGL</th>\n",
       "      <td>-3.888885</td>\n",
       "      <td>0.895905</td>\n",
       "      <td>-1.056061</td>\n",
       "      <td>1.171173</td>\n",
       "      <td>0.215210</td>\n",
       "      <td>1.211212</td>\n",
       "      <td>2.012024</td>\n",
       "      <td>-1.221222</td>\n",
       "      <td>0.245239</td>\n",
       "      <td>0.540527</td>\n",
       "      <td>...</td>\n",
       "      <td>6.281281</td>\n",
       "      <td>3.633636</td>\n",
       "      <td>1.166168</td>\n",
       "      <td>0.350372</td>\n",
       "      <td>-2.562561</td>\n",
       "      <td>1.611603</td>\n",
       "      <td>2.882904</td>\n",
       "      <td>5.490509</td>\n",
       "      <td>-5.395416</td>\n",
       "      <td>-12.362366</td>\n",
       "    </tr>\n",
       "    <tr>\n",
       "      <th>AXP</th>\n",
       "      <td>-0.560001</td>\n",
       "      <td>0.379997</td>\n",
       "      <td>-0.590000</td>\n",
       "      <td>-0.029999</td>\n",
       "      <td>0.529999</td>\n",
       "      <td>0.299999</td>\n",
       "      <td>0.209999</td>\n",
       "      <td>-1.400002</td>\n",
       "      <td>0.099998</td>\n",
       "      <td>-0.170002</td>\n",
       "      <td>...</td>\n",
       "      <td>0.039997</td>\n",
       "      <td>0.029999</td>\n",
       "      <td>0.290001</td>\n",
       "      <td>-0.450001</td>\n",
       "      <td>0.470001</td>\n",
       "      <td>-0.600002</td>\n",
       "      <td>-0.480000</td>\n",
       "      <td>-0.950001</td>\n",
       "      <td>-1.719997</td>\n",
       "      <td>-0.340000</td>\n",
       "    </tr>\n",
       "    <tr>\n",
       "      <th>PEP</th>\n",
       "      <td>-0.369995</td>\n",
       "      <td>0.120003</td>\n",
       "      <td>-0.109993</td>\n",
       "      <td>-0.170006</td>\n",
       "      <td>0.080002</td>\n",
       "      <td>-0.209999</td>\n",
       "      <td>0.400002</td>\n",
       "      <td>-0.290001</td>\n",
       "      <td>-0.750000</td>\n",
       "      <td>0.000000</td>\n",
       "      <td>...</td>\n",
       "      <td>0.110001</td>\n",
       "      <td>0.269997</td>\n",
       "      <td>-0.189995</td>\n",
       "      <td>0.620003</td>\n",
       "      <td>0.139999</td>\n",
       "      <td>0.580002</td>\n",
       "      <td>0.839996</td>\n",
       "      <td>0.379997</td>\n",
       "      <td>0.180000</td>\n",
       "      <td>-0.320000</td>\n",
       "    </tr>\n",
       "    <tr>\n",
       "      <th>KO</th>\n",
       "      <td>-0.009998</td>\n",
       "      <td>-0.049999</td>\n",
       "      <td>-0.095001</td>\n",
       "      <td>-0.184998</td>\n",
       "      <td>-0.020000</td>\n",
       "      <td>-0.180000</td>\n",
       "      <td>-0.065002</td>\n",
       "      <td>0.080002</td>\n",
       "      <td>-0.305000</td>\n",
       "      <td>0.130001</td>\n",
       "      <td>...</td>\n",
       "      <td>0.154999</td>\n",
       "      <td>0.064999</td>\n",
       "      <td>0.095001</td>\n",
       "      <td>0.100002</td>\n",
       "      <td>0.135002</td>\n",
       "      <td>-0.125000</td>\n",
       "      <td>0.005001</td>\n",
       "      <td>-0.165001</td>\n",
       "      <td>-0.524998</td>\n",
       "      <td>-0.599998</td>\n",
       "    </tr>\n",
       "    <tr>\n",
       "      <th>JNJ</th>\n",
       "      <td>-0.559998</td>\n",
       "      <td>0.369995</td>\n",
       "      <td>0.040001</td>\n",
       "      <td>0.000000</td>\n",
       "      <td>-0.079994</td>\n",
       "      <td>0.979996</td>\n",
       "      <td>-0.019997</td>\n",
       "      <td>-0.539993</td>\n",
       "      <td>0.040001</td>\n",
       "      <td>0.250000</td>\n",
       "      <td>...</td>\n",
       "      <td>0.220001</td>\n",
       "      <td>0.300003</td>\n",
       "      <td>-0.309998</td>\n",
       "      <td>-0.239998</td>\n",
       "      <td>-0.090004</td>\n",
       "      <td>-0.099998</td>\n",
       "      <td>-0.090000</td>\n",
       "      <td>-0.080002</td>\n",
       "      <td>-0.160000</td>\n",
       "      <td>-0.520000</td>\n",
       "    </tr>\n",
       "    <tr>\n",
       "      <th>GM</th>\n",
       "      <td>-0.180000</td>\n",
       "      <td>0.279999</td>\n",
       "      <td>-0.299999</td>\n",
       "      <td>0.710001</td>\n",
       "      <td>-0.400000</td>\n",
       "      <td>0.510000</td>\n",
       "      <td>0.369999</td>\n",
       "      <td>-1.470001</td>\n",
       "      <td>-0.730000</td>\n",
       "      <td>-0.160000</td>\n",
       "      <td>...</td>\n",
       "      <td>0.539999</td>\n",
       "      <td>-0.020000</td>\n",
       "      <td>0.560001</td>\n",
       "      <td>-0.320000</td>\n",
       "      <td>0.000000</td>\n",
       "      <td>-0.120001</td>\n",
       "      <td>-0.150000</td>\n",
       "      <td>-0.139999</td>\n",
       "      <td>-0.330000</td>\n",
       "      <td>-0.360001</td>\n",
       "    </tr>\n",
       "    <tr>\n",
       "      <th>HCA</th>\n",
       "      <td>-0.270000</td>\n",
       "      <td>0.009998</td>\n",
       "      <td>-0.039997</td>\n",
       "      <td>0.110001</td>\n",
       "      <td>-0.070000</td>\n",
       "      <td>-0.179996</td>\n",
       "      <td>-0.100002</td>\n",
       "      <td>-0.230000</td>\n",
       "      <td>-0.480000</td>\n",
       "      <td>0.139999</td>\n",
       "      <td>...</td>\n",
       "      <td>-0.309999</td>\n",
       "      <td>0.630001</td>\n",
       "      <td>0.140001</td>\n",
       "      <td>-0.219999</td>\n",
       "      <td>0.129999</td>\n",
       "      <td>-0.200001</td>\n",
       "      <td>-0.070002</td>\n",
       "      <td>-0.559999</td>\n",
       "      <td>-0.029999</td>\n",
       "      <td>-0.820002</td>\n",
       "    </tr>\n",
       "    <tr>\n",
       "      <th>AMGN</th>\n",
       "      <td>-0.099998</td>\n",
       "      <td>0.410000</td>\n",
       "      <td>-0.610001</td>\n",
       "      <td>-0.150002</td>\n",
       "      <td>0.239998</td>\n",
       "      <td>-0.120003</td>\n",
       "      <td>0.860001</td>\n",
       "      <td>-0.849998</td>\n",
       "      <td>-0.320000</td>\n",
       "      <td>-0.190002</td>\n",
       "      <td>...</td>\n",
       "      <td>0.279999</td>\n",
       "      <td>1.360001</td>\n",
       "      <td>-0.639999</td>\n",
       "      <td>0.039993</td>\n",
       "      <td>0.639999</td>\n",
       "      <td>0.250000</td>\n",
       "      <td>0.660004</td>\n",
       "      <td>-0.019997</td>\n",
       "      <td>-0.529999</td>\n",
       "      <td>-1.549995</td>\n",
       "    </tr>\n",
       "    <tr>\n",
       "      <th>JPM</th>\n",
       "      <td>-0.700001</td>\n",
       "      <td>0.149998</td>\n",
       "      <td>-0.430000</td>\n",
       "      <td>0.160000</td>\n",
       "      <td>0.330002</td>\n",
       "      <td>0.090000</td>\n",
       "      <td>0.000000</td>\n",
       "      <td>-1.110001</td>\n",
       "      <td>-0.320000</td>\n",
       "      <td>0.480000</td>\n",
       "      <td>...</td>\n",
       "      <td>0.349998</td>\n",
       "      <td>-0.119999</td>\n",
       "      <td>-0.080002</td>\n",
       "      <td>-0.489998</td>\n",
       "      <td>-0.180000</td>\n",
       "      <td>-0.309998</td>\n",
       "      <td>0.050003</td>\n",
       "      <td>-1.330002</td>\n",
       "      <td>-1.110001</td>\n",
       "      <td>-0.500000</td>\n",
       "    </tr>\n",
       "    <tr>\n",
       "      <th>NFLX</th>\n",
       "      <td>0.617142</td>\n",
       "      <td>0.687141</td>\n",
       "      <td>-0.327141</td>\n",
       "      <td>1.647144</td>\n",
       "      <td>0.635712</td>\n",
       "      <td>0.001431</td>\n",
       "      <td>0.507145</td>\n",
       "      <td>-0.315712</td>\n",
       "      <td>0.807144</td>\n",
       "      <td>0.528568</td>\n",
       "      <td>...</td>\n",
       "      <td>0.135714</td>\n",
       "      <td>-0.040000</td>\n",
       "      <td>0.317143</td>\n",
       "      <td>-0.347143</td>\n",
       "      <td>0.641429</td>\n",
       "      <td>-0.024285</td>\n",
       "      <td>-0.042858</td>\n",
       "      <td>-0.481428</td>\n",
       "      <td>-0.325714</td>\n",
       "      <td>-0.334286</td>\n",
       "    </tr>\n",
       "    <tr>\n",
       "      <th>UNH</th>\n",
       "      <td>-0.730000</td>\n",
       "      <td>-0.279999</td>\n",
       "      <td>-1.200001</td>\n",
       "      <td>0.169998</td>\n",
       "      <td>0.030003</td>\n",
       "      <td>0.399998</td>\n",
       "      <td>0.290001</td>\n",
       "      <td>-0.350002</td>\n",
       "      <td>0.790001</td>\n",
       "      <td>0.250000</td>\n",
       "      <td>...</td>\n",
       "      <td>0.900002</td>\n",
       "      <td>0.579998</td>\n",
       "      <td>-0.149998</td>\n",
       "      <td>-0.270000</td>\n",
       "      <td>0.000000</td>\n",
       "      <td>0.340000</td>\n",
       "      <td>-0.080002</td>\n",
       "      <td>-0.139999</td>\n",
       "      <td>-0.189999</td>\n",
       "      <td>-0.899998</td>\n",
       "    </tr>\n",
       "    <tr>\n",
       "      <th>V</th>\n",
       "      <td>-0.277498</td>\n",
       "      <td>-0.042500</td>\n",
       "      <td>0.147499</td>\n",
       "      <td>0.447500</td>\n",
       "      <td>0.180000</td>\n",
       "      <td>0.285000</td>\n",
       "      <td>0.260000</td>\n",
       "      <td>-0.395000</td>\n",
       "      <td>0.377499</td>\n",
       "      <td>-0.170000</td>\n",
       "      <td>...</td>\n",
       "      <td>0.387501</td>\n",
       "      <td>0.010000</td>\n",
       "      <td>0.027500</td>\n",
       "      <td>-0.032501</td>\n",
       "      <td>0.139999</td>\n",
       "      <td>-0.027500</td>\n",
       "      <td>0.040001</td>\n",
       "      <td>0.182499</td>\n",
       "      <td>-0.497499</td>\n",
       "      <td>-0.552500</td>\n",
       "    </tr>\n",
       "    <tr>\n",
       "      <th>VMC</th>\n",
       "      <td>-0.220001</td>\n",
       "      <td>-0.490002</td>\n",
       "      <td>0.310001</td>\n",
       "      <td>-0.419998</td>\n",
       "      <td>0.379997</td>\n",
       "      <td>0.209999</td>\n",
       "      <td>0.240002</td>\n",
       "      <td>-1.200001</td>\n",
       "      <td>-0.250000</td>\n",
       "      <td>-0.590000</td>\n",
       "      <td>...</td>\n",
       "      <td>0.690002</td>\n",
       "      <td>-0.279999</td>\n",
       "      <td>0.230000</td>\n",
       "      <td>-1.070000</td>\n",
       "      <td>0.180000</td>\n",
       "      <td>-0.780003</td>\n",
       "      <td>-0.690002</td>\n",
       "      <td>-3.460003</td>\n",
       "      <td>-1.599998</td>\n",
       "      <td>0.450001</td>\n",
       "    </tr>\n",
       "    <tr>\n",
       "      <th>VZ</th>\n",
       "      <td>-0.099998</td>\n",
       "      <td>0.099998</td>\n",
       "      <td>-0.009998</td>\n",
       "      <td>-0.320000</td>\n",
       "      <td>0.330002</td>\n",
       "      <td>-0.070004</td>\n",
       "      <td>0.020000</td>\n",
       "      <td>-0.189999</td>\n",
       "      <td>-0.120003</td>\n",
       "      <td>-0.219997</td>\n",
       "      <td>...</td>\n",
       "      <td>0.469997</td>\n",
       "      <td>0.090000</td>\n",
       "      <td>-0.029999</td>\n",
       "      <td>-0.010002</td>\n",
       "      <td>0.340000</td>\n",
       "      <td>-0.029999</td>\n",
       "      <td>0.270000</td>\n",
       "      <td>-0.239998</td>\n",
       "      <td>0.559998</td>\n",
       "      <td>-0.080002</td>\n",
       "    </tr>\n",
       "    <tr>\n",
       "      <th>LNC</th>\n",
       "      <td>-0.300001</td>\n",
       "      <td>-0.100000</td>\n",
       "      <td>-0.350000</td>\n",
       "      <td>0.260000</td>\n",
       "      <td>0.260000</td>\n",
       "      <td>-0.009998</td>\n",
       "      <td>0.160000</td>\n",
       "      <td>-0.930000</td>\n",
       "      <td>-0.170000</td>\n",
       "      <td>-0.150000</td>\n",
       "      <td>...</td>\n",
       "      <td>0.380001</td>\n",
       "      <td>0.230001</td>\n",
       "      <td>-0.090000</td>\n",
       "      <td>0.180000</td>\n",
       "      <td>0.420000</td>\n",
       "      <td>-0.400000</td>\n",
       "      <td>-0.469999</td>\n",
       "      <td>-0.870001</td>\n",
       "      <td>-0.570000</td>\n",
       "      <td>-0.410000</td>\n",
       "    </tr>\n",
       "    <tr>\n",
       "      <th>WM</th>\n",
       "      <td>-0.280003</td>\n",
       "      <td>-0.130001</td>\n",
       "      <td>-0.130001</td>\n",
       "      <td>-0.049999</td>\n",
       "      <td>0.310001</td>\n",
       "      <td>0.360001</td>\n",
       "      <td>0.080002</td>\n",
       "      <td>-0.490002</td>\n",
       "      <td>-0.109997</td>\n",
       "      <td>0.079998</td>\n",
       "      <td>...</td>\n",
       "      <td>0.079998</td>\n",
       "      <td>0.099998</td>\n",
       "      <td>0.040001</td>\n",
       "      <td>-0.029999</td>\n",
       "      <td>-0.250000</td>\n",
       "      <td>-0.650002</td>\n",
       "      <td>-0.009998</td>\n",
       "      <td>-0.220001</td>\n",
       "      <td>-0.289997</td>\n",
       "      <td>-0.160000</td>\n",
       "    </tr>\n",
       "    <tr>\n",
       "      <th>TGT</th>\n",
       "      <td>-0.330002</td>\n",
       "      <td>0.139999</td>\n",
       "      <td>-0.269997</td>\n",
       "      <td>0.290001</td>\n",
       "      <td>0.250000</td>\n",
       "      <td>0.070000</td>\n",
       "      <td>-0.070000</td>\n",
       "      <td>-1.049999</td>\n",
       "      <td>-0.779999</td>\n",
       "      <td>-0.239998</td>\n",
       "      <td>...</td>\n",
       "      <td>0.059998</td>\n",
       "      <td>0.090000</td>\n",
       "      <td>0.000000</td>\n",
       "      <td>-0.340000</td>\n",
       "      <td>0.260002</td>\n",
       "      <td>0.009998</td>\n",
       "      <td>0.230003</td>\n",
       "      <td>-0.540001</td>\n",
       "      <td>-0.459999</td>\n",
       "      <td>0.389999</td>\n",
       "    </tr>\n",
       "    <tr>\n",
       "      <th>PLD</th>\n",
       "      <td>-0.359997</td>\n",
       "      <td>0.199997</td>\n",
       "      <td>0.570000</td>\n",
       "      <td>0.449997</td>\n",
       "      <td>0.810001</td>\n",
       "      <td>0.110001</td>\n",
       "      <td>0.180000</td>\n",
       "      <td>-1.180000</td>\n",
       "      <td>-1.709999</td>\n",
       "      <td>0.650002</td>\n",
       "      <td>...</td>\n",
       "      <td>0.520000</td>\n",
       "      <td>-0.060001</td>\n",
       "      <td>0.000000</td>\n",
       "      <td>-0.330002</td>\n",
       "      <td>0.270000</td>\n",
       "      <td>-0.340000</td>\n",
       "      <td>-0.350002</td>\n",
       "      <td>-0.570000</td>\n",
       "      <td>-1.119999</td>\n",
       "      <td>-1.110001</td>\n",
       "    </tr>\n",
       "    <tr>\n",
       "      <th>CVX</th>\n",
       "      <td>-0.980003</td>\n",
       "      <td>0.240005</td>\n",
       "      <td>0.419998</td>\n",
       "      <td>1.250000</td>\n",
       "      <td>0.370003</td>\n",
       "      <td>-0.430000</td>\n",
       "      <td>0.300003</td>\n",
       "      <td>-2.240005</td>\n",
       "      <td>-1.229996</td>\n",
       "      <td>1.269997</td>\n",
       "      <td>...</td>\n",
       "      <td>0.229996</td>\n",
       "      <td>0.089996</td>\n",
       "      <td>0.169998</td>\n",
       "      <td>0.529999</td>\n",
       "      <td>-0.259995</td>\n",
       "      <td>0.200005</td>\n",
       "      <td>-1.139999</td>\n",
       "      <td>-0.669998</td>\n",
       "      <td>-0.059998</td>\n",
       "      <td>-2.020004</td>\n",
       "    </tr>\n",
       "    <tr>\n",
       "      <th>PXD</th>\n",
       "      <td>0.010002</td>\n",
       "      <td>0.050003</td>\n",
       "      <td>0.230003</td>\n",
       "      <td>1.270004</td>\n",
       "      <td>0.220001</td>\n",
       "      <td>-0.650002</td>\n",
       "      <td>-1.139999</td>\n",
       "      <td>-1.459999</td>\n",
       "      <td>0.270004</td>\n",
       "      <td>0.940002</td>\n",
       "      <td>...</td>\n",
       "      <td>-0.589996</td>\n",
       "      <td>-0.709999</td>\n",
       "      <td>0.170006</td>\n",
       "      <td>0.150002</td>\n",
       "      <td>-1.060005</td>\n",
       "      <td>-1.239998</td>\n",
       "      <td>-0.600006</td>\n",
       "      <td>-0.559998</td>\n",
       "      <td>-1.379997</td>\n",
       "      <td>-2.430000</td>\n",
       "    </tr>\n",
       "    <tr>\n",
       "      <th>PGR</th>\n",
       "      <td>-0.110001</td>\n",
       "      <td>0.059999</td>\n",
       "      <td>0.030001</td>\n",
       "      <td>-0.129999</td>\n",
       "      <td>0.100000</td>\n",
       "      <td>0.260000</td>\n",
       "      <td>-0.140001</td>\n",
       "      <td>-0.539999</td>\n",
       "      <td>0.100000</td>\n",
       "      <td>0.000000</td>\n",
       "      <td>...</td>\n",
       "      <td>-0.010000</td>\n",
       "      <td>0.210001</td>\n",
       "      <td>0.160000</td>\n",
       "      <td>-0.080000</td>\n",
       "      <td>0.129999</td>\n",
       "      <td>0.199999</td>\n",
       "      <td>-0.109999</td>\n",
       "      <td>-0.250000</td>\n",
       "      <td>-0.020000</td>\n",
       "      <td>-0.140001</td>\n",
       "    </tr>\n",
       "    <tr>\n",
       "      <th>NUE</th>\n",
       "      <td>-1.070000</td>\n",
       "      <td>0.320000</td>\n",
       "      <td>0.029999</td>\n",
       "      <td>0.079998</td>\n",
       "      <td>0.299999</td>\n",
       "      <td>-0.020000</td>\n",
       "      <td>-0.270000</td>\n",
       "      <td>-1.120003</td>\n",
       "      <td>-0.009998</td>\n",
       "      <td>-0.029999</td>\n",
       "      <td>...</td>\n",
       "      <td>-0.160000</td>\n",
       "      <td>0.109997</td>\n",
       "      <td>0.579998</td>\n",
       "      <td>-0.570000</td>\n",
       "      <td>-0.060001</td>\n",
       "      <td>0.220001</td>\n",
       "      <td>-0.939999</td>\n",
       "      <td>-0.910000</td>\n",
       "      <td>-0.369999</td>\n",
       "      <td>-0.610001</td>\n",
       "    </tr>\n",
       "    <tr>\n",
       "      <th>TJX</th>\n",
       "      <td>0.179999</td>\n",
       "      <td>0.147500</td>\n",
       "      <td>0.005000</td>\n",
       "      <td>-0.020000</td>\n",
       "      <td>0.285000</td>\n",
       "      <td>-0.052500</td>\n",
       "      <td>-0.145000</td>\n",
       "      <td>-0.222500</td>\n",
       "      <td>0.112500</td>\n",
       "      <td>0.012500</td>\n",
       "      <td>...</td>\n",
       "      <td>-0.174999</td>\n",
       "      <td>0.055000</td>\n",
       "      <td>0.175001</td>\n",
       "      <td>0.065001</td>\n",
       "      <td>-0.145000</td>\n",
       "      <td>-0.625000</td>\n",
       "      <td>1.300001</td>\n",
       "      <td>0.045000</td>\n",
       "      <td>-0.720001</td>\n",
       "      <td>-0.394999</td>\n",
       "    </tr>\n",
       "    <tr>\n",
       "      <th>MMM</th>\n",
       "      <td>-0.990005</td>\n",
       "      <td>0.199997</td>\n",
       "      <td>-0.949997</td>\n",
       "      <td>1.150002</td>\n",
       "      <td>0.169998</td>\n",
       "      <td>0.010002</td>\n",
       "      <td>0.329994</td>\n",
       "      <td>-2.889999</td>\n",
       "      <td>0.110001</td>\n",
       "      <td>0.509995</td>\n",
       "      <td>...</td>\n",
       "      <td>0.310005</td>\n",
       "      <td>0.439995</td>\n",
       "      <td>0.629997</td>\n",
       "      <td>-0.010002</td>\n",
       "      <td>0.260002</td>\n",
       "      <td>0.370003</td>\n",
       "      <td>-0.169998</td>\n",
       "      <td>-0.560005</td>\n",
       "      <td>-1.220001</td>\n",
       "      <td>-1.269997</td>\n",
       "    </tr>\n",
       "    <tr>\n",
       "      <th>MDT</th>\n",
       "      <td>-0.560001</td>\n",
       "      <td>-0.520000</td>\n",
       "      <td>0.389999</td>\n",
       "      <td>-0.380001</td>\n",
       "      <td>0.360001</td>\n",
       "      <td>-0.189999</td>\n",
       "      <td>0.330002</td>\n",
       "      <td>-0.539997</td>\n",
       "      <td>-0.770000</td>\n",
       "      <td>0.389999</td>\n",
       "      <td>...</td>\n",
       "      <td>0.030003</td>\n",
       "      <td>0.360001</td>\n",
       "      <td>0.199997</td>\n",
       "      <td>0.079998</td>\n",
       "      <td>-0.200001</td>\n",
       "      <td>0.369999</td>\n",
       "      <td>0.160000</td>\n",
       "      <td>-0.009998</td>\n",
       "      <td>-1.209999</td>\n",
       "      <td>-0.160000</td>\n",
       "    </tr>\n",
       "    <tr>\n",
       "      <th>LLY</th>\n",
       "      <td>-0.210003</td>\n",
       "      <td>0.280003</td>\n",
       "      <td>0.240002</td>\n",
       "      <td>-0.039997</td>\n",
       "      <td>-0.440002</td>\n",
       "      <td>-0.060001</td>\n",
       "      <td>0.340000</td>\n",
       "      <td>-0.360001</td>\n",
       "      <td>-0.439999</td>\n",
       "      <td>-0.209999</td>\n",
       "      <td>...</td>\n",
       "      <td>0.510002</td>\n",
       "      <td>0.029999</td>\n",
       "      <td>-0.020000</td>\n",
       "      <td>0.279999</td>\n",
       "      <td>0.090000</td>\n",
       "      <td>-0.119999</td>\n",
       "      <td>-0.279999</td>\n",
       "      <td>0.099998</td>\n",
       "      <td>-0.200001</td>\n",
       "      <td>-0.170002</td>\n",
       "    </tr>\n",
       "    <tr>\n",
       "      <th>MAS</th>\n",
       "      <td>0.395430</td>\n",
       "      <td>0.166960</td>\n",
       "      <td>-0.096661</td>\n",
       "      <td>0.158173</td>\n",
       "      <td>0.035149</td>\n",
       "      <td>-0.008786</td>\n",
       "      <td>-0.140598</td>\n",
       "      <td>-0.289983</td>\n",
       "      <td>-0.008787</td>\n",
       "      <td>-0.307558</td>\n",
       "      <td>...</td>\n",
       "      <td>0.219685</td>\n",
       "      <td>-0.052724</td>\n",
       "      <td>-0.061511</td>\n",
       "      <td>-0.228471</td>\n",
       "      <td>0.149384</td>\n",
       "      <td>-0.219684</td>\n",
       "      <td>-0.184535</td>\n",
       "      <td>-0.184534</td>\n",
       "      <td>-0.949033</td>\n",
       "      <td>-0.298770</td>\n",
       "    </tr>\n",
       "    <tr>\n",
       "      <th>KR</th>\n",
       "      <td>-0.255000</td>\n",
       "      <td>-0.105000</td>\n",
       "      <td>-0.085000</td>\n",
       "      <td>-0.100000</td>\n",
       "      <td>0.100000</td>\n",
       "      <td>0.155000</td>\n",
       "      <td>0.020000</td>\n",
       "      <td>-0.435000</td>\n",
       "      <td>-0.090000</td>\n",
       "      <td>-0.005000</td>\n",
       "      <td>...</td>\n",
       "      <td>-0.050000</td>\n",
       "      <td>-0.015000</td>\n",
       "      <td>0.009999</td>\n",
       "      <td>0.095000</td>\n",
       "      <td>0.059999</td>\n",
       "      <td>-0.075000</td>\n",
       "      <td>-0.130000</td>\n",
       "      <td>-0.015000</td>\n",
       "      <td>-0.135000</td>\n",
       "      <td>-0.045000</td>\n",
       "    </tr>\n",
       "    <tr>\n",
       "      <th>ABC</th>\n",
       "      <td>-0.160000</td>\n",
       "      <td>0.209999</td>\n",
       "      <td>-0.450001</td>\n",
       "      <td>0.619999</td>\n",
       "      <td>-0.079998</td>\n",
       "      <td>-0.199997</td>\n",
       "      <td>-0.139999</td>\n",
       "      <td>-0.380001</td>\n",
       "      <td>0.070000</td>\n",
       "      <td>0.099998</td>\n",
       "      <td>...</td>\n",
       "      <td>-0.160000</td>\n",
       "      <td>0.480000</td>\n",
       "      <td>0.090000</td>\n",
       "      <td>0.220001</td>\n",
       "      <td>0.169998</td>\n",
       "      <td>0.290001</td>\n",
       "      <td>-0.139999</td>\n",
       "      <td>0.160000</td>\n",
       "      <td>-0.080002</td>\n",
       "      <td>-0.459999</td>\n",
       "    </tr>\n",
       "    <tr>\n",
       "      <th>AMAT</th>\n",
       "      <td>-0.190000</td>\n",
       "      <td>-0.130000</td>\n",
       "      <td>-0.120000</td>\n",
       "      <td>0.440000</td>\n",
       "      <td>-0.160000</td>\n",
       "      <td>-0.150000</td>\n",
       "      <td>0.270000</td>\n",
       "      <td>-0.660000</td>\n",
       "      <td>0.099999</td>\n",
       "      <td>-0.080000</td>\n",
       "      <td>...</td>\n",
       "      <td>0.009999</td>\n",
       "      <td>0.070000</td>\n",
       "      <td>0.070000</td>\n",
       "      <td>-0.080000</td>\n",
       "      <td>-0.060000</td>\n",
       "      <td>0.040000</td>\n",
       "      <td>-0.070000</td>\n",
       "      <td>-0.160000</td>\n",
       "      <td>-0.190001</td>\n",
       "      <td>-0.100000</td>\n",
       "    </tr>\n",
       "    <tr>\n",
       "      <th>DE</th>\n",
       "      <td>-1.000000</td>\n",
       "      <td>0.040001</td>\n",
       "      <td>-0.350006</td>\n",
       "      <td>1.220001</td>\n",
       "      <td>0.330002</td>\n",
       "      <td>0.360001</td>\n",
       "      <td>-0.979996</td>\n",
       "      <td>-2.739998</td>\n",
       "      <td>0.780006</td>\n",
       "      <td>-0.110001</td>\n",
       "      <td>...</td>\n",
       "      <td>0.020004</td>\n",
       "      <td>0.840004</td>\n",
       "      <td>-0.079994</td>\n",
       "      <td>-0.840004</td>\n",
       "      <td>0.629997</td>\n",
       "      <td>-0.930000</td>\n",
       "      <td>-0.619995</td>\n",
       "      <td>-2.309998</td>\n",
       "      <td>-1.699997</td>\n",
       "      <td>-0.229996</td>\n",
       "    </tr>\n",
       "    <tr>\n",
       "      <th>UPS</th>\n",
       "      <td>-0.019997</td>\n",
       "      <td>0.129997</td>\n",
       "      <td>-0.639999</td>\n",
       "      <td>0.120003</td>\n",
       "      <td>0.370003</td>\n",
       "      <td>-0.379997</td>\n",
       "      <td>0.220001</td>\n",
       "      <td>-1.209999</td>\n",
       "      <td>-0.279999</td>\n",
       "      <td>-0.610001</td>\n",
       "      <td>...</td>\n",
       "      <td>0.450005</td>\n",
       "      <td>0.130005</td>\n",
       "      <td>-0.049995</td>\n",
       "      <td>-0.860001</td>\n",
       "      <td>0.059998</td>\n",
       "      <td>0.269997</td>\n",
       "      <td>0.070000</td>\n",
       "      <td>-0.410004</td>\n",
       "      <td>-1.130005</td>\n",
       "      <td>-1.130005</td>\n",
       "    </tr>\n",
       "    <tr>\n",
       "      <th>LEN</th>\n",
       "      <td>0.029499</td>\n",
       "      <td>0.068829</td>\n",
       "      <td>-0.137659</td>\n",
       "      <td>0.344151</td>\n",
       "      <td>0.560472</td>\n",
       "      <td>0.393312</td>\n",
       "      <td>-0.039331</td>\n",
       "      <td>-0.344149</td>\n",
       "      <td>-0.363815</td>\n",
       "      <td>0.088495</td>\n",
       "      <td>...</td>\n",
       "      <td>0.324486</td>\n",
       "      <td>-0.137661</td>\n",
       "      <td>1.415928</td>\n",
       "      <td>-1.081614</td>\n",
       "      <td>0.707966</td>\n",
       "      <td>0.108162</td>\n",
       "      <td>0.737463</td>\n",
       "      <td>-0.285152</td>\n",
       "      <td>-2.369715</td>\n",
       "      <td>-0.825958</td>\n",
       "    </tr>\n",
       "    <tr>\n",
       "      <th>WHR</th>\n",
       "      <td>-0.750000</td>\n",
       "      <td>-0.479996</td>\n",
       "      <td>-0.430000</td>\n",
       "      <td>1.839996</td>\n",
       "      <td>0.470001</td>\n",
       "      <td>0.540001</td>\n",
       "      <td>0.180000</td>\n",
       "      <td>-1.259995</td>\n",
       "      <td>-1.460007</td>\n",
       "      <td>-2.719994</td>\n",
       "      <td>...</td>\n",
       "      <td>0.329998</td>\n",
       "      <td>0.230000</td>\n",
       "      <td>0.510002</td>\n",
       "      <td>-0.590000</td>\n",
       "      <td>1.860001</td>\n",
       "      <td>-0.919998</td>\n",
       "      <td>0.250000</td>\n",
       "      <td>0.430000</td>\n",
       "      <td>-3.150002</td>\n",
       "      <td>-0.910000</td>\n",
       "    </tr>\n",
       "    <tr>\n",
       "      <th>ADBE</th>\n",
       "      <td>-0.149998</td>\n",
       "      <td>-0.290001</td>\n",
       "      <td>-0.420002</td>\n",
       "      <td>0.030003</td>\n",
       "      <td>0.470001</td>\n",
       "      <td>-0.169998</td>\n",
       "      <td>0.020000</td>\n",
       "      <td>-0.410000</td>\n",
       "      <td>0.189999</td>\n",
       "      <td>-0.529999</td>\n",
       "      <td>...</td>\n",
       "      <td>0.040001</td>\n",
       "      <td>0.379997</td>\n",
       "      <td>0.230000</td>\n",
       "      <td>-0.809999</td>\n",
       "      <td>0.300001</td>\n",
       "      <td>0.420000</td>\n",
       "      <td>0.100002</td>\n",
       "      <td>-0.079998</td>\n",
       "      <td>-0.370003</td>\n",
       "      <td>-0.789999</td>\n",
       "    </tr>\n",
       "    <tr>\n",
       "      <th>CE</th>\n",
       "      <td>-0.139999</td>\n",
       "      <td>-0.920002</td>\n",
       "      <td>-0.099998</td>\n",
       "      <td>1.260002</td>\n",
       "      <td>0.550003</td>\n",
       "      <td>1.339996</td>\n",
       "      <td>0.290001</td>\n",
       "      <td>-2.019997</td>\n",
       "      <td>-0.140003</td>\n",
       "      <td>-0.510002</td>\n",
       "      <td>...</td>\n",
       "      <td>-0.309998</td>\n",
       "      <td>-0.380001</td>\n",
       "      <td>0.399998</td>\n",
       "      <td>-0.430000</td>\n",
       "      <td>1.610001</td>\n",
       "      <td>-0.560001</td>\n",
       "      <td>-0.840000</td>\n",
       "      <td>-1.300003</td>\n",
       "      <td>-1.470001</td>\n",
       "      <td>-0.360001</td>\n",
       "    </tr>\n",
       "  </tbody>\n",
       "</table>\n",
       "<p>50 rows × 252 columns</p>\n",
       "</div>"
      ],
      "text/plain": [
       "       2011-05-20  2011-05-23  2011-05-24  2011-05-25  2011-05-26  2011-05-27  \\\n",
       "AMZN     0.699997    0.660004   -3.729996   -1.310013    3.759995   -0.629990   \n",
       "AAPL    -0.155000    0.158214   -0.118215    0.119643   -0.034643    0.093214   \n",
       "WBA      0.279999    0.500000   -0.160000    0.020000    0.010002   -0.160000   \n",
       "NOC     -0.430000    1.099998    0.400002   -0.279999    0.290001    0.449997   \n",
       "BA      -0.370003   -0.270004   -0.889999    1.059998    0.120003   -0.040001   \n",
       "LMT     -0.620003    0.210007   -0.560005   -0.059998   -0.610001    0.180000   \n",
       "MCD     -0.459999    0.970001   -0.010002    0.150002   -0.440002   -0.509995   \n",
       "INTC    -0.240000   -0.059999   -0.279999    0.160000   -0.120001   -0.250000   \n",
       "NEE     -0.177501    0.045000   -0.052500   -0.045000    0.072499    0.012500   \n",
       "IBM     -0.239990   -0.320007   -0.509995    0.119995   -0.280014   -0.410004   \n",
       "TXN      0.110001   -0.349998   -0.250000    0.299999    0.130001    0.280003   \n",
       "MA      -0.719999   -0.254002   -0.306999    0.643000    0.809999    0.305000   \n",
       "MSFT    -0.230000   -0.039999   -0.050001    0.020000    0.320000    0.080000   \n",
       "GE      -0.298077    0.067308   -0.317307    0.211536    0.278845   -0.048077   \n",
       "GOOGL   -3.888885    0.895905   -1.056061    1.171173    0.215210    1.211212   \n",
       "AXP     -0.560001    0.379997   -0.590000   -0.029999    0.529999    0.299999   \n",
       "PEP     -0.369995    0.120003   -0.109993   -0.170006    0.080002   -0.209999   \n",
       "KO      -0.009998   -0.049999   -0.095001   -0.184998   -0.020000   -0.180000   \n",
       "JNJ     -0.559998    0.369995    0.040001    0.000000   -0.079994    0.979996   \n",
       "GM      -0.180000    0.279999   -0.299999    0.710001   -0.400000    0.510000   \n",
       "HCA     -0.270000    0.009998   -0.039997    0.110001   -0.070000   -0.179996   \n",
       "AMGN    -0.099998    0.410000   -0.610001   -0.150002    0.239998   -0.120003   \n",
       "JPM     -0.700001    0.149998   -0.430000    0.160000    0.330002    0.090000   \n",
       "NFLX     0.617142    0.687141   -0.327141    1.647144    0.635712    0.001431   \n",
       "UNH     -0.730000   -0.279999   -1.200001    0.169998    0.030003    0.399998   \n",
       "V       -0.277498   -0.042500    0.147499    0.447500    0.180000    0.285000   \n",
       "VMC     -0.220001   -0.490002    0.310001   -0.419998    0.379997    0.209999   \n",
       "VZ      -0.099998    0.099998   -0.009998   -0.320000    0.330002   -0.070004   \n",
       "LNC     -0.300001   -0.100000   -0.350000    0.260000    0.260000   -0.009998   \n",
       "WM      -0.280003   -0.130001   -0.130001   -0.049999    0.310001    0.360001   \n",
       "TGT     -0.330002    0.139999   -0.269997    0.290001    0.250000    0.070000   \n",
       "PLD     -0.359997    0.199997    0.570000    0.449997    0.810001    0.110001   \n",
       "CVX     -0.980003    0.240005    0.419998    1.250000    0.370003   -0.430000   \n",
       "PXD      0.010002    0.050003    0.230003    1.270004    0.220001   -0.650002   \n",
       "PGR     -0.110001    0.059999    0.030001   -0.129999    0.100000    0.260000   \n",
       "NUE     -1.070000    0.320000    0.029999    0.079998    0.299999   -0.020000   \n",
       "TJX      0.179999    0.147500    0.005000   -0.020000    0.285000   -0.052500   \n",
       "MMM     -0.990005    0.199997   -0.949997    1.150002    0.169998    0.010002   \n",
       "MDT     -0.560001   -0.520000    0.389999   -0.380001    0.360001   -0.189999   \n",
       "LLY     -0.210003    0.280003    0.240002   -0.039997   -0.440002   -0.060001   \n",
       "MAS      0.395430    0.166960   -0.096661    0.158173    0.035149   -0.008786   \n",
       "KR      -0.255000   -0.105000   -0.085000   -0.100000    0.100000    0.155000   \n",
       "ABC     -0.160000    0.209999   -0.450001    0.619999   -0.079998   -0.199997   \n",
       "AMAT    -0.190000   -0.130000   -0.120000    0.440000   -0.160000   -0.150000   \n",
       "DE      -1.000000    0.040001   -0.350006    1.220001    0.330002    0.360001   \n",
       "UPS     -0.019997    0.129997   -0.639999    0.120003    0.370003   -0.379997   \n",
       "LEN      0.029499    0.068829   -0.137659    0.344151    0.560472    0.393312   \n",
       "WHR     -0.750000   -0.479996   -0.430000    1.839996    0.470001    0.540001   \n",
       "ADBE    -0.149998   -0.290001   -0.420002    0.030003    0.470001   -0.169998   \n",
       "CE      -0.139999   -0.920002   -0.099998    1.260002    0.550003    1.339996   \n",
       "\n",
       "       2011-05-31  2011-06-01  2011-06-02  2011-06-03  ...  2012-05-07  \\\n",
       "AMZN     0.750000   -3.660004    1.369995   -2.909988  ...    2.800003   \n",
       "AAPL     0.240356   -0.120001   -0.014286    0.009285  ...    0.285000   \n",
       "WBA     -0.360001   -0.340000   -0.169998    0.380001  ...   -0.090000   \n",
       "NOC      0.099998   -1.250000    0.110001    0.340000  ...    0.079998   \n",
       "BA       0.229996   -2.599998    0.250000    0.129997  ...    0.169998   \n",
       "LMT      0.630005   -2.000000   -0.049995    1.059998  ...   -0.470001   \n",
       "MCD     -0.589996   -0.489998   -0.199997    0.440002  ...   -0.220001   \n",
       "INTC     0.059999   -0.450001    0.080000   -0.060001  ...   -0.070000   \n",
       "NEE      0.080000   -0.175000   -0.137500    0.325000  ...    0.147500   \n",
       "IBM      0.489990   -2.339996   -0.350006    0.750000  ...   -0.210007   \n",
       "TXN      0.489998   -1.169998    0.230003   -0.290001  ...    0.130001   \n",
       "MA       0.027000   -0.594000    0.205999   -0.195000  ...    0.146999   \n",
       "MSFT     0.050001   -0.559999   -0.270000   -0.139999  ...   -0.050001   \n",
       "GE      -0.038462   -0.326921   -0.067308   -0.009615  ...    0.163462   \n",
       "GOOGL    2.012024   -1.221222    0.245239    0.540527  ...    6.281281   \n",
       "AXP      0.209999   -1.400002    0.099998   -0.170002  ...    0.039997   \n",
       "PEP      0.400002   -0.290001   -0.750000    0.000000  ...    0.110001   \n",
       "KO      -0.065002    0.080002   -0.305000    0.130001  ...    0.154999   \n",
       "JNJ     -0.019997   -0.539993    0.040001    0.250000  ...    0.220001   \n",
       "GM       0.369999   -1.470001   -0.730000   -0.160000  ...    0.539999   \n",
       "HCA     -0.100002   -0.230000   -0.480000    0.139999  ...   -0.309999   \n",
       "AMGN     0.860001   -0.849998   -0.320000   -0.190002  ...    0.279999   \n",
       "JPM      0.000000   -1.110001   -0.320000    0.480000  ...    0.349998   \n",
       "NFLX     0.507145   -0.315712    0.807144    0.528568  ...    0.135714   \n",
       "UNH      0.290001   -0.350002    0.790001    0.250000  ...    0.900002   \n",
       "V        0.260000   -0.395000    0.377499   -0.170000  ...    0.387501   \n",
       "VMC      0.240002   -1.200001   -0.250000   -0.590000  ...    0.690002   \n",
       "VZ       0.020000   -0.189999   -0.120003   -0.219997  ...    0.469997   \n",
       "LNC      0.160000   -0.930000   -0.170000   -0.150000  ...    0.380001   \n",
       "WM       0.080002   -0.490002   -0.109997    0.079998  ...    0.079998   \n",
       "TGT     -0.070000   -1.049999   -0.779999   -0.239998  ...    0.059998   \n",
       "PLD      0.180000   -1.180000   -1.709999    0.650002  ...    0.520000   \n",
       "CVX      0.300003   -2.240005   -1.229996    1.269997  ...    0.229996   \n",
       "PXD     -1.139999   -1.459999    0.270004    0.940002  ...   -0.589996   \n",
       "PGR     -0.140001   -0.539999    0.100000    0.000000  ...   -0.010000   \n",
       "NUE     -0.270000   -1.120003   -0.009998   -0.029999  ...   -0.160000   \n",
       "TJX     -0.145000   -0.222500    0.112500    0.012500  ...   -0.174999   \n",
       "MMM      0.329994   -2.889999    0.110001    0.509995  ...    0.310005   \n",
       "MDT      0.330002   -0.539997   -0.770000    0.389999  ...    0.030003   \n",
       "LLY      0.340000   -0.360001   -0.439999   -0.209999  ...    0.510002   \n",
       "MAS     -0.140598   -0.289983   -0.008787   -0.307558  ...    0.219685   \n",
       "KR       0.020000   -0.435000   -0.090000   -0.005000  ...   -0.050000   \n",
       "ABC     -0.139999   -0.380001    0.070000    0.099998  ...   -0.160000   \n",
       "AMAT     0.270000   -0.660000    0.099999   -0.080000  ...    0.009999   \n",
       "DE      -0.979996   -2.739998    0.780006   -0.110001  ...    0.020004   \n",
       "UPS      0.220001   -1.209999   -0.279999   -0.610001  ...    0.450005   \n",
       "LEN     -0.039331   -0.344149   -0.363815    0.088495  ...    0.324486   \n",
       "WHR      0.180000   -1.259995   -1.460007   -2.719994  ...    0.329998   \n",
       "ADBE     0.020000   -0.410000    0.189999   -0.529999  ...    0.040001   \n",
       "CE       0.290001   -2.019997   -0.140003   -0.510002  ...   -0.309998   \n",
       "\n",
       "       2012-05-08  2012-05-09  2012-05-10  2012-05-11  2012-05-14  2012-05-15  \\\n",
       "AMZN     0.750000    2.389999    2.779999    1.729996   -2.670013   -2.110001   \n",
       "AAPL    -0.049999    0.195713   -0.145000    0.061071   -0.155357   -0.295715   \n",
       "WBA      0.560001    0.150002   -0.030003   -0.660000   -0.160000    0.120003   \n",
       "NOC     -0.020000   -0.220001   -0.320000   -0.490002    0.570000   -0.180000   \n",
       "BA       0.020004   -0.199997   -0.659996   -0.029999    0.230003   -0.419998   \n",
       "LMT      0.139999   -0.580002   -0.469994   -0.970001    0.539993   -0.440002   \n",
       "MCD     -0.349998   -1.059998   -0.829994    0.209999   -0.660004    0.020004   \n",
       "INTC    -0.109999    0.110001   -0.100000    0.369999   -0.330000   -0.170000   \n",
       "NEE      0.045000    0.080000    0.125000    0.042500    0.150000   -0.022501   \n",
       "IBM     -0.960007    1.239990   -0.399994    1.209991   -0.479996   -0.400009   \n",
       "TXN      0.269999    0.290001    0.090000   -0.010000    0.160000   -0.349998   \n",
       "MA      -0.237000   -0.299000   -0.282001    0.240002   -0.373001   -0.025002   \n",
       "MSFT     0.020000    0.570000   -0.120001    0.469999   -0.139999   -0.430000   \n",
       "GE       0.019230   -0.086540   -0.028847    0.086538   -0.211538   -0.144230   \n",
       "GOOGL    3.633636    1.166168    0.350372   -2.562561    1.611603    2.882904   \n",
       "AXP      0.029999    0.290001   -0.450001    0.470001   -0.600002   -0.480000   \n",
       "PEP      0.269997   -0.189995    0.620003    0.139999    0.580002    0.839996   \n",
       "KO       0.064999    0.095001    0.100002    0.135002   -0.125000    0.005001   \n",
       "JNJ      0.300003   -0.309998   -0.239998   -0.090004   -0.099998   -0.090000   \n",
       "GM      -0.020000    0.560001   -0.320000    0.000000   -0.120001   -0.150000   \n",
       "HCA      0.630001    0.140001   -0.219999    0.129999   -0.200001   -0.070002   \n",
       "AMGN     1.360001   -0.639999    0.039993    0.639999    0.250000    0.660004   \n",
       "JPM     -0.119999   -0.080002   -0.489998   -0.180000   -0.309998    0.050003   \n",
       "NFLX    -0.040000    0.317143   -0.347143    0.641429   -0.024285   -0.042858   \n",
       "UNH      0.579998   -0.149998   -0.270000    0.000000    0.340000   -0.080002   \n",
       "V        0.010000    0.027500   -0.032501    0.139999   -0.027500    0.040001   \n",
       "VMC     -0.279999    0.230000   -1.070000    0.180000   -0.780003   -0.690002   \n",
       "VZ       0.090000   -0.029999   -0.010002    0.340000   -0.029999    0.270000   \n",
       "LNC      0.230001   -0.090000    0.180000    0.420000   -0.400000   -0.469999   \n",
       "WM       0.099998    0.040001   -0.029999   -0.250000   -0.650002   -0.009998   \n",
       "TGT      0.090000    0.000000   -0.340000    0.260002    0.009998    0.230003   \n",
       "PLD     -0.060001    0.000000   -0.330002    0.270000   -0.340000   -0.350002   \n",
       "CVX      0.089996    0.169998    0.529999   -0.259995    0.200005   -1.139999   \n",
       "PXD     -0.709999    0.170006    0.150002   -1.060005   -1.239998   -0.600006   \n",
       "PGR      0.210001    0.160000   -0.080000    0.129999    0.199999   -0.109999   \n",
       "NUE      0.109997    0.579998   -0.570000   -0.060001    0.220001   -0.939999   \n",
       "TJX      0.055000    0.175001    0.065001   -0.145000   -0.625000    1.300001   \n",
       "MMM      0.439995    0.629997   -0.010002    0.260002    0.370003   -0.169998   \n",
       "MDT      0.360001    0.199997    0.079998   -0.200001    0.369999    0.160000   \n",
       "LLY      0.029999   -0.020000    0.279999    0.090000   -0.119999   -0.279999   \n",
       "MAS     -0.052724   -0.061511   -0.228471    0.149384   -0.219684   -0.184535   \n",
       "KR      -0.015000    0.009999    0.095000    0.059999   -0.075000   -0.130000   \n",
       "ABC      0.480000    0.090000    0.220001    0.169998    0.290001   -0.139999   \n",
       "AMAT     0.070000    0.070000   -0.080000   -0.060000    0.040000   -0.070000   \n",
       "DE       0.840004   -0.079994   -0.840004    0.629997   -0.930000   -0.619995   \n",
       "UPS      0.130005   -0.049995   -0.860001    0.059998    0.269997    0.070000   \n",
       "LEN     -0.137661    1.415928   -1.081614    0.707966    0.108162    0.737463   \n",
       "WHR      0.230000    0.510002   -0.590000    1.860001   -0.919998    0.250000   \n",
       "ADBE     0.379997    0.230000   -0.809999    0.300001    0.420000    0.100002   \n",
       "CE      -0.380001    0.399998   -0.430000    1.610001   -0.560001   -0.840000   \n",
       "\n",
       "       2012-05-16  2012-05-17  2012-05-18  \n",
       "AMZN    -0.940002   -6.690002   -5.559998  \n",
       "AAPL    -0.284643   -0.542500   -0.127857  \n",
       "WBA     -0.130001   -0.789999   -0.690001  \n",
       "NOC     -0.599998   -1.049999   -0.669998  \n",
       "BA      -0.470001   -2.579994   -0.799995  \n",
       "LMT     -0.599998   -1.389999   -0.380005  \n",
       "MCD      0.309998   -1.659996   -0.360001  \n",
       "INTC    -0.410000   -0.279999   -0.170000  \n",
       "NEE     -0.045000   -0.119999   -0.030001  \n",
       "IBM      0.309998   -1.779999   -2.899994  \n",
       "TXN     -0.390001   -0.660000   -0.770000  \n",
       "MA      -0.951000   -1.521999   -0.745998  \n",
       "MSFT    -0.410000   -0.270000   -0.520000  \n",
       "GE       0.105770   -0.067307    0.000000  \n",
       "GOOGL    5.490509   -5.395416  -12.362366  \n",
       "AXP     -0.950001   -1.719997   -0.340000  \n",
       "PEP      0.379997    0.180000   -0.320000  \n",
       "KO      -0.165001   -0.524998   -0.599998  \n",
       "JNJ     -0.080002   -0.160000   -0.520000  \n",
       "GM      -0.139999   -0.330000   -0.360001  \n",
       "HCA     -0.559999   -0.029999   -0.820002  \n",
       "AMGN    -0.019997   -0.529999   -1.549995  \n",
       "JPM     -1.330002   -1.110001   -0.500000  \n",
       "NFLX    -0.481428   -0.325714   -0.334286  \n",
       "UNH     -0.139999   -0.189999   -0.899998  \n",
       "V        0.182499   -0.497499   -0.552500  \n",
       "VMC     -3.460003   -1.599998    0.450001  \n",
       "VZ      -0.239998    0.559998   -0.080002  \n",
       "LNC     -0.870001   -0.570000   -0.410000  \n",
       "WM      -0.220001   -0.289997   -0.160000  \n",
       "TGT     -0.540001   -0.459999    0.389999  \n",
       "PLD     -0.570000   -1.119999   -1.110001  \n",
       "CVX     -0.669998   -0.059998   -2.020004  \n",
       "PXD     -0.559998   -1.379997   -2.430000  \n",
       "PGR     -0.250000   -0.020000   -0.140001  \n",
       "NUE     -0.910000   -0.369999   -0.610001  \n",
       "TJX      0.045000   -0.720001   -0.394999  \n",
       "MMM     -0.560005   -1.220001   -1.269997  \n",
       "MDT     -0.009998   -1.209999   -0.160000  \n",
       "LLY      0.099998   -0.200001   -0.170002  \n",
       "MAS     -0.184534   -0.949033   -0.298770  \n",
       "KR      -0.015000   -0.135000   -0.045000  \n",
       "ABC      0.160000   -0.080002   -0.459999  \n",
       "AMAT    -0.160000   -0.190001   -0.100000  \n",
       "DE      -2.309998   -1.699997   -0.229996  \n",
       "UPS     -0.410004   -1.130005   -1.130005  \n",
       "LEN     -0.285152   -2.369715   -0.825958  \n",
       "WHR      0.430000   -3.150002   -0.910000  \n",
       "ADBE    -0.079998   -0.370003   -0.789999  \n",
       "CE      -1.300003   -1.470001   -0.360001  \n",
       "\n",
       "[50 rows x 252 columns]"
      ]
     },
     "execution_count": 247,
     "metadata": {},
     "output_type": "execute_result"
    }
   ],
   "source": [
    "movement_df"
   ]
  },
  {
   "cell_type": "code",
   "execution_count": 231,
   "id": "3090280a",
   "metadata": {
    "scrolled": true
   },
   "outputs": [
    {
     "data": {
      "text/plain": [
       "['NEE', 'UNH', 'MMM', 'WBA', 'JNJ']"
      ]
     },
     "execution_count": 231,
     "metadata": {},
     "output_type": "execute_result"
    }
   ],
   "source": [
    "random.sample(sym_list, 5)"
   ]
  },
  {
   "cell_type": "code",
   "execution_count": null,
   "id": "a44f9373",
   "metadata": {},
   "outputs": [],
   "source": []
  }
 ],
 "metadata": {
  "kernelspec": {
   "display_name": "Python 3",
   "language": "python",
   "name": "python3"
  },
  "language_info": {
   "codemirror_mode": {
    "name": "ipython",
    "version": 3
   },
   "file_extension": ".py",
   "mimetype": "text/x-python",
   "name": "python",
   "nbconvert_exporter": "python",
   "pygments_lexer": "ipython3",
   "version": "3.7.1"
  }
 },
 "nbformat": 4,
 "nbformat_minor": 5
}
