{
 "cells": [
  {
   "cell_type": "code",
   "execution_count": 1,
   "id": "9c22104f",
   "metadata": {},
   "outputs": [],
   "source": [
    "# import flask\n",
    "from flask import Flask, render_template, redirect, request, make_response, jsonify\n",
    "\n",
    "# import stock_data\n",
    "import pandas_datareader.data as web\n",
    "import matplotlib.pyplot as plt\n",
    "\n",
    "import pandas as pd\n",
    "import numpy as np\n",
    "import datetime\n",
    "\n",
    "from sklearn.decomposition import PCA \n",
    "# import Normalizer\n",
    "from sklearn.preprocessing import Normalizer\n",
    "# import machine learning libraries\n",
    "from sklearn.pipeline import make_pipeline\n",
    "from sklearn.cluster import KMeans\n",
    "\n",
    "import trading_calendars as tc\n",
    "import pytz\n",
    "\n",
    "import time\n"
   ]
  },
  {
   "cell_type": "code",
   "execution_count": 2,
   "id": "f6a951b2",
   "metadata": {},
   "outputs": [],
   "source": [
    "def get_data(sym_list, start_date, end_date):\n",
    "\tdata_source='yahoo'\n",
    "\tstart_time=time.time()\n",
    "\tpanel_data=web.DataReader(sym_list, data_source, start_date, end_date)\n",
    "\tpanel_data.to_csv('output/original.csv')\n",
    "\tstock_open=np.array(panel_data['Open']).T\n",
    "\tstock_close=np.array(panel_data['Close']).T\n",
    "\trow, col=stock_close.shape\n",
    "\tmovements=np.zeros([row, col])\n",
    "\tfor i in range(0, row):\n",
    "\t\tmovements[i,:]=np.subtract(stock_close[i,:], stock_open[i,:])\n",
    "\n",
    "\txnys=tc.get_calendar(\"XNYS\")\n",
    "\tdate=xnys.sessions_in_range(\n",
    "\t\t# pd.Timestamp(\"2011-05-20\", tz=pytz.UTC),\n",
    "\t\t# pd.Timestamp(\"2021-05-20\", tz=pytz.UTC)\n",
    "\t\tpd.Timestamp(start_date, tz=pytz.UTC), \n",
    "\t\tpd.Timestamp(end_date, tz=pytz.UTC)\n",
    "\t)\n",
    "\tmovements_df=pd.DataFrame(movements, index=sym_list, columns=date)\n",
    "\tcolumns=list(movements_df.columns)\n",
    "\tnew_columns=[]\n",
    "\tfor each_column in columns: \n",
    "\t    new_columns.append(each_column.tz_convert(None))#.replace('00:00:00+00:00', ''))\n",
    "\tmovements_df.columns=new_columns\n",
    "\tmovements_df.to_csv('output/movements_df.csv')\n",
    "\t# return sym_list, movements\n",
    "\treturn movements_df\n"
   ]
  },
  {
   "cell_type": "code",
   "execution_count": 17,
   "id": "0a749d31",
   "metadata": {},
   "outputs": [],
   "source": [
    "\n",
    "# def cluster(movements_df): \n",
    "# \t# create the Normalizer\n",
    "# \tnormalizer=Normalizer()\n",
    "# \t# new=normalizer.fit_transform(movements)\n",
    "# \t# define normalizer\n",
    "# \t# normalizer=Normalizer()\n",
    "# \t# create a K-means model with 10 clusters\n",
    "# \tkmeans=KMeans(n_clusters=10, max_iter=1000)\n",
    "# \t# make a pipeline chaining normalizer and kmeans\n",
    "# \tpipeline=make_pipeline(normalizer,kmeans)\n",
    "# \t# fit pipeline to daily stock movements\n",
    "# \tpipeline.fit(movements_df)\n",
    "\n",
    "# \t# To check how well the algorithm did use print(kmeans.inertia_)\n",
    "# \t#Intertia is a score of how close each cluster is, so a lower inertia score is better. \n",
    "# \t# print(kmeans.inertia_)\n",
    "# \t# predict cluster labels\n",
    "# \tlabels=pipeline.predict(movements_df)\n",
    "# \t# create a DataFrame aligning labels & companies\n",
    "# # \tdf=pd.DataFrame({'labels': labels, 'companies': companies})\n",
    "\n",
    "# \t# display df sorted by cluster labels\n",
    "# \t# print(df.sort_values('labels'))\n",
    "# \t# PCA\n",
    "# \t# visualize the results\n",
    "# # \treduced_data = PCA(n_components = 2).fit_transform(new)\n",
    "# \t# run kmeans on reduced data\n",
    "# # \tkmeans = KMeans(n_clusters=10)\n",
    "# # \tkmeans.fit(reduced_data)\n",
    "# # \tlabels = kmeans.predict(reduced_data)\n",
    "# \t# create DataFrame aligning labels & companies\n",
    "# # \tdf = pd.DataFrame({'labels': labels, 'companies': companies})\n",
    "# # \t# Display df sorted by cluster labels\n",
    "# # \tsorted_df=df.sort_values('labels')\n",
    "# # \tsorted_df[['company_name', 'company_symbol']]=sorted_df['companies'].astype('str').str.replace('(', '').str.replace(')', '').str.replace(\"'\", '').str.split(', ', expand=True)#[1]\n",
    "# # \tsorted_df=sorted_df.replace({'Alphabet Inc. Class A': 'Alphabet Inc. (Class A)', \n",
    "# #                    'Lilly Eli & Co.': 'Lilly (Eli) & Co.'})\n",
    "# \t# combined_df=pd.merge(movements_df, sorted_df, left_index=True, right_on='company_name', how='outer')\n",
    "# \t# combined_df=combined_df.drop(columns=['companies', 'company_name', 'company_symbol'])\n",
    "# \t# for each_cluster in range(0, 10): \n",
    "# \t#     graph_df=combined_df[combined_df['labels']==each_cluster].drop(columns=['labels'])\n",
    "# \t#     graph_df=graph_df.transpose()#.plot()\n",
    "# \t#     # columns=graph_df.iloc[0]\n",
    "# \t#     # graph_df.columns=columns\n",
    "# \t#     columns=graph_df.iloc[0]\n",
    "# \t#     graph_df.columns=columns\n",
    "# \t#     graph_df.iloc[1:].plot(rot=90, legend=False)\n",
    "# \t#     graph_df.plot(rot=90)\n",
    "# \t#     plt.legend(loc='upper left')\n",
    "# \t#     image_links= plt.savefig(f'static/charts/cluster_{each_cluster}.png')\n",
    "# \t# combined_df=pd.merge(movements_df, sorted_df, left_on='Unnamed: 0', right_on='company_name', how='outer')\n",
    "# \t# combined_df=combined_df.drop(columns=['companies', 'company_name', 'company_symbol'])\n",
    "# \t# combined_df\n",
    "# \t# for each_cluster in range(0, 10):\n",
    "# \t#     graph_df=combined_df[combined_df['labels']==each_cluster].drop(columns=['labels'])\n",
    "# \t#     graph_df=graph_df.transpose()#.plot()\n",
    "# \t#     columns=graph_df.iloc[0]\n",
    "# \t#     graph_df.columns=columns\n",
    "# \t#     graph_df.iloc[1:].plot(rot=90, legend=False)\n",
    "# \t# #     plt.subplots(figsize=(6, 2))\n",
    "# \t# #     plt.figure(figsize=(10,10))\n",
    "# \t# #     plt.legend(bbox_to_anchor=(1, 1))\n",
    "# \t#     plt.legend(loc = 'upper left')\n",
    "# \t#     plt.savefig(f'static/charts/cluster_{each_cluster}')\n",
    "# \t# pd.merge(sorted_df, sector_df)\n",
    "# \t# sorted_json =sorted_df.to_json()\n",
    "# \t# sorted\n",
    "# \t# return sorted_json\n",
    "# \t# print('gothere')\n",
    "# \t\t# print(request.form.dict())\n",
    "# \t\t# response=make_response()\n",
    "# \t\t# return response\n",
    "# \tprint('done training')\n",
    "# \t# return sorted_json\n",
    "# \t# table in html string\n",
    "# # \ttable_html=sorted_df.to_html(index=False)\n",
    "\n",
    "# \t# fig, ax=plt.subplots()\n",
    "# \t# plt.plot([1, 2, 3, 4, 5], [1, 2, 3, 4, 5])\n",
    "\n",
    "# \t########KEVIN WE NEED YOUR HELP HERE\n",
    "# \t# plt.plot(date, movements_df[\"Amazon\"])\n",
    "# \t# plt.xlabel(\"Date\")\n",
    "# \t# plt.ylabel(\"Movements\")\n",
    "# \t# plt.title(\"Amazon Stock Movement\")\n",
    "# \t# plt.plot(date, movements_df) #We want to do it on the whole movements_df\n",
    "# \t# fig.savefig('static/charts/cluster_move_one.png')\n",
    "\n",
    "\n",
    "# \t# sorted_df.companies.str.split(expand = True)\n",
    "# \t# sorted_df[[\"labels\",\"companies\", \"symbol\"]]=sorted_df.companies.str.split(\",\", expand =True,)\n",
    "# # \tsorted_df.to_csv('output/sorted_df.csv')\n",
    "# \t# print(sorted_df['companies'].str.split(',', expand=True))\n",
    "# \t#sorted_df[\"companies\"]= sorted_df['companies'].str.split(\",\").str[:3]\n",
    "# \t# merged_df = pd.merge(movements_df, sorted_df, on = companies)\n",
    "# # \treturn table_html\n",
    "# \treturn labels\n"
   ]
  },
  {
   "cell_type": "code",
   "execution_count": 96,
   "id": "ca3ed481",
   "metadata": {},
   "outputs": [],
   "source": [
    "\n",
    "sym_list=['AMZN', 'AAPL', 'WBA', 'NOC', 'BA', 'LMT', 'MCD', 'INTC', 'NEE', 'IBM', \n",
    "\t\t  'TXN', 'MA', 'MSFT', 'GE', 'GOOGL', 'AXP', 'PEP', 'KO', 'JNJ', 'GM', \n",
    "\t\t  'HCA', 'AMGN', 'JPM', 'NFLX', 'UNH', 'V', 'VMC', 'VZ', 'LNC', 'WM', \n",
    "\t\t  'TGT', 'PLD', 'CVX', 'PXD', 'PGR', 'NUE', 'TJX', 'MMM', 'MDT', 'LLY', \n",
    "\t\t  'MAS', 'KR', 'ABC', 'AMAT', 'DE', 'UPS', 'LEN', 'WHR', 'ADBE', 'CE']\n",
    "end_date = '2012-05-20'\n",
    "start_date = '2011-05-20'"
   ]
  },
  {
   "cell_type": "code",
   "execution_count": 97,
   "id": "4966d187",
   "metadata": {},
   "outputs": [],
   "source": [
    "movement_df=get_data(sym_list, start_date, end_date)"
   ]
  },
  {
   "cell_type": "code",
   "execution_count": 204,
   "id": "d6fc3537",
   "metadata": {},
   "outputs": [],
   "source": [
    "def cluster(movement_df):\n",
    "    normalizer=Normalizer()\n",
    "    inertia=[]\n",
    "    current_inertia=0\n",
    "    movement=normalizer.fit_transform(movement_df)\n",
    "    reduced_data=PCA(n_components=3).fit_transform(movement)\n",
    "    for i in range(2, 15): \n",
    "        kmeans=KMeans(n_clusters=i)\n",
    "        kmeans.fit(reduced_data)\n",
    "        inertia.append(kmeans.inertia_)\n",
    "    plt.plot(list(range(2, 15)), inertia)\n",
    "    diff=[inertia[i]-inertia[i-1] for i in range(1, len(inertia))]\n",
    "    min_diff=diff[0]\n",
    "    best_k=0\n",
    "    for i in range(len(diff)): \n",
    "        each_diff=diff[i]\n",
    "        if each_diff<min_diff: \n",
    "            print(f'Found lowest diff :{each_diff}')\n",
    "            print(f'Best K: {i+2}')\n",
    "            break\n",
    "        else: \n",
    "            min_diff=each_diff\n",
    "    plt.plot(range(3, 15), diff)\n",
    "    kmeans=KMeans(n_clusters=i+2)\n",
    "    kmeans.fit(reduced_data)\n",
    "    labels=kmeans.predict(reduced_data)\n",
    "    result=pd.DataFrame(zip(movement_df.index, labels), columns=['Symbol', 'Cluster'])\n",
    "    result=pd.concat([result, pd.DataFrame(reduced_data)], axis=1)\n",
    "    result.sort_values('Cluster')\n",
    "    print(diff)\n",
    "    return result"
   ]
  },
  {
   "cell_type": "code",
   "execution_count": 228,
   "id": "040cfe66",
   "metadata": {},
   "outputs": [
    {
     "name": "stdout",
     "output_type": "stream",
     "text": [
      "Found lowest diff :-0.23666051928360132\n",
      "Best K: 7\n",
      "[-1.1289936285650977, -0.6153507928788058, -0.3254447959281719, -0.19996039666733423, -0.07828243898040288, -0.23666051928360132, -0.119199235945327, -0.10627442053835712, -0.06832269508670652, -0.06447460368792324, -0.03379301361106157, -0.10057974821765792]\n"
     ]
    },
    {
     "data": {
      "application/vnd.plotly.v1+json": {
       "config": {
        "plotlyServerURL": "https://plot.ly"
       },
       "data": [
        {
         "hovertemplate": "0=%{x}<br>1=%{y}<br>2=%{z}<br>Symbol=%{text}<br>Cluster=%{marker.color}<extra></extra>",
         "legendgroup": "",
         "marker": {
          "color": [
           2,
           2,
           4,
           1,
           0,
           5,
           5,
           0,
           1,
           0,
           0,
           2,
           0,
           0,
           2,
           0,
           1,
           1,
           1,
           3,
           4,
           1,
           3,
           6,
           5,
           2,
           3,
           1,
           3,
           1,
           5,
           3,
           0,
           0,
           3,
           0,
           5,
           0,
           1,
           1,
           3,
           4,
           5,
           0,
           0,
           0,
           3,
           3,
           0,
           3
          ],
          "coloraxis": "coloraxis",
          "opacity": 1,
          "symbol": "circle"
         },
         "mode": "markers+text",
         "name": "",
         "scene": "scene",
         "showlegend": false,
         "text": [
          "AMZN",
          "AAPL",
          "WBA",
          "NOC",
          "BA",
          "LMT",
          "MCD",
          "INTC",
          "NEE",
          "IBM",
          "TXN",
          "MA",
          "MSFT",
          "GE",
          "GOOGL",
          "AXP",
          "PEP",
          "KO",
          "JNJ",
          "GM",
          "HCA",
          "AMGN",
          "JPM",
          "NFLX",
          "UNH",
          "V",
          "VMC",
          "VZ",
          "LNC",
          "WM",
          "TGT",
          "PLD",
          "CVX",
          "PXD",
          "PGR",
          "NUE",
          "TJX",
          "MMM",
          "MDT",
          "LLY",
          "MAS",
          "KR",
          "ABC",
          "AMAT",
          "DE",
          "UPS",
          "LEN",
          "WHR",
          "ADBE",
          "CE"
         ],
         "type": "scatter3d",
         "x": [
          -0.24618776187596214,
          -0.2869425719755358,
          0.11179336872470064,
          0.15980322087629642,
          -0.0022170984240485712,
          0.24163024300489266,
          0.18451375841778914,
          -0.16569388375547459,
          0.393093096005033,
          -0.04483369195561434,
          -0.3659029591833411,
          -0.08837646234454191,
          -0.09697679073129857,
          0.0008823684294075242,
          -0.19436346645222283,
          -0.030269945715560492,
          0.4724548143390426,
          0.3834066297388675,
          0.27594695422922305,
          -0.18460007061587677,
          0.16246661262922188,
          0.23047379882180163,
          -0.07565407806014648,
          -0.3164324992120377,
          0.1603427216151013,
          -0.1445211976041079,
          -0.04268331367909,
          0.3356402051351875,
          -0.09769023484849354,
          0.1986835648852507,
          0.03278476079585832,
          0.0018094024289383196,
          -0.01209171836089545,
          -0.18866755442848607,
          0.11517161509083552,
          -0.24429134600663102,
          0.07313588923053126,
          -0.06544540473743,
          0.22798054789474345,
          0.34556189648426033,
          -0.24929456749267262,
          0.13695082002888104,
          0.11577658130024344,
          -0.3119740071697441,
          -0.16034789832441496,
          -0.0073835800817074635,
          -0.18603090320592952,
          -0.108637607794153,
          -0.21017414789575922,
          -0.2326181081749317
         ],
         "y": [
          0.38268593037733567,
          0.4401983243248956,
          0.2822746721259163,
          -0.05411140020007091,
          -0.05507523742881725,
          0.13699443611571774,
          0.2737286520001512,
          -0.047550098606482474,
          -0.0606692421567749,
          0.06276518739056547,
          -0.03587876385864689,
          0.2860409672314616,
          0.028562009220488998,
          -0.24383864727074078,
          0.21578475704378133,
          -0.05093710802159897,
          0.0520641370820494,
          0.12891285087583165,
          -0.0680424724513833,
          -0.18893142786815248,
          0.010648050977431251,
          -0.042918210847912,
          -0.2821728549260017,
          0.4277855020226049,
          0.08121206086681601,
          0.3194940796390069,
          -0.00662592351285132,
          0.023059081706665725,
          -0.3275108271397932,
          -0.13308369979829976,
          0.09601489210640062,
          -0.13102982450146985,
          -0.12394852037130465,
          -0.11091771477167346,
          -0.20483727701820928,
          -0.24530112578220345,
          0.35655011311389995,
          -0.2230710422955549,
          -0.04285291627729677,
          -0.06214875104866289,
          -0.1921270145457157,
          -0.06357160893972132,
          0.12168743380911795,
          -0.08773842992192767,
          -0.08009627563282165,
          -0.14521909602555982,
          -0.09979604975544493,
          -0.14989923578467404,
          0.02554722702040009,
          -0.19210956829077025
         ],
         "z": [
          -0.07586461294318644,
          -0.08167295425512122,
          0.4181418756388186,
          -0.07823881821249914,
          -0.0974915145362206,
          -0.03383830514625886,
          -0.14421635039728578,
          -0.23466673813583924,
          -0.05534830494918216,
          -0.25718293442980866,
          -0.10953904587316912,
          -0.06920435145792278,
          -0.18699465335093443,
          -0.1455205183185012,
          -0.23602631967972365,
          -0.06373705945454182,
          0.000498981410552018,
          -0.16333900844311988,
          -0.09891109195398738,
          0.14858751526672864,
          0.47558914489033705,
          0.03847352764375305,
          0.03402444192248999,
          0.3051544973067714,
          -0.12312371276047782,
          -0.03176540576319293,
          0.1475355006891444,
          -0.12500973716477082,
          0.011112397526993263,
          0.026001097807917213,
          0.09323513619052852,
          0.11903200632242397,
          -0.13022981386766444,
          0.001703930559327621,
          0.11019896597469235,
          -0.06872890039986018,
          0.09414989650774684,
          -0.16454041784100915,
          -0.062041778790669966,
          0.03411273123869515,
          0.2139760291756647,
          0.2866178567885125,
          -8.798168040114707e-05,
          -0.1152284440924703,
          -0.10736002779546767,
          -0.05669601234069725,
          0.21414008855897618,
          0.30920330258734435,
          -0.0088095765726361,
          0.04392546659920375
         ]
        }
       ],
       "layout": {
        "coloraxis": {
         "colorbar": {
          "title": {
           "text": "Cluster"
          }
         },
         "colorscale": [
          [
           0,
           "#0d0887"
          ],
          [
           0.1111111111111111,
           "#46039f"
          ],
          [
           0.2222222222222222,
           "#7201a8"
          ],
          [
           0.3333333333333333,
           "#9c179e"
          ],
          [
           0.4444444444444444,
           "#bd3786"
          ],
          [
           0.5555555555555556,
           "#d8576b"
          ],
          [
           0.6666666666666666,
           "#ed7953"
          ],
          [
           0.7777777777777778,
           "#fb9f3a"
          ],
          [
           0.8888888888888888,
           "#fdca26"
          ],
          [
           1,
           "#f0f921"
          ]
         ],
         "showscale": false
        },
        "height": 1000,
        "legend": {
         "tracegroupgap": 0
        },
        "margin": {
         "t": 60
        },
        "scene": {
         "domain": {
          "x": [
           0,
           1
          ],
          "y": [
           0,
           1
          ]
         },
         "xaxis": {
          "showticklabels": false,
          "title": {
           "text": "PCA 1"
          }
         },
         "yaxis": {
          "showticklabels": false,
          "title": {
           "text": "PCA 2"
          }
         },
         "zaxis": {
          "showticklabels": false,
          "title": {
           "text": "PCA 3"
          }
         }
        },
        "template": {
         "data": {
          "bar": [
           {
            "error_x": {
             "color": "#2a3f5f"
            },
            "error_y": {
             "color": "#2a3f5f"
            },
            "marker": {
             "line": {
              "color": "#E5ECF6",
              "width": 0.5
             }
            },
            "type": "bar"
           }
          ],
          "barpolar": [
           {
            "marker": {
             "line": {
              "color": "#E5ECF6",
              "width": 0.5
             }
            },
            "type": "barpolar"
           }
          ],
          "carpet": [
           {
            "aaxis": {
             "endlinecolor": "#2a3f5f",
             "gridcolor": "white",
             "linecolor": "white",
             "minorgridcolor": "white",
             "startlinecolor": "#2a3f5f"
            },
            "baxis": {
             "endlinecolor": "#2a3f5f",
             "gridcolor": "white",
             "linecolor": "white",
             "minorgridcolor": "white",
             "startlinecolor": "#2a3f5f"
            },
            "type": "carpet"
           }
          ],
          "choropleth": [
           {
            "colorbar": {
             "outlinewidth": 0,
             "ticks": ""
            },
            "type": "choropleth"
           }
          ],
          "contour": [
           {
            "colorbar": {
             "outlinewidth": 0,
             "ticks": ""
            },
            "colorscale": [
             [
              0,
              "#0d0887"
             ],
             [
              0.1111111111111111,
              "#46039f"
             ],
             [
              0.2222222222222222,
              "#7201a8"
             ],
             [
              0.3333333333333333,
              "#9c179e"
             ],
             [
              0.4444444444444444,
              "#bd3786"
             ],
             [
              0.5555555555555556,
              "#d8576b"
             ],
             [
              0.6666666666666666,
              "#ed7953"
             ],
             [
              0.7777777777777778,
              "#fb9f3a"
             ],
             [
              0.8888888888888888,
              "#fdca26"
             ],
             [
              1,
              "#f0f921"
             ]
            ],
            "type": "contour"
           }
          ],
          "contourcarpet": [
           {
            "colorbar": {
             "outlinewidth": 0,
             "ticks": ""
            },
            "type": "contourcarpet"
           }
          ],
          "heatmap": [
           {
            "colorbar": {
             "outlinewidth": 0,
             "ticks": ""
            },
            "colorscale": [
             [
              0,
              "#0d0887"
             ],
             [
              0.1111111111111111,
              "#46039f"
             ],
             [
              0.2222222222222222,
              "#7201a8"
             ],
             [
              0.3333333333333333,
              "#9c179e"
             ],
             [
              0.4444444444444444,
              "#bd3786"
             ],
             [
              0.5555555555555556,
              "#d8576b"
             ],
             [
              0.6666666666666666,
              "#ed7953"
             ],
             [
              0.7777777777777778,
              "#fb9f3a"
             ],
             [
              0.8888888888888888,
              "#fdca26"
             ],
             [
              1,
              "#f0f921"
             ]
            ],
            "type": "heatmap"
           }
          ],
          "heatmapgl": [
           {
            "colorbar": {
             "outlinewidth": 0,
             "ticks": ""
            },
            "colorscale": [
             [
              0,
              "#0d0887"
             ],
             [
              0.1111111111111111,
              "#46039f"
             ],
             [
              0.2222222222222222,
              "#7201a8"
             ],
             [
              0.3333333333333333,
              "#9c179e"
             ],
             [
              0.4444444444444444,
              "#bd3786"
             ],
             [
              0.5555555555555556,
              "#d8576b"
             ],
             [
              0.6666666666666666,
              "#ed7953"
             ],
             [
              0.7777777777777778,
              "#fb9f3a"
             ],
             [
              0.8888888888888888,
              "#fdca26"
             ],
             [
              1,
              "#f0f921"
             ]
            ],
            "type": "heatmapgl"
           }
          ],
          "histogram": [
           {
            "marker": {
             "colorbar": {
              "outlinewidth": 0,
              "ticks": ""
             }
            },
            "type": "histogram"
           }
          ],
          "histogram2d": [
           {
            "colorbar": {
             "outlinewidth": 0,
             "ticks": ""
            },
            "colorscale": [
             [
              0,
              "#0d0887"
             ],
             [
              0.1111111111111111,
              "#46039f"
             ],
             [
              0.2222222222222222,
              "#7201a8"
             ],
             [
              0.3333333333333333,
              "#9c179e"
             ],
             [
              0.4444444444444444,
              "#bd3786"
             ],
             [
              0.5555555555555556,
              "#d8576b"
             ],
             [
              0.6666666666666666,
              "#ed7953"
             ],
             [
              0.7777777777777778,
              "#fb9f3a"
             ],
             [
              0.8888888888888888,
              "#fdca26"
             ],
             [
              1,
              "#f0f921"
             ]
            ],
            "type": "histogram2d"
           }
          ],
          "histogram2dcontour": [
           {
            "colorbar": {
             "outlinewidth": 0,
             "ticks": ""
            },
            "colorscale": [
             [
              0,
              "#0d0887"
             ],
             [
              0.1111111111111111,
              "#46039f"
             ],
             [
              0.2222222222222222,
              "#7201a8"
             ],
             [
              0.3333333333333333,
              "#9c179e"
             ],
             [
              0.4444444444444444,
              "#bd3786"
             ],
             [
              0.5555555555555556,
              "#d8576b"
             ],
             [
              0.6666666666666666,
              "#ed7953"
             ],
             [
              0.7777777777777778,
              "#fb9f3a"
             ],
             [
              0.8888888888888888,
              "#fdca26"
             ],
             [
              1,
              "#f0f921"
             ]
            ],
            "type": "histogram2dcontour"
           }
          ],
          "mesh3d": [
           {
            "colorbar": {
             "outlinewidth": 0,
             "ticks": ""
            },
            "type": "mesh3d"
           }
          ],
          "parcoords": [
           {
            "line": {
             "colorbar": {
              "outlinewidth": 0,
              "ticks": ""
             }
            },
            "type": "parcoords"
           }
          ],
          "pie": [
           {
            "automargin": true,
            "type": "pie"
           }
          ],
          "scatter": [
           {
            "marker": {
             "colorbar": {
              "outlinewidth": 0,
              "ticks": ""
             }
            },
            "type": "scatter"
           }
          ],
          "scatter3d": [
           {
            "line": {
             "colorbar": {
              "outlinewidth": 0,
              "ticks": ""
             }
            },
            "marker": {
             "colorbar": {
              "outlinewidth": 0,
              "ticks": ""
             }
            },
            "type": "scatter3d"
           }
          ],
          "scattercarpet": [
           {
            "marker": {
             "colorbar": {
              "outlinewidth": 0,
              "ticks": ""
             }
            },
            "type": "scattercarpet"
           }
          ],
          "scattergeo": [
           {
            "marker": {
             "colorbar": {
              "outlinewidth": 0,
              "ticks": ""
             }
            },
            "type": "scattergeo"
           }
          ],
          "scattergl": [
           {
            "marker": {
             "colorbar": {
              "outlinewidth": 0,
              "ticks": ""
             }
            },
            "type": "scattergl"
           }
          ],
          "scattermapbox": [
           {
            "marker": {
             "colorbar": {
              "outlinewidth": 0,
              "ticks": ""
             }
            },
            "type": "scattermapbox"
           }
          ],
          "scatterpolar": [
           {
            "marker": {
             "colorbar": {
              "outlinewidth": 0,
              "ticks": ""
             }
            },
            "type": "scatterpolar"
           }
          ],
          "scatterpolargl": [
           {
            "marker": {
             "colorbar": {
              "outlinewidth": 0,
              "ticks": ""
             }
            },
            "type": "scatterpolargl"
           }
          ],
          "scatterternary": [
           {
            "marker": {
             "colorbar": {
              "outlinewidth": 0,
              "ticks": ""
             }
            },
            "type": "scatterternary"
           }
          ],
          "surface": [
           {
            "colorbar": {
             "outlinewidth": 0,
             "ticks": ""
            },
            "colorscale": [
             [
              0,
              "#0d0887"
             ],
             [
              0.1111111111111111,
              "#46039f"
             ],
             [
              0.2222222222222222,
              "#7201a8"
             ],
             [
              0.3333333333333333,
              "#9c179e"
             ],
             [
              0.4444444444444444,
              "#bd3786"
             ],
             [
              0.5555555555555556,
              "#d8576b"
             ],
             [
              0.6666666666666666,
              "#ed7953"
             ],
             [
              0.7777777777777778,
              "#fb9f3a"
             ],
             [
              0.8888888888888888,
              "#fdca26"
             ],
             [
              1,
              "#f0f921"
             ]
            ],
            "type": "surface"
           }
          ],
          "table": [
           {
            "cells": {
             "fill": {
              "color": "#EBF0F8"
             },
             "line": {
              "color": "white"
             }
            },
            "header": {
             "fill": {
              "color": "#C8D4E3"
             },
             "line": {
              "color": "white"
             }
            },
            "type": "table"
           }
          ]
         },
         "layout": {
          "annotationdefaults": {
           "arrowcolor": "#2a3f5f",
           "arrowhead": 0,
           "arrowwidth": 1
          },
          "coloraxis": {
           "colorbar": {
            "outlinewidth": 0,
            "ticks": ""
           }
          },
          "colorscale": {
           "diverging": [
            [
             0,
             "#8e0152"
            ],
            [
             0.1,
             "#c51b7d"
            ],
            [
             0.2,
             "#de77ae"
            ],
            [
             0.3,
             "#f1b6da"
            ],
            [
             0.4,
             "#fde0ef"
            ],
            [
             0.5,
             "#f7f7f7"
            ],
            [
             0.6,
             "#e6f5d0"
            ],
            [
             0.7,
             "#b8e186"
            ],
            [
             0.8,
             "#7fbc41"
            ],
            [
             0.9,
             "#4d9221"
            ],
            [
             1,
             "#276419"
            ]
           ],
           "sequential": [
            [
             0,
             "#0d0887"
            ],
            [
             0.1111111111111111,
             "#46039f"
            ],
            [
             0.2222222222222222,
             "#7201a8"
            ],
            [
             0.3333333333333333,
             "#9c179e"
            ],
            [
             0.4444444444444444,
             "#bd3786"
            ],
            [
             0.5555555555555556,
             "#d8576b"
            ],
            [
             0.6666666666666666,
             "#ed7953"
            ],
            [
             0.7777777777777778,
             "#fb9f3a"
            ],
            [
             0.8888888888888888,
             "#fdca26"
            ],
            [
             1,
             "#f0f921"
            ]
           ],
           "sequentialminus": [
            [
             0,
             "#0d0887"
            ],
            [
             0.1111111111111111,
             "#46039f"
            ],
            [
             0.2222222222222222,
             "#7201a8"
            ],
            [
             0.3333333333333333,
             "#9c179e"
            ],
            [
             0.4444444444444444,
             "#bd3786"
            ],
            [
             0.5555555555555556,
             "#d8576b"
            ],
            [
             0.6666666666666666,
             "#ed7953"
            ],
            [
             0.7777777777777778,
             "#fb9f3a"
            ],
            [
             0.8888888888888888,
             "#fdca26"
            ],
            [
             1,
             "#f0f921"
            ]
           ]
          },
          "colorway": [
           "#636efa",
           "#EF553B",
           "#00cc96",
           "#ab63fa",
           "#FFA15A",
           "#19d3f3",
           "#FF6692",
           "#B6E880",
           "#FF97FF",
           "#FECB52"
          ],
          "font": {
           "color": "#2a3f5f"
          },
          "geo": {
           "bgcolor": "white",
           "lakecolor": "white",
           "landcolor": "#E5ECF6",
           "showlakes": true,
           "showland": true,
           "subunitcolor": "white"
          },
          "hoverlabel": {
           "align": "left"
          },
          "hovermode": "closest",
          "mapbox": {
           "style": "light"
          },
          "paper_bgcolor": "white",
          "plot_bgcolor": "#E5ECF6",
          "polar": {
           "angularaxis": {
            "gridcolor": "white",
            "linecolor": "white",
            "ticks": ""
           },
           "bgcolor": "#E5ECF6",
           "radialaxis": {
            "gridcolor": "white",
            "linecolor": "white",
            "ticks": ""
           }
          },
          "scene": {
           "xaxis": {
            "backgroundcolor": "#E5ECF6",
            "gridcolor": "white",
            "gridwidth": 2,
            "linecolor": "white",
            "showbackground": true,
            "ticks": "",
            "zerolinecolor": "white"
           },
           "yaxis": {
            "backgroundcolor": "#E5ECF6",
            "gridcolor": "white",
            "gridwidth": 2,
            "linecolor": "white",
            "showbackground": true,
            "ticks": "",
            "zerolinecolor": "white"
           },
           "zaxis": {
            "backgroundcolor": "#E5ECF6",
            "gridcolor": "white",
            "gridwidth": 2,
            "linecolor": "white",
            "showbackground": true,
            "ticks": "",
            "zerolinecolor": "white"
           }
          },
          "shapedefaults": {
           "line": {
            "color": "#2a3f5f"
           }
          },
          "ternary": {
           "aaxis": {
            "gridcolor": "white",
            "linecolor": "white",
            "ticks": ""
           },
           "baxis": {
            "gridcolor": "white",
            "linecolor": "white",
            "ticks": ""
           },
           "bgcolor": "#E5ECF6",
           "caxis": {
            "gridcolor": "white",
            "linecolor": "white",
            "ticks": ""
           }
          },
          "title": {
           "x": 0.05
          },
          "xaxis": {
           "automargin": true,
           "gridcolor": "white",
           "linecolor": "white",
           "ticks": "",
           "title": {
            "standoff": 15
           },
           "zerolinecolor": "white",
           "zerolinewidth": 2
          },
          "yaxis": {
           "automargin": true,
           "gridcolor": "white",
           "linecolor": "white",
           "ticks": "",
           "title": {
            "standoff": 15
           },
           "zerolinecolor": "white",
           "zerolinewidth": 2
          }
         }
        },
        "title": {
         "text": "Overview"
        },
        "width": 1000
       }
      },
      "text/html": [
       "<div>                            <div id=\"51382269-66ab-4613-929f-99d18110466c\" class=\"plotly-graph-div\" style=\"height:1000px; width:1000px;\"></div>            <script type=\"text/javascript\">                require([\"plotly\"], function(Plotly) {                    window.PLOTLYENV=window.PLOTLYENV || {};                                    if (document.getElementById(\"51382269-66ab-4613-929f-99d18110466c\")) {                    Plotly.newPlot(                        \"51382269-66ab-4613-929f-99d18110466c\",                        [{\"hovertemplate\": \"0=%{x}<br>1=%{y}<br>2=%{z}<br>Symbol=%{text}<br>Cluster=%{marker.color}<extra></extra>\", \"legendgroup\": \"\", \"marker\": {\"color\": [2, 2, 4, 1, 0, 5, 5, 0, 1, 0, 0, 2, 0, 0, 2, 0, 1, 1, 1, 3, 4, 1, 3, 6, 5, 2, 3, 1, 3, 1, 5, 3, 0, 0, 3, 0, 5, 0, 1, 1, 3, 4, 5, 0, 0, 0, 3, 3, 0, 3], \"coloraxis\": \"coloraxis\", \"opacity\": 1, \"symbol\": \"circle\"}, \"mode\": \"markers+text\", \"name\": \"\", \"scene\": \"scene\", \"showlegend\": false, \"text\": [\"AMZN\", \"AAPL\", \"WBA\", \"NOC\", \"BA\", \"LMT\", \"MCD\", \"INTC\", \"NEE\", \"IBM\", \"TXN\", \"MA\", \"MSFT\", \"GE\", \"GOOGL\", \"AXP\", \"PEP\", \"KO\", \"JNJ\", \"GM\", \"HCA\", \"AMGN\", \"JPM\", \"NFLX\", \"UNH\", \"V\", \"VMC\", \"VZ\", \"LNC\", \"WM\", \"TGT\", \"PLD\", \"CVX\", \"PXD\", \"PGR\", \"NUE\", \"TJX\", \"MMM\", \"MDT\", \"LLY\", \"MAS\", \"KR\", \"ABC\", \"AMAT\", \"DE\", \"UPS\", \"LEN\", \"WHR\", \"ADBE\", \"CE\"], \"type\": \"scatter3d\", \"x\": [-0.24618776187596214, -0.2869425719755358, 0.11179336872470064, 0.15980322087629642, -0.0022170984240485712, 0.24163024300489266, 0.18451375841778914, -0.16569388375547459, 0.393093096005033, -0.04483369195561434, -0.3659029591833411, -0.08837646234454191, -0.09697679073129857, 0.0008823684294075242, -0.19436346645222283, -0.030269945715560492, 0.4724548143390426, 0.3834066297388675, 0.27594695422922305, -0.18460007061587677, 0.16246661262922188, 0.23047379882180163, -0.07565407806014648, -0.3164324992120377, 0.1603427216151013, -0.1445211976041079, -0.04268331367909, 0.3356402051351875, -0.09769023484849354, 0.1986835648852507, 0.03278476079585832, 0.0018094024289383196, -0.01209171836089545, -0.18866755442848607, 0.11517161509083552, -0.24429134600663102, 0.07313588923053126, -0.06544540473743, 0.22798054789474345, 0.34556189648426033, -0.24929456749267262, 0.13695082002888104, 0.11577658130024344, -0.3119740071697441, -0.16034789832441496, -0.0073835800817074635, -0.18603090320592952, -0.108637607794153, -0.21017414789575922, -0.2326181081749317], \"y\": [0.38268593037733567, 0.4401983243248956, 0.2822746721259163, -0.05411140020007091, -0.05507523742881725, 0.13699443611571774, 0.2737286520001512, -0.047550098606482474, -0.0606692421567749, 0.06276518739056547, -0.03587876385864689, 0.2860409672314616, 0.028562009220488998, -0.24383864727074078, 0.21578475704378133, -0.05093710802159897, 0.0520641370820494, 0.12891285087583165, -0.0680424724513833, -0.18893142786815248, 0.010648050977431251, -0.042918210847912, -0.2821728549260017, 0.4277855020226049, 0.08121206086681601, 0.3194940796390069, -0.00662592351285132, 0.023059081706665725, -0.3275108271397932, -0.13308369979829976, 0.09601489210640062, -0.13102982450146985, -0.12394852037130465, -0.11091771477167346, -0.20483727701820928, -0.24530112578220345, 0.35655011311389995, -0.2230710422955549, -0.04285291627729677, -0.06214875104866289, -0.1921270145457157, -0.06357160893972132, 0.12168743380911795, -0.08773842992192767, -0.08009627563282165, -0.14521909602555982, -0.09979604975544493, -0.14989923578467404, 0.02554722702040009, -0.19210956829077025], \"z\": [-0.07586461294318644, -0.08167295425512122, 0.4181418756388186, -0.07823881821249914, -0.0974915145362206, -0.03383830514625886, -0.14421635039728578, -0.23466673813583924, -0.05534830494918216, -0.25718293442980866, -0.10953904587316912, -0.06920435145792278, -0.18699465335093443, -0.1455205183185012, -0.23602631967972365, -0.06373705945454182, 0.000498981410552018, -0.16333900844311988, -0.09891109195398738, 0.14858751526672864, 0.47558914489033705, 0.03847352764375305, 0.03402444192248999, 0.3051544973067714, -0.12312371276047782, -0.03176540576319293, 0.1475355006891444, -0.12500973716477082, 0.011112397526993263, 0.026001097807917213, 0.09323513619052852, 0.11903200632242397, -0.13022981386766444, 0.001703930559327621, 0.11019896597469235, -0.06872890039986018, 0.09414989650774684, -0.16454041784100915, -0.062041778790669966, 0.03411273123869515, 0.2139760291756647, 0.2866178567885125, -8.798168040114707e-05, -0.1152284440924703, -0.10736002779546767, -0.05669601234069725, 0.21414008855897618, 0.30920330258734435, -0.0088095765726361, 0.04392546659920375]}],                        {\"coloraxis\": {\"colorbar\": {\"title\": {\"text\": \"Cluster\"}}, \"colorscale\": [[0.0, \"#0d0887\"], [0.1111111111111111, \"#46039f\"], [0.2222222222222222, \"#7201a8\"], [0.3333333333333333, \"#9c179e\"], [0.4444444444444444, \"#bd3786\"], [0.5555555555555556, \"#d8576b\"], [0.6666666666666666, \"#ed7953\"], [0.7777777777777778, \"#fb9f3a\"], [0.8888888888888888, \"#fdca26\"], [1.0, \"#f0f921\"]], \"showscale\": false}, \"height\": 1000, \"legend\": {\"tracegroupgap\": 0}, \"margin\": {\"t\": 60}, \"scene\": {\"domain\": {\"x\": [0.0, 1.0], \"y\": [0.0, 1.0]}, \"xaxis\": {\"showticklabels\": false, \"title\": {\"text\": \"PCA 1\"}}, \"yaxis\": {\"showticklabels\": false, \"title\": {\"text\": \"PCA 2\"}}, \"zaxis\": {\"showticklabels\": false, \"title\": {\"text\": \"PCA 3\"}}}, \"template\": {\"data\": {\"bar\": [{\"error_x\": {\"color\": \"#2a3f5f\"}, \"error_y\": {\"color\": \"#2a3f5f\"}, \"marker\": {\"line\": {\"color\": \"#E5ECF6\", \"width\": 0.5}}, \"type\": \"bar\"}], \"barpolar\": [{\"marker\": {\"line\": {\"color\": \"#E5ECF6\", \"width\": 0.5}}, \"type\": \"barpolar\"}], \"carpet\": [{\"aaxis\": {\"endlinecolor\": \"#2a3f5f\", \"gridcolor\": \"white\", \"linecolor\": \"white\", \"minorgridcolor\": \"white\", \"startlinecolor\": \"#2a3f5f\"}, \"baxis\": {\"endlinecolor\": \"#2a3f5f\", \"gridcolor\": \"white\", \"linecolor\": \"white\", \"minorgridcolor\": \"white\", \"startlinecolor\": \"#2a3f5f\"}, \"type\": \"carpet\"}], \"choropleth\": [{\"colorbar\": {\"outlinewidth\": 0, \"ticks\": \"\"}, \"type\": \"choropleth\"}], \"contour\": [{\"colorbar\": {\"outlinewidth\": 0, \"ticks\": \"\"}, \"colorscale\": [[0.0, \"#0d0887\"], [0.1111111111111111, \"#46039f\"], [0.2222222222222222, \"#7201a8\"], [0.3333333333333333, \"#9c179e\"], [0.4444444444444444, \"#bd3786\"], [0.5555555555555556, \"#d8576b\"], [0.6666666666666666, \"#ed7953\"], [0.7777777777777778, \"#fb9f3a\"], [0.8888888888888888, \"#fdca26\"], [1.0, \"#f0f921\"]], \"type\": \"contour\"}], \"contourcarpet\": [{\"colorbar\": {\"outlinewidth\": 0, \"ticks\": \"\"}, \"type\": \"contourcarpet\"}], \"heatmap\": [{\"colorbar\": {\"outlinewidth\": 0, \"ticks\": \"\"}, \"colorscale\": [[0.0, \"#0d0887\"], [0.1111111111111111, \"#46039f\"], [0.2222222222222222, \"#7201a8\"], [0.3333333333333333, \"#9c179e\"], [0.4444444444444444, \"#bd3786\"], [0.5555555555555556, \"#d8576b\"], [0.6666666666666666, \"#ed7953\"], [0.7777777777777778, \"#fb9f3a\"], [0.8888888888888888, \"#fdca26\"], [1.0, \"#f0f921\"]], \"type\": \"heatmap\"}], \"heatmapgl\": [{\"colorbar\": {\"outlinewidth\": 0, \"ticks\": \"\"}, \"colorscale\": [[0.0, \"#0d0887\"], [0.1111111111111111, \"#46039f\"], [0.2222222222222222, \"#7201a8\"], [0.3333333333333333, \"#9c179e\"], [0.4444444444444444, \"#bd3786\"], [0.5555555555555556, \"#d8576b\"], [0.6666666666666666, \"#ed7953\"], [0.7777777777777778, \"#fb9f3a\"], [0.8888888888888888, \"#fdca26\"], [1.0, \"#f0f921\"]], \"type\": \"heatmapgl\"}], \"histogram\": [{\"marker\": {\"colorbar\": {\"outlinewidth\": 0, \"ticks\": \"\"}}, \"type\": \"histogram\"}], \"histogram2d\": [{\"colorbar\": {\"outlinewidth\": 0, \"ticks\": \"\"}, \"colorscale\": [[0.0, \"#0d0887\"], [0.1111111111111111, \"#46039f\"], [0.2222222222222222, \"#7201a8\"], [0.3333333333333333, \"#9c179e\"], [0.4444444444444444, \"#bd3786\"], [0.5555555555555556, \"#d8576b\"], [0.6666666666666666, \"#ed7953\"], [0.7777777777777778, \"#fb9f3a\"], [0.8888888888888888, \"#fdca26\"], [1.0, \"#f0f921\"]], \"type\": \"histogram2d\"}], \"histogram2dcontour\": [{\"colorbar\": {\"outlinewidth\": 0, \"ticks\": \"\"}, \"colorscale\": [[0.0, \"#0d0887\"], [0.1111111111111111, \"#46039f\"], [0.2222222222222222, \"#7201a8\"], [0.3333333333333333, \"#9c179e\"], [0.4444444444444444, \"#bd3786\"], [0.5555555555555556, \"#d8576b\"], [0.6666666666666666, \"#ed7953\"], [0.7777777777777778, \"#fb9f3a\"], [0.8888888888888888, \"#fdca26\"], [1.0, \"#f0f921\"]], \"type\": \"histogram2dcontour\"}], \"mesh3d\": [{\"colorbar\": {\"outlinewidth\": 0, \"ticks\": \"\"}, \"type\": \"mesh3d\"}], \"parcoords\": [{\"line\": {\"colorbar\": {\"outlinewidth\": 0, \"ticks\": \"\"}}, \"type\": \"parcoords\"}], \"pie\": [{\"automargin\": true, \"type\": \"pie\"}], \"scatter\": [{\"marker\": {\"colorbar\": {\"outlinewidth\": 0, \"ticks\": \"\"}}, \"type\": \"scatter\"}], \"scatter3d\": [{\"line\": {\"colorbar\": {\"outlinewidth\": 0, \"ticks\": \"\"}}, \"marker\": {\"colorbar\": {\"outlinewidth\": 0, \"ticks\": \"\"}}, \"type\": \"scatter3d\"}], \"scattercarpet\": [{\"marker\": {\"colorbar\": {\"outlinewidth\": 0, \"ticks\": \"\"}}, \"type\": \"scattercarpet\"}], \"scattergeo\": [{\"marker\": {\"colorbar\": {\"outlinewidth\": 0, \"ticks\": \"\"}}, \"type\": \"scattergeo\"}], \"scattergl\": [{\"marker\": {\"colorbar\": {\"outlinewidth\": 0, \"ticks\": \"\"}}, \"type\": \"scattergl\"}], \"scattermapbox\": [{\"marker\": {\"colorbar\": {\"outlinewidth\": 0, \"ticks\": \"\"}}, \"type\": \"scattermapbox\"}], \"scatterpolar\": [{\"marker\": {\"colorbar\": {\"outlinewidth\": 0, \"ticks\": \"\"}}, \"type\": \"scatterpolar\"}], \"scatterpolargl\": [{\"marker\": {\"colorbar\": {\"outlinewidth\": 0, \"ticks\": \"\"}}, \"type\": \"scatterpolargl\"}], \"scatterternary\": [{\"marker\": {\"colorbar\": {\"outlinewidth\": 0, \"ticks\": \"\"}}, \"type\": \"scatterternary\"}], \"surface\": [{\"colorbar\": {\"outlinewidth\": 0, \"ticks\": \"\"}, \"colorscale\": [[0.0, \"#0d0887\"], [0.1111111111111111, \"#46039f\"], [0.2222222222222222, \"#7201a8\"], [0.3333333333333333, \"#9c179e\"], [0.4444444444444444, \"#bd3786\"], [0.5555555555555556, \"#d8576b\"], [0.6666666666666666, \"#ed7953\"], [0.7777777777777778, \"#fb9f3a\"], [0.8888888888888888, \"#fdca26\"], [1.0, \"#f0f921\"]], \"type\": \"surface\"}], \"table\": [{\"cells\": {\"fill\": {\"color\": \"#EBF0F8\"}, \"line\": {\"color\": \"white\"}}, \"header\": {\"fill\": {\"color\": \"#C8D4E3\"}, \"line\": {\"color\": \"white\"}}, \"type\": \"table\"}]}, \"layout\": {\"annotationdefaults\": {\"arrowcolor\": \"#2a3f5f\", \"arrowhead\": 0, \"arrowwidth\": 1}, \"coloraxis\": {\"colorbar\": {\"outlinewidth\": 0, \"ticks\": \"\"}}, \"colorscale\": {\"diverging\": [[0, \"#8e0152\"], [0.1, \"#c51b7d\"], [0.2, \"#de77ae\"], [0.3, \"#f1b6da\"], [0.4, \"#fde0ef\"], [0.5, \"#f7f7f7\"], [0.6, \"#e6f5d0\"], [0.7, \"#b8e186\"], [0.8, \"#7fbc41\"], [0.9, \"#4d9221\"], [1, \"#276419\"]], \"sequential\": [[0.0, \"#0d0887\"], [0.1111111111111111, \"#46039f\"], [0.2222222222222222, \"#7201a8\"], [0.3333333333333333, \"#9c179e\"], [0.4444444444444444, \"#bd3786\"], [0.5555555555555556, \"#d8576b\"], [0.6666666666666666, \"#ed7953\"], [0.7777777777777778, \"#fb9f3a\"], [0.8888888888888888, \"#fdca26\"], [1.0, \"#f0f921\"]], \"sequentialminus\": [[0.0, \"#0d0887\"], [0.1111111111111111, \"#46039f\"], [0.2222222222222222, \"#7201a8\"], [0.3333333333333333, \"#9c179e\"], [0.4444444444444444, \"#bd3786\"], [0.5555555555555556, \"#d8576b\"], [0.6666666666666666, \"#ed7953\"], [0.7777777777777778, \"#fb9f3a\"], [0.8888888888888888, \"#fdca26\"], [1.0, \"#f0f921\"]]}, \"colorway\": [\"#636efa\", \"#EF553B\", \"#00cc96\", \"#ab63fa\", \"#FFA15A\", \"#19d3f3\", \"#FF6692\", \"#B6E880\", \"#FF97FF\", \"#FECB52\"], \"font\": {\"color\": \"#2a3f5f\"}, \"geo\": {\"bgcolor\": \"white\", \"lakecolor\": \"white\", \"landcolor\": \"#E5ECF6\", \"showlakes\": true, \"showland\": true, \"subunitcolor\": \"white\"}, \"hoverlabel\": {\"align\": \"left\"}, \"hovermode\": \"closest\", \"mapbox\": {\"style\": \"light\"}, \"paper_bgcolor\": \"white\", \"plot_bgcolor\": \"#E5ECF6\", \"polar\": {\"angularaxis\": {\"gridcolor\": \"white\", \"linecolor\": \"white\", \"ticks\": \"\"}, \"bgcolor\": \"#E5ECF6\", \"radialaxis\": {\"gridcolor\": \"white\", \"linecolor\": \"white\", \"ticks\": \"\"}}, \"scene\": {\"xaxis\": {\"backgroundcolor\": \"#E5ECF6\", \"gridcolor\": \"white\", \"gridwidth\": 2, \"linecolor\": \"white\", \"showbackground\": true, \"ticks\": \"\", \"zerolinecolor\": \"white\"}, \"yaxis\": {\"backgroundcolor\": \"#E5ECF6\", \"gridcolor\": \"white\", \"gridwidth\": 2, \"linecolor\": \"white\", \"showbackground\": true, \"ticks\": \"\", \"zerolinecolor\": \"white\"}, \"zaxis\": {\"backgroundcolor\": \"#E5ECF6\", \"gridcolor\": \"white\", \"gridwidth\": 2, \"linecolor\": \"white\", \"showbackground\": true, \"ticks\": \"\", \"zerolinecolor\": \"white\"}}, \"shapedefaults\": {\"line\": {\"color\": \"#2a3f5f\"}}, \"ternary\": {\"aaxis\": {\"gridcolor\": \"white\", \"linecolor\": \"white\", \"ticks\": \"\"}, \"baxis\": {\"gridcolor\": \"white\", \"linecolor\": \"white\", \"ticks\": \"\"}, \"bgcolor\": \"#E5ECF6\", \"caxis\": {\"gridcolor\": \"white\", \"linecolor\": \"white\", \"ticks\": \"\"}}, \"title\": {\"x\": 0.05}, \"xaxis\": {\"automargin\": true, \"gridcolor\": \"white\", \"linecolor\": \"white\", \"ticks\": \"\", \"title\": {\"standoff\": 15}, \"zerolinecolor\": \"white\", \"zerolinewidth\": 2}, \"yaxis\": {\"automargin\": true, \"gridcolor\": \"white\", \"linecolor\": \"white\", \"ticks\": \"\", \"title\": {\"standoff\": 15}, \"zerolinecolor\": \"white\", \"zerolinewidth\": 2}}}, \"title\": {\"text\": \"Overview\"}, \"width\": 1000},                        {\"responsive\": true}                    ).then(function(){\n",
       "                            \n",
       "var gd = document.getElementById('51382269-66ab-4613-929f-99d18110466c');\n",
       "var x = new MutationObserver(function (mutations, observer) {{\n",
       "        var display = window.getComputedStyle(gd).display;\n",
       "        if (!display || display === 'none') {{\n",
       "            console.log([gd, 'removed!']);\n",
       "            Plotly.purge(gd);\n",
       "            observer.disconnect();\n",
       "        }}\n",
       "}});\n",
       "\n",
       "// Listen for the removal of the full notebook cells\n",
       "var notebookContainer = gd.closest('#notebook-container');\n",
       "if (notebookContainer) {{\n",
       "    x.observe(notebookContainer, {childList: true});\n",
       "}}\n",
       "\n",
       "// Listen for the clearing of the current output cell\n",
       "var outputEl = gd.closest('.output');\n",
       "if (outputEl) {{\n",
       "    x.observe(outputEl, {childList: true});\n",
       "}}\n",
       "\n",
       "                        })                };                });            </script>        </div>"
      ]
     },
     "metadata": {},
     "output_type": "display_data"
    },
    {
     "data": {
      "image/png": "[encoded data removed]",
      "text/plain": [
       "<Figure size 432x288 with 1 Axes>"
      ]
     },
     "metadata": {
      "needs_background": "light"
     },
     "output_type": "display_data"
    }
   ],
   "source": [
    "import plotly.express as px\n",
    "import json\n",
    "\n",
    "result=cluster(movement_df)\n",
    "fig=px.scatter_3d(result, x=0, y=1, z=2, color='Cluster', text='Symbol', width=1000, height=1000, opacity=1)\n",
    "fig.update(layout_coloraxis_showscale=False)\n",
    "fig.update_layout(\n",
    "    title='Overview',\n",
    "    scene=dict(\n",
    "        xaxis=dict(\n",
    "            title_text='PCA 1', \n",
    "            showticklabels=False),\n",
    "        yaxis=dict(\n",
    "            title_text='PCA 2', \n",
    "            showticklabels=False),\n",
    "        zaxis=dict(\n",
    "            title_text='PCA 3', \n",
    "            showticklabels=False),\n",
    "        )\n",
    "    )\n",
    "\n",
    "graphJS=json.dumps(fig, cls=plotly.utils.PlotlyJSONEncoder)\n",
    "fig.show()"
   ]
  },
  {
   "cell_type": "code",
   "execution_count": 192,
   "id": "a1ce7d0e",
   "metadata": {
    "scrolled": true
   },
   "outputs": [
    {
     "name": "stdout",
     "output_type": "stream",
     "text": [
      "Found lowest diff :-0.06857244882666874\n",
      "Best K: 8\n"
     ]
    },
    {
     "ename": "TypeError",
     "evalue": "cannot concatenate object of type '<class 'numpy.ndarray'>'; only Series and DataFrame objs are valid",
     "output_type": "error",
     "traceback": [
      "\u001b[0;31m---------------------------------------------------------------------------\u001b[0m",
      "\u001b[0;31mTypeError\u001b[0m                                 Traceback (most recent call last)",
      "\u001b[0;32m<ipython-input-192-1955a3b75572>\u001b[0m in \u001b[0;36m<module>\u001b[0;34m\u001b[0m\n\u001b[0;32m----> 1\u001b[0;31m \u001b[0mcluster\u001b[0m\u001b[0;34m(\u001b[0m\u001b[0mmovement_df\u001b[0m\u001b[0;34m)\u001b[0m\u001b[0;34m\u001b[0m\u001b[0;34m\u001b[0m\u001b[0m\n\u001b[0m",
      "\u001b[0;32m<ipython-input-191-8f0937daf9b9>\u001b[0m in \u001b[0;36mcluster\u001b[0;34m(movement_df)\u001b[0m\n\u001b[1;32m     26\u001b[0m     \u001b[0mlabels\u001b[0m\u001b[0;34m=\u001b[0m\u001b[0mkmeans\u001b[0m\u001b[0;34m.\u001b[0m\u001b[0mpredict\u001b[0m\u001b[0;34m(\u001b[0m\u001b[0mreduced_data\u001b[0m\u001b[0;34m)\u001b[0m\u001b[0;34m\u001b[0m\u001b[0;34m\u001b[0m\u001b[0m\n\u001b[1;32m     27\u001b[0m     \u001b[0mresult\u001b[0m\u001b[0;34m=\u001b[0m\u001b[0mpd\u001b[0m\u001b[0;34m.\u001b[0m\u001b[0mDataFrame\u001b[0m\u001b[0;34m(\u001b[0m\u001b[0mzip\u001b[0m\u001b[0;34m(\u001b[0m\u001b[0mmovement_df\u001b[0m\u001b[0;34m.\u001b[0m\u001b[0mindex\u001b[0m\u001b[0;34m,\u001b[0m \u001b[0mlabels\u001b[0m\u001b[0;34m)\u001b[0m\u001b[0;34m,\u001b[0m \u001b[0mcolumns\u001b[0m\u001b[0;34m=\u001b[0m\u001b[0;34m[\u001b[0m\u001b[0;34m'Symbol'\u001b[0m\u001b[0;34m,\u001b[0m \u001b[0;34m'Cluster'\u001b[0m\u001b[0;34m]\u001b[0m\u001b[0;34m)\u001b[0m\u001b[0;34m\u001b[0m\u001b[0;34m\u001b[0m\u001b[0m\n\u001b[0;32m---> 28\u001b[0;31m     \u001b[0mresult\u001b[0m\u001b[0;34m=\u001b[0m\u001b[0mpd\u001b[0m\u001b[0;34m.\u001b[0m\u001b[0mconcat\u001b[0m\u001b[0;34m(\u001b[0m\u001b[0;34m[\u001b[0m\u001b[0mresult\u001b[0m\u001b[0;34m,\u001b[0m \u001b[0mreduced_data\u001b[0m\u001b[0;34m]\u001b[0m\u001b[0;34m)\u001b[0m\u001b[0;34m\u001b[0m\u001b[0;34m\u001b[0m\u001b[0m\n\u001b[0m\u001b[1;32m     29\u001b[0m     \u001b[0mresult\u001b[0m\u001b[0;34m.\u001b[0m\u001b[0msort_values\u001b[0m\u001b[0;34m(\u001b[0m\u001b[0;34m'Cluster'\u001b[0m\u001b[0;34m)\u001b[0m\u001b[0;34m\u001b[0m\u001b[0;34m\u001b[0m\u001b[0m\n\u001b[1;32m     30\u001b[0m     \u001b[0mprint\u001b[0m\u001b[0;34m(\u001b[0m\u001b[0mdiff\u001b[0m\u001b[0;34m)\u001b[0m\u001b[0;34m\u001b[0m\u001b[0;34m\u001b[0m\u001b[0m\n",
      "\u001b[0;32m~/anaconda3/lib/python3.7/site-packages/pandas/core/reshape/concat.py\u001b[0m in \u001b[0;36mconcat\u001b[0;34m(objs, axis, join, ignore_index, keys, levels, names, verify_integrity, sort, copy)\u001b[0m\n\u001b[1;32m    293\u001b[0m         \u001b[0mverify_integrity\u001b[0m\u001b[0;34m=\u001b[0m\u001b[0mverify_integrity\u001b[0m\u001b[0;34m,\u001b[0m\u001b[0;34m\u001b[0m\u001b[0;34m\u001b[0m\u001b[0m\n\u001b[1;32m    294\u001b[0m         \u001b[0mcopy\u001b[0m\u001b[0;34m=\u001b[0m\u001b[0mcopy\u001b[0m\u001b[0;34m,\u001b[0m\u001b[0;34m\u001b[0m\u001b[0;34m\u001b[0m\u001b[0m\n\u001b[0;32m--> 295\u001b[0;31m         \u001b[0msort\u001b[0m\u001b[0;34m=\u001b[0m\u001b[0msort\u001b[0m\u001b[0;34m,\u001b[0m\u001b[0;34m\u001b[0m\u001b[0;34m\u001b[0m\u001b[0m\n\u001b[0m\u001b[1;32m    296\u001b[0m     )\n\u001b[1;32m    297\u001b[0m \u001b[0;34m\u001b[0m\u001b[0m\n",
      "\u001b[0;32m~/anaconda3/lib/python3.7/site-packages/pandas/core/reshape/concat.py\u001b[0m in \u001b[0;36m__init__\u001b[0;34m(self, objs, axis, join, keys, levels, names, ignore_index, verify_integrity, copy, sort)\u001b[0m\n\u001b[1;32m    368\u001b[0m                     \u001b[0;34m\"only Series and DataFrame objs are valid\"\u001b[0m\u001b[0;34m\u001b[0m\u001b[0;34m\u001b[0m\u001b[0m\n\u001b[1;32m    369\u001b[0m                 )\n\u001b[0;32m--> 370\u001b[0;31m                 \u001b[0;32mraise\u001b[0m \u001b[0mTypeError\u001b[0m\u001b[0;34m(\u001b[0m\u001b[0mmsg\u001b[0m\u001b[0;34m)\u001b[0m\u001b[0;34m\u001b[0m\u001b[0;34m\u001b[0m\u001b[0m\n\u001b[0m\u001b[1;32m    371\u001b[0m \u001b[0;34m\u001b[0m\u001b[0m\n\u001b[1;32m    372\u001b[0m             \u001b[0;31m# consolidate\u001b[0m\u001b[0;34m\u001b[0m\u001b[0;34m\u001b[0m\u001b[0;34m\u001b[0m\u001b[0m\n",
      "\u001b[0;31mTypeError\u001b[0m: cannot concatenate object of type '<class 'numpy.ndarray'>'; only Series and DataFrame objs are valid"
     ]
    },
    {
     "data": {
      "image/png": "[encoded data removed]",
      "text/plain": [
       "<Figure size 432x288 with 1 Axes>"
      ]
     },
     "metadata": {
      "needs_background": "light"
     },
     "output_type": "display_data"
    }
   ],
   "source": [
    "cluster(movement_df)"
   ]
  },
  {
   "cell_type": "code",
   "execution_count": 170,
   "id": "76e2d66b",
   "metadata": {
    "scrolled": true
   },
   "outputs": [
    {
     "data": {
      "text/plain": [
       "[<matplotlib.lines.Line2D at 0x7fcce272f748>]"
      ]
     },
     "execution_count": 170,
     "metadata": {},
     "output_type": "execute_result"
    },
    {
     "data": {
      "image/png": "[encoded data removed]",
      "text/plain": [
       "<Figure size 432x288 with 1 Axes>"
      ]
     },
     "metadata": {
      "needs_background": "light"
     },
     "output_type": "display_data"
    }
   ],
   "source": [
    "plt.plot(list(range(2, 15)), inertia)"
   ]
  },
  {
   "cell_type": "code",
   "execution_count": 133,
   "id": "2bf3ad1f",
   "metadata": {
    "scrolled": false
   },
   "outputs": [
    {
     "data": {
      "text/plain": [
       "[<matplotlib.lines.Line2D at 0x7fcce267c2b0>]"
      ]
     },
     "execution_count": 133,
     "metadata": {},
     "output_type": "execute_result"
    },
    {
     "data": {
      "image/png": "[encoded data removed]",
      "text/plain": [
       "<Figure size 432x288 with 1 Axes>"
      ]
     },
     "metadata": {
      "needs_background": "light"
     },
     "output_type": "display_data"
    }
   ],
   "source": [
    "diff=[inertia[i]-inertia[i-1] for i in range(1, len(inertia))]\n",
    "plt.plot(range(1, len(inertia)), diff)"
   ]
  },
  {
   "cell_type": "code",
   "execution_count": 134,
   "id": "ff36d29b",
   "metadata": {},
   "outputs": [
    {
     "data": {
      "text/plain": [
       "[-1.1289936285650977,\n",
       " -0.6153507928788058,\n",
       " -0.3254447959281719,\n",
       " -0.1681722911216923,\n",
       " -0.1888876847424248,\n",
       " -0.13365328189866665,\n",
       " -0.10511904822555529,\n",
       " -0.1480267879484266,\n",
       " -0.07316416896015865,\n",
       " -0.02547492131516893,\n",
       " -0.12064137375987194,\n",
       " -0.028321829604897708]"
      ]
     },
     "execution_count": 134,
     "metadata": {},
     "output_type": "execute_result"
    }
   ],
   "source": [
    "diff"
   ]
  },
  {
   "cell_type": "code",
   "execution_count": 135,
   "id": "5dfb610d",
   "metadata": {
    "scrolled": true
   },
   "outputs": [
    {
     "data": {
      "text/html": [
       "<div>\n",
       "<style scoped>\n",
       "    .dataframe tbody tr th:only-of-type {\n",
       "        vertical-align: middle;\n",
       "    }\n",
       "\n",
       "    .dataframe tbody tr th {\n",
       "        vertical-align: top;\n",
       "    }\n",
       "\n",
       "    .dataframe thead th {\n",
       "        text-align: right;\n",
       "    }\n",
       "</style>\n",
       "<table border=\"1\" class=\"dataframe\">\n",
       "  <thead>\n",
       "    <tr style=\"text-align: right;\">\n",
       "      <th></th>\n",
       "      <th>Symbol</th>\n",
       "      <th>Cluster</th>\n",
       "    </tr>\n",
       "  </thead>\n",
       "  <tbody>\n",
       "    <tr>\n",
       "      <th>27</th>\n",
       "      <td>VZ</td>\n",
       "      <td>0</td>\n",
       "    </tr>\n",
       "    <tr>\n",
       "      <th>8</th>\n",
       "      <td>NEE</td>\n",
       "      <td>0</td>\n",
       "    </tr>\n",
       "    <tr>\n",
       "      <th>16</th>\n",
       "      <td>PEP</td>\n",
       "      <td>0</td>\n",
       "    </tr>\n",
       "    <tr>\n",
       "      <th>39</th>\n",
       "      <td>LLY</td>\n",
       "      <td>0</td>\n",
       "    </tr>\n",
       "    <tr>\n",
       "      <th>43</th>\n",
       "      <td>AMAT</td>\n",
       "      <td>1</td>\n",
       "    </tr>\n",
       "    <tr>\n",
       "      <th>10</th>\n",
       "      <td>TXN</td>\n",
       "      <td>1</td>\n",
       "    </tr>\n",
       "    <tr>\n",
       "      <th>12</th>\n",
       "      <td>MSFT</td>\n",
       "      <td>2</td>\n",
       "    </tr>\n",
       "    <tr>\n",
       "      <th>44</th>\n",
       "      <td>DE</td>\n",
       "      <td>2</td>\n",
       "    </tr>\n",
       "    <tr>\n",
       "      <th>7</th>\n",
       "      <td>INTC</td>\n",
       "      <td>2</td>\n",
       "    </tr>\n",
       "    <tr>\n",
       "      <th>9</th>\n",
       "      <td>IBM</td>\n",
       "      <td>2</td>\n",
       "    </tr>\n",
       "    <tr>\n",
       "      <th>48</th>\n",
       "      <td>ADBE</td>\n",
       "      <td>2</td>\n",
       "    </tr>\n",
       "    <tr>\n",
       "      <th>36</th>\n",
       "      <td>TJX</td>\n",
       "      <td>3</td>\n",
       "    </tr>\n",
       "    <tr>\n",
       "      <th>47</th>\n",
       "      <td>WHR</td>\n",
       "      <td>4</td>\n",
       "    </tr>\n",
       "    <tr>\n",
       "      <th>46</th>\n",
       "      <td>LEN</td>\n",
       "      <td>4</td>\n",
       "    </tr>\n",
       "    <tr>\n",
       "      <th>19</th>\n",
       "      <td>GM</td>\n",
       "      <td>4</td>\n",
       "    </tr>\n",
       "    <tr>\n",
       "      <th>40</th>\n",
       "      <td>MAS</td>\n",
       "      <td>4</td>\n",
       "    </tr>\n",
       "    <tr>\n",
       "      <th>0</th>\n",
       "      <td>AMZN</td>\n",
       "      <td>5</td>\n",
       "    </tr>\n",
       "    <tr>\n",
       "      <th>11</th>\n",
       "      <td>MA</td>\n",
       "      <td>5</td>\n",
       "    </tr>\n",
       "    <tr>\n",
       "      <th>1</th>\n",
       "      <td>AAPL</td>\n",
       "      <td>5</td>\n",
       "    </tr>\n",
       "    <tr>\n",
       "      <th>14</th>\n",
       "      <td>GOOGL</td>\n",
       "      <td>5</td>\n",
       "    </tr>\n",
       "    <tr>\n",
       "      <th>25</th>\n",
       "      <td>V</td>\n",
       "      <td>5</td>\n",
       "    </tr>\n",
       "    <tr>\n",
       "      <th>34</th>\n",
       "      <td>PGR</td>\n",
       "      <td>6</td>\n",
       "    </tr>\n",
       "    <tr>\n",
       "      <th>31</th>\n",
       "      <td>PLD</td>\n",
       "      <td>6</td>\n",
       "    </tr>\n",
       "    <tr>\n",
       "      <th>30</th>\n",
       "      <td>TGT</td>\n",
       "      <td>6</td>\n",
       "    </tr>\n",
       "    <tr>\n",
       "      <th>26</th>\n",
       "      <td>VMC</td>\n",
       "      <td>6</td>\n",
       "    </tr>\n",
       "    <tr>\n",
       "      <th>42</th>\n",
       "      <td>ABC</td>\n",
       "      <td>7</td>\n",
       "    </tr>\n",
       "    <tr>\n",
       "      <th>24</th>\n",
       "      <td>UNH</td>\n",
       "      <td>7</td>\n",
       "    </tr>\n",
       "    <tr>\n",
       "      <th>5</th>\n",
       "      <td>LMT</td>\n",
       "      <td>7</td>\n",
       "    </tr>\n",
       "    <tr>\n",
       "      <th>6</th>\n",
       "      <td>MCD</td>\n",
       "      <td>7</td>\n",
       "    </tr>\n",
       "    <tr>\n",
       "      <th>17</th>\n",
       "      <td>KO</td>\n",
       "      <td>7</td>\n",
       "    </tr>\n",
       "    <tr>\n",
       "      <th>20</th>\n",
       "      <td>HCA</td>\n",
       "      <td>8</td>\n",
       "    </tr>\n",
       "    <tr>\n",
       "      <th>41</th>\n",
       "      <td>KR</td>\n",
       "      <td>8</td>\n",
       "    </tr>\n",
       "    <tr>\n",
       "      <th>23</th>\n",
       "      <td>NFLX</td>\n",
       "      <td>9</td>\n",
       "    </tr>\n",
       "    <tr>\n",
       "      <th>45</th>\n",
       "      <td>UPS</td>\n",
       "      <td>10</td>\n",
       "    </tr>\n",
       "    <tr>\n",
       "      <th>4</th>\n",
       "      <td>BA</td>\n",
       "      <td>10</td>\n",
       "    </tr>\n",
       "    <tr>\n",
       "      <th>32</th>\n",
       "      <td>CVX</td>\n",
       "      <td>10</td>\n",
       "    </tr>\n",
       "    <tr>\n",
       "      <th>13</th>\n",
       "      <td>GE</td>\n",
       "      <td>10</td>\n",
       "    </tr>\n",
       "    <tr>\n",
       "      <th>37</th>\n",
       "      <td>MMM</td>\n",
       "      <td>10</td>\n",
       "    </tr>\n",
       "    <tr>\n",
       "      <th>15</th>\n",
       "      <td>AXP</td>\n",
       "      <td>10</td>\n",
       "    </tr>\n",
       "    <tr>\n",
       "      <th>22</th>\n",
       "      <td>JPM</td>\n",
       "      <td>11</td>\n",
       "    </tr>\n",
       "    <tr>\n",
       "      <th>49</th>\n",
       "      <td>CE</td>\n",
       "      <td>11</td>\n",
       "    </tr>\n",
       "    <tr>\n",
       "      <th>33</th>\n",
       "      <td>PXD</td>\n",
       "      <td>11</td>\n",
       "    </tr>\n",
       "    <tr>\n",
       "      <th>28</th>\n",
       "      <td>LNC</td>\n",
       "      <td>11</td>\n",
       "    </tr>\n",
       "    <tr>\n",
       "      <th>35</th>\n",
       "      <td>NUE</td>\n",
       "      <td>11</td>\n",
       "    </tr>\n",
       "    <tr>\n",
       "      <th>18</th>\n",
       "      <td>JNJ</td>\n",
       "      <td>12</td>\n",
       "    </tr>\n",
       "    <tr>\n",
       "      <th>21</th>\n",
       "      <td>AMGN</td>\n",
       "      <td>12</td>\n",
       "    </tr>\n",
       "    <tr>\n",
       "      <th>29</th>\n",
       "      <td>WM</td>\n",
       "      <td>12</td>\n",
       "    </tr>\n",
       "    <tr>\n",
       "      <th>3</th>\n",
       "      <td>NOC</td>\n",
       "      <td>12</td>\n",
       "    </tr>\n",
       "    <tr>\n",
       "      <th>38</th>\n",
       "      <td>MDT</td>\n",
       "      <td>12</td>\n",
       "    </tr>\n",
       "    <tr>\n",
       "      <th>2</th>\n",
       "      <td>WBA</td>\n",
       "      <td>13</td>\n",
       "    </tr>\n",
       "  </tbody>\n",
       "</table>\n",
       "</div>"
      ],
      "text/plain": [
       "   Symbol  Cluster\n",
       "27     VZ        0\n",
       "8     NEE        0\n",
       "16    PEP        0\n",
       "39    LLY        0\n",
       "43   AMAT        1\n",
       "10    TXN        1\n",
       "12   MSFT        2\n",
       "44     DE        2\n",
       "7    INTC        2\n",
       "9     IBM        2\n",
       "48   ADBE        2\n",
       "36    TJX        3\n",
       "47    WHR        4\n",
       "46    LEN        4\n",
       "19     GM        4\n",
       "40    MAS        4\n",
       "0    AMZN        5\n",
       "11     MA        5\n",
       "1    AAPL        5\n",
       "14  GOOGL        5\n",
       "25      V        5\n",
       "34    PGR        6\n",
       "31    PLD        6\n",
       "30    TGT        6\n",
       "26    VMC        6\n",
       "42    ABC        7\n",
       "24    UNH        7\n",
       "5     LMT        7\n",
       "6     MCD        7\n",
       "17     KO        7\n",
       "20    HCA        8\n",
       "41     KR        8\n",
       "23   NFLX        9\n",
       "45    UPS       10\n",
       "4      BA       10\n",
       "32    CVX       10\n",
       "13     GE       10\n",
       "37    MMM       10\n",
       "15    AXP       10\n",
       "22    JPM       11\n",
       "49     CE       11\n",
       "33    PXD       11\n",
       "28    LNC       11\n",
       "35    NUE       11\n",
       "18    JNJ       12\n",
       "21   AMGN       12\n",
       "29     WM       12\n",
       "3     NOC       12\n",
       "38    MDT       12\n",
       "2     WBA       13"
      ]
     },
     "execution_count": 135,
     "metadata": {},
     "output_type": "execute_result"
    }
   ],
   "source": [
    "labels=kmeans.predict(reduced_data)\n",
    "result=pd.DataFrame(zip(movement_df.index, labels), columns=['Symbol', 'Cluster'])\n",
    "result.sort_values('Cluster')"
   ]
  },
  {
   "cell_type": "code",
   "execution_count": 18,
   "id": "680eaae8",
   "metadata": {
    "scrolled": true
   },
   "outputs": [
    {
     "name": "stdout",
     "output_type": "stream",
     "text": [
      "done training\n"
     ]
    },
    {
     "data": {
      "text/plain": [
       "array([5, 5, 3, 4, 1, 4, 4, 1, 4, 1, 1, 2, 1, 1, 5, 1, 4, 0, 1, 1, 0, 0,\n",
       "       1, 7, 1, 2, 8, 4, 1, 4, 1, 1, 1, 1, 4, 1, 3, 1, 0, 9, 6, 1, 1, 1,\n",
       "       1, 1, 6, 6, 1, 1], dtype=int32)"
      ]
     },
     "execution_count": 18,
     "metadata": {},
     "output_type": "execute_result"
    }
   ],
   "source": [
    "cluster(movement_df)"
   ]
  },
  {
   "cell_type": "code",
   "execution_count": 229,
   "id": "a7db02e8",
   "metadata": {},
   "outputs": [],
   "source": [
    "import random"
   ]
  },
  {
   "cell_type": "code",
   "execution_count": 231,
   "id": "2b6b7ecc",
   "metadata": {},
   "outputs": [
    {
     "data": {
      "text/plain": [
       "['NEE', 'UNH', 'MMM', 'WBA', 'JNJ']"
      ]
     },
     "execution_count": 231,
     "metadata": {},
     "output_type": "execute_result"
    }
   ],
   "source": [
    "random.sample(sym_list, 5)"
   ]
  },
  {
   "cell_type": "code",
   "execution_count": null,
   "id": "00825d62",
   "metadata": {},
   "outputs": [],
   "source": []
  }
 ],
 "metadata": {
  "kernelspec": {
   "display_name": "Python 3",
   "language": "python",
   "name": "python3"
  },
  "language_info": {
   "codemirror_mode": {
    "name": "ipython",
    "version": 3
   },
   "file_extension": ".py",
   "mimetype": "text/x-python",
   "name": "python",
   "nbconvert_exporter": "python",
   "pygments_lexer": "ipython3",
   "version": "3.7.1"
  }
 },
 "nbformat": 4,
 "nbformat_minor": 5
}
